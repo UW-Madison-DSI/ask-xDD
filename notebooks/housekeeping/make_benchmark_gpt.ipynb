{
 "cells": [
  {
   "attachments": {},
   "cell_type": "markdown",
   "metadata": {},
   "source": [
    "## Test set creation\n",
    "\n",
    "- From `covid_qa_deepset`\n",
    "- 8-2 split, rng = 2023, test n = 404"
   ]
  },
  {
   "cell_type": "code",
   "execution_count": null,
   "metadata": {},
   "outputs": [],
   "source": [
    "from askem.data import COVID_QA, GPTBench\n",
    "from askem.openai import get_answer\n",
    "from tqdm.notebook import tqdm\n",
    "\n",
    "test_data = COVID_QA.train_test_split(test_size=0.2, seed=2023)[\"test\"]\n",
    "test_data"
   ]
  },
  {
   "attachments": {},
   "cell_type": "markdown",
   "metadata": {},
   "source": [
    "## Query ChatGPT\n",
    "gpt-3.5-turbo-0301\n",
    "\n",
    "Run once"
   ]
  },
  {
   "cell_type": "code",
   "execution_count": null,
   "metadata": {},
   "outputs": [],
   "source": [
    "# done_ids = [row.id for row in GPTBench.select(GPTBench.id)]\n",
    "\n",
    "# for data in tqdm(test_data):\n",
    "#     if data[\"id\"] in done_ids:\n",
    "#         continue\n",
    "\n",
    "#     gpt_answer = get_answer(data[\"context\"], data[\"question\"])\n",
    "#     GPTBench.insert(\n",
    "#         id=data[\"id\"],\n",
    "#         context=data[\"context\"],\n",
    "#         question=data[\"question\"],\n",
    "#         true_answer=data[\"answers\"],\n",
    "#         gpt_answer=gpt_answer,\n",
    "#     ).on_conflict_ignore().execute()"
   ]
  },
  {
   "attachments": {},
   "cell_type": "markdown",
   "metadata": {},
   "source": [
    "## Calculate BERT-f1"
   ]
  },
  {
   "cell_type": "code",
   "execution_count": null,
   "metadata": {},
   "outputs": [],
   "source": [
    "from askem.data import GPTBench, to_df\n",
    "from ast import literal_eval\n",
    "from bert_score import score\n",
    "\n",
    "df = to_df(GPTBench)\n",
    "df[[\"id\", \"true_answer\", \"gpt_answer\"]]"
   ]
  },
  {
   "cell_type": "code",
   "execution_count": null,
   "metadata": {},
   "outputs": [],
   "source": [
    "def to_text(true_answer: str) -> str:\n",
    "    \"\"\"Strip the true answer to text.\"\"\"\n",
    "    return literal_eval(true_answer)[\"text\"][0]\n",
    "\n",
    "\n",
    "y_true = [to_text(x) for x in df[\"true_answer\"]]\n",
    "y_pred = df[\"gpt_answer\"].tolist()\n",
    "\n",
    "precision, recall, f1 = score(y_true, y_pred, lang=\"en\", verbose=True)\n"
   ]
  },
  {
   "attachments": {},
   "cell_type": "markdown",
   "metadata": {},
   "source": [
    "Save to parquet for easier access"
   ]
  },
  {
   "cell_type": "code",
   "execution_count": null,
   "metadata": {},
   "outputs": [],
   "source": [
    "df[\"precision\"] = precision.numpy()\n",
    "df[\"recall\"] = recall.numpy()\n",
    "df[\"f1\"] = f1.numpy()\n",
    "df.to_parquet(\"data/gpt_bench.parquet\")"
   ]
  },
  {
   "attachments": {},
   "cell_type": "markdown",
   "metadata": {},
   "source": [
    "## Visualize"
   ]
  },
  {
   "cell_type": "code",
   "execution_count": null,
   "metadata": {},
   "outputs": [],
   "source": [
    "import pandas as pd\n",
    "import altair as alt\n",
    "\n",
    "df = pd.read_parquet(\"data/gpt_bench.parquet\")\n",
    "alt.Chart(df).mark_bar().encode(\n",
    "    x=alt.X(\"f1\", bin=alt.Bin()),\n",
    "    y=\"count()\",\n",
    ")\n"
   ]
  },
  {
   "cell_type": "code",
   "execution_count": null,
   "metadata": {},
   "outputs": [],
   "source": [
    "print(f\"ChatGPT BERT-f1 with COVID-QA: {df.f1.mean():.4f}\")\n"
   ]
  }
 ],
 "metadata": {
  "kernelspec": {
   "display_name": "base",
   "language": "python",
   "name": "python3"
  },
  "language_info": {
   "codemirror_mode": {
    "name": "ipython",
    "version": 3
   },
   "file_extension": ".py",
   "mimetype": "text/x-python",
   "name": "python",
   "nbconvert_exporter": "python",
   "pygments_lexer": "ipython3",
   "version": "3.8.13"
  },
  "vscode": {
   "interpreter": {
    "hash": "d4d1e4263499bec80672ea0156c357c1ee493ec2b1c70f0acce89fc37c4a6abe"
   }
  }
 },
 "nbformat": 4,
 "nbformat_minor": 2
}
