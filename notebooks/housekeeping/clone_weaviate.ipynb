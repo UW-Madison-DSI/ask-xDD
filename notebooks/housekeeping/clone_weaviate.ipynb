{
 "cells": [
  {
   "cell_type": "markdown",
   "metadata": {},
   "source": [
    "# Cloning the data from a weaviate instance to another"
   ]
  },
  {
   "cell_type": "code",
   "execution_count": null,
   "metadata": {},
   "outputs": [],
   "source": [
    "import os\n",
    "import sys\n",
    "import weaviate\n",
    "from dotenv import load_dotenv\n",
    "from askem.retriever.migrate import convert_data, MigrationManager\n",
    "\n",
    "load_dotenv()\n",
    "sys.path.append(\"./askem/retriever\")"
   ]
  },
  {
   "cell_type": "markdown",
   "metadata": {},
   "source": [
    "Note that the convert data function will rename `type` into `doc_type`."
   ]
  },
  {
   "cell_type": "markdown",
   "metadata": {},
   "source": [
    "Create all clients"
   ]
  },
  {
   "cell_type": "code",
   "execution_count": null,
   "metadata": {},
   "outputs": [],
   "source": [
    "test_client = weaviate.Client(\n",
    "    url=\"http://weaviate:8080\",\n",
    "    auth_client_secret=weaviate.AuthApiKey(api_key=os.getenv(\"WEAVIATE_APIKEY\")),\n",
    ")\n",
    "\n",
    "askem_client = weaviate.Client(\n",
    "    url=\"http://cosmos0001.chtc.wisc.edu:8080\",\n",
    "    auth_client_secret=weaviate.AuthApiKey(api_key=os.getenv(\"WEAVIATE_APIKEY\")),\n",
    ")\n",
    "\n",
    "DOLOMITE_KEY = input(\"Enter the Dolomite weaviate API key: \")\n",
    "\n",
    "dolomite_client = weaviate.Client(\n",
    "    url=\"http://cosmos0004.chtc.wisc.edu:8080\",\n",
    "    auth_client_secret=weaviate.AuthApiKey(api_key=DOLOMITE_KEY),\n",
    ")"
   ]
  },
  {
   "cell_type": "markdown",
   "metadata": {},
   "source": [
    "Use a new testing weaviate instance for safety"
   ]
  },
  {
   "cell_type": "code",
   "execution_count": null,
   "metadata": {},
   "outputs": [],
   "source": [
    "from askem.retriever.base import init_retriever\n",
    "\n",
    "test_client.schema.delete_all()\n",
    "init_retriever(test_client, version=1)\n",
    "test_client.query.aggregate(\"Passage\").with_meta_count().do()"
   ]
  },
  {
   "cell_type": "markdown",
   "metadata": {},
   "source": [
    "Clone from ASKEM to TEST"
   ]
  },
  {
   "cell_type": "code",
   "execution_count": null,
   "metadata": {},
   "outputs": [],
   "source": [
    "askem_migration = MigrationManager(\n",
    "    source_client=askem_client,\n",
    "    destination_client=test_client,\n",
    "    class_name=\"Passage\",\n",
    ")"
   ]
  },
  {
   "cell_type": "code",
   "execution_count": null,
   "metadata": {},
   "outputs": [],
   "source": [
    "askem_migration.clone(\n",
    "    batch_size=1000,\n",
    "    source_properties=[\"paper_id\", \"topic\", \"preprocessor_id\", \"type\", \"text_content\"],\n",
    "    parsing_function=convert_data,\n",
    "    debug=True,  # Remove this to actually run the entire migration\n",
    ")"
   ]
  },
  {
   "cell_type": "code",
   "execution_count": null,
   "metadata": {},
   "outputs": [],
   "source": [
    "askem_migration.destination_client.query.aggregate(\"Passage\").with_meta_count().do()"
   ]
  },
  {
   "cell_type": "markdown",
   "metadata": {},
   "source": [
    "Clone Dolomite to TEST"
   ]
  },
  {
   "cell_type": "code",
   "execution_count": null,
   "metadata": {},
   "outputs": [],
   "source": [
    "dolomite_migration = MigrationManager(\n",
    "    source_client=dolomite_client,\n",
    "    destination_client=test_client,\n",
    "    class_name=\"Passage\",\n",
    ")"
   ]
  },
  {
   "cell_type": "code",
   "execution_count": null,
   "metadata": {},
   "outputs": [],
   "source": [
    "dolomite_migration.clone(\n",
    "    batch_size=1000,\n",
    "    source_properties=[\"paper_id\", \"topic\", \"preprocessor_id\", \"type\", \"text_content\"],\n",
    "    parsing_function=convert_data,\n",
    "    debug=True,  # Remove this to actually run the entire migration\n",
    ")"
   ]
  },
  {
   "cell_type": "code",
   "execution_count": null,
   "metadata": {},
   "outputs": [],
   "source": [
    "dolomite_migration.destination_client.query.aggregate(\"Passage\").with_meta_count().do()"
   ]
  }
 ],
 "metadata": {
  "kernelspec": {
   "display_name": "askem",
   "language": "python",
   "name": "python3"
  },
  "language_info": {
   "codemirror_mode": {
    "name": "ipython",
    "version": 3
   },
   "file_extension": ".py",
   "mimetype": "text/x-python",
   "name": "python",
   "nbconvert_exporter": "python",
   "pygments_lexer": "ipython3",
   "version": "3.11.4"
  }
 },
 "nbformat": 4,
 "nbformat_minor": 2
}
