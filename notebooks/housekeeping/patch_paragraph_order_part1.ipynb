{
 "cells": [
  {
   "cell_type": "markdown",
   "metadata": {},
   "source": [
    "# Add paragraph ordering"
   ]
  },
  {
   "cell_type": "markdown",
   "metadata": {},
   "source": [
    "1. Gather a master list of docid.\n",
    "1. Subset docid from Geoarchive, CriticalMASS.\n",
    "1. For each docid, call preprocessorv2 (v1 + paragraph ordering).\n",
    "1. Compare hashed_text for each paragraph. If unchanged, retrieve embedding data from existing Weaviate.\n",
    "1. If changed, drop paragraphs with the same docid and reprocess everything in it."
   ]
  },
  {
   "cell_type": "markdown",
   "metadata": {},
   "source": [
    "### Step 1: Gather a master list of docid."
   ]
  },
  {
   "cell_type": "code",
   "execution_count": null,
   "metadata": {},
   "outputs": [],
   "source": [
    "import sys\n",
    "sys.path.append(\"/hdd/clo36/repo/ask-xDD/askem/retriever\")"
   ]
  },
  {
   "cell_type": "code",
   "execution_count": null,
   "metadata": {},
   "outputs": [],
   "source": [
    "# import pickle\n",
    "# from askem.elastic import DocumentTopicFactory\n",
    "# id2topics_factory = DocumentTopicFactory()\n",
    "# id2topics = id2topics_factory.run()\n",
    "# with open(\"tmp/id2topics.pkl\", \"wb\") as f:\n",
    "#     pickle.dump(id2topics, f)"
   ]
  },
  {
   "cell_type": "code",
   "execution_count": null,
   "metadata": {},
   "outputs": [],
   "source": [
    "import pickle\n",
    "with open(\"tmp/id2topics.pkl\", \"rb\") as input_file:\n",
    "    id2topics = pickle.load(input_file)"
   ]
  },
  {
   "cell_type": "markdown",
   "metadata": {},
   "source": [
    "### Step 2: Subset docid from Geoarchive, CriticalMASS."
   ]
  },
  {
   "cell_type": "code",
   "execution_count": null,
   "metadata": {},
   "outputs": [],
   "source": [
    "ids_to_patch = []\n",
    "target_topics = [\"criticalmaas\", \"geoarchive\"]\n",
    "for k, v in id2topics.items():\n",
    "    if any([t in v for t in target_topics]):\n",
    "        ids_to_patch.append(k)\n",
    "\n",
    "print(f\"Found {len(ids_to_patch)} documents to patch\")"
   ]
  },
  {
   "cell_type": "markdown",
   "metadata": {},
   "source": [
    "### Step 3: For each docid, call preprocessorv2 (v1 + paragraph ordering)."
   ]
  },
  {
   "cell_type": "code",
   "execution_count": null,
   "metadata": {},
   "outputs": [],
   "source": [
    "from askem.preprocessing import HaystackPreprocessor\n",
    "from askem.ingest_v2 import WeaviateIngester\n",
    "from askem.retriever.base import get_client\n"
   ]
  },
  {
   "cell_type": "code",
   "execution_count": null,
   "metadata": {},
   "outputs": [],
   "source": [
    "preprocessor = HaystackPreprocessor()\n",
    "weaviate_client = get_client()\n",
    "ingester = WeaviateIngester(\n",
    "    client=weaviate_client,\n",
    "    class_name=\"Paragraph\",\n",
    "    id2topics=id2topics,\n",
    "    ingested=set(),\n",
    ")"
   ]
  },
  {
   "cell_type": "code",
   "execution_count": null,
   "metadata": {},
   "outputs": [],
   "source": [
    "# Add new paragraph_order property\n",
    "\n",
    "# add_prop = {\n",
    "#   \"name\": \"paragraph_order\",\n",
    "#   \"dataType\": [\"int\"],\n",
    "#   \"moduleConfig\": {\"text2vec-transformers\": {\"skip\": True}}\n",
    "# }\n",
    "\n",
    "# weaviate_client.schema.property.create(\"Paragraph\", add_prop)"
   ]
  },
  {
   "cell_type": "code",
   "execution_count": null,
   "metadata": {},
   "outputs": [],
   "source": [
    "def get_weaviate_paragraph(doc_id: str, hashed_text: str | None = None) -> dict:\n",
    "    \"\"\"Get a paragraph from weaviate by paper_id and hashed_text\"\"\"\n",
    "\n",
    "    where_filter = {\"operator\": \"And\", \"operands\": []}\n",
    "    where_filter[\"operands\"].append({\"path\":\"paper_id\", \"operator\":\"Equal\", \"valueText\": doc_id})\n",
    "    if hashed_text:\n",
    "        where_filter[\"operands\"].append({\"path\":\"hashed_text\", \"operator\":\"Equal\", \"valueText\": hashed_text})\n",
    "    return weaviate_client.query.get(\"Paragraph\", [\"paper_id\", \"hashed_text\", \"paragraph_order\"]).with_where(where_filter).with_additional(\"id\").with_limit(10000).do()"
   ]
  },
  {
   "cell_type": "code",
   "execution_count": null,
   "metadata": {},
   "outputs": [],
   "source": [
    "from tqdm import tqdm\n",
    "\n",
    "def patch(doc_id: str) -> None:\n",
    "    ingester.write_batch_to_file([doc_id])\n",
    "    input_file = ingester.files_to_ingest[0]\n",
    "    new_paragraphs = preprocessor.run(input_file=input_file, topics=id2topics[doc_id], doc_type=\"paragraph\")\n",
    "\n",
    "    # Check if all paragraphs are unchanged\n",
    "    new_hashes = {p[\"hashed_text\"] for p in new_paragraphs}\n",
    "    assert len(new_hashes) <= 10000\n",
    "    old_paragraphs = get_weaviate_paragraph(doc_id=doc_id)\n",
    "    old_records = old_paragraphs[\"data\"][\"Get\"][\"Paragraph\"]\n",
    "    old_hashes = {p[\"hashed_text\"] for p in old_records}\n",
    "    assert old_hashes == new_hashes, f\"Old hashes: {len(old_hashes)}, New hashes: {len(new_hashes)}\"\n",
    "\n",
    "    # Create hash to uuid mapping\n",
    "    hash2uuid = {p[\"hashed_text\"]: p[\"_additional\"][\"id\"] for p in old_records}\n",
    "\n",
    "    # Create skip list (already has order, for resuming)\n",
    "    skip = {p[\"hashed_text\"] for p in old_records if p[\"paragraph_order\"] is not None}\n",
    "\n",
    "    # Patch on batch\n",
    "    for new in tqdm(new_paragraphs):\n",
    "        \n",
    "        # Skip already has order\n",
    "        if new[\"hashed_text\"] in skip:\n",
    "            continue\n",
    "\n",
    "        weaviate_client.data_object.update(\n",
    "            uuid=hash2uuid[new[\"hashed_text\"]],\n",
    "            class_name=\"Paragraph\",\n",
    "            data_object={\n",
    "                \"paragraph_order\": new[\"paragraph_order\"],\n",
    "            }\n",
    "        )\n",
    "    \n"
   ]
  },
  {
   "cell_type": "code",
   "execution_count": null,
   "metadata": {},
   "outputs": [],
   "source": [
    "import json\n",
    "status = {'success': [], 'fail': []}\n",
    "\n",
    "for doc_id in tqdm(ids_to_patch):\n",
    "    ingester.purge_ingest_folder()\n",
    "    try:\n",
    "        patch(doc_id)\n",
    "        status['success'].append(doc_id)\n",
    "    except Exception as e:\n",
    "        print(f\"Failed to patch {doc_id}: {e}\")\n",
    "        status['fail'].append(doc_id)\n",
    "        continue\n",
    "\n",
    "with open(\"tmp/patch_status.json\", \"w\") as f:\n",
    "    json.dump(status, f)"
   ]
  }
 ],
 "metadata": {
  "accelerator": "GPU",
  "colab": {
   "gpuType": "T4",
   "provenance": []
  },
  "gpuClass": "standard",
  "kernelspec": {
   "display_name": "base",
   "language": "python",
   "name": "python3"
  },
  "language_info": {
   "codemirror_mode": {
    "name": "ipython",
    "version": 3
   },
   "file_extension": ".py",
   "mimetype": "text/x-python",
   "name": "python",
   "nbconvert_exporter": "python",
   "pygments_lexer": "ipython3",
   "version": "3.10.0"
  },
  "vscode": {
   "interpreter": {
    "hash": "d4d1e4263499bec80672ea0156c357c1ee493ec2b1c70f0acce89fc37c4a6abe"
   }
  }
 },
 "nbformat": 4,
 "nbformat_minor": 0
}
