{
 "cells": [
  {
   "cell_type": "code",
   "execution_count": null,
   "metadata": {},
   "outputs": [],
   "source": [
    "import os\n",
    "from dotenv import load_dotenv\n",
    "import weaviate\n",
    "from tqdm import tqdm\n",
    "\n",
    "load_dotenv()\n",
    "\n",
    "WEAVIATE_URL = os.getenv(\"WEAVIATE_URL\")\n",
    "WEAVIATE_APIKEY = os.getenv(\"WEAVIATE_APIKEY\")\n",
    "print(WEAVIATE_URL)"
   ]
  },
  {
   "cell_type": "markdown",
   "metadata": {},
   "source": [
    "Create client"
   ]
  },
  {
   "cell_type": "code",
   "execution_count": null,
   "metadata": {},
   "outputs": [],
   "source": [
    "client = weaviate.Client(\n",
    "    url=WEAVIATE_URL, auth_client_secret=weaviate.AuthApiKey(api_key=WEAVIATE_APIKEY)\n",
    ")\n",
    "\n",
    "schema = client.schema.get()\n",
    "client.query.aggregate(\"Passage\").with_meta_count().do()"
   ]
  },
  {
   "cell_type": "markdown",
   "metadata": {},
   "source": [
    "Check properties"
   ]
  },
  {
   "cell_type": "code",
   "execution_count": null,
   "metadata": {},
   "outputs": [],
   "source": [
    "schema = client.schema.get()\n",
    "all_properties = [x[\"name\"] for x in schema[\"classes\"][0][\"properties\"]]\n",
    "print(all_properties)"
   ]
  },
  {
   "cell_type": "code",
   "execution_count": null,
   "metadata": {},
   "outputs": [],
   "source": [
    "def get_batch_with_cursor(client, class_name, class_properties, batch_size, cursor):\n",
    "    query = (\n",
    "        client.query.get(class_name, class_properties)\n",
    "        .with_additional([\"id\"])\n",
    "        .with_limit(batch_size)\n",
    "    )\n",
    "\n",
    "    if cursor is not None:\n",
    "        return query.with_after(cursor).do()\n",
    "    else:\n",
    "        return query.do()"
   ]
  },
  {
   "cell_type": "code",
   "execution_count": null,
   "metadata": {},
   "outputs": [],
   "source": [
    "def patch_all(\n",
    "    client, batch_size: int = 5000, class_name: str = \"Passage\", resume_from: int = 0\n",
    ") -> None:\n",
    "    \"\"\"Append terms to all records.\"\"\"\n",
    "\n",
    "    cursor = None\n",
    "    n = (\n",
    "        client.query.aggregate(class_name)\n",
    "        .with_meta_count()\n",
    "        .do()[\"data\"][\"Aggregate\"][class_name][0][\"meta\"][\"count\"]\n",
    "    )\n",
    "    print(f\"Total number of objects: {n}\")\n",
    "\n",
    "    with tqdm(total=n) as progress_bar:\n",
    "        while True:\n",
    "            # Fetch a batch of objects\n",
    "            results = get_batch_with_cursor(\n",
    "                client, class_name, [\"topic\", \"doc_type\"], batch_size, cursor\n",
    "            )\n",
    "\n",
    "            # Stop if there are no more results\n",
    "            if not results[\"data\"][\"Get\"][class_name]:\n",
    "                break\n",
    "\n",
    "            objects = results[\"data\"][\"Get\"][class_name]\n",
    "            cursor = objects[-1][\"_additional\"][\"id\"]\n",
    "\n",
    "            # Skip if we are not at the resume point yet\n",
    "            if progress_bar.n < resume_from:\n",
    "                progress_bar.update(batch_size)\n",
    "                continue\n",
    "\n",
    "            # Update the objects\n",
    "            for obj in objects:\n",
    "                if obj[\"topic\"] == \"climate_change\":\n",
    "                    client.data_object.update(\n",
    "                        uuid=obj[\"_additional\"][\"id\"],\n",
    "                        class_name=class_name,\n",
    "                        data_object={\"doc_type\": \"paragraph\"},\n",
    "                    )\n",
    "            progress_bar.update(batch_size)"
   ]
  },
  {
   "cell_type": "code",
   "execution_count": null,
   "metadata": {},
   "outputs": [],
   "source": [
    "patch_all(client=client, batch_size=1000, resume_from=7179000)"
   ]
  },
  {
   "cell_type": "markdown",
   "metadata": {},
   "source": [
    "- Double check all doc_type is not None\n",
    "- Keep `type` field for now... but it is useless\n"
   ]
  },
  {
   "cell_type": "code",
   "execution_count": null,
   "metadata": {},
   "outputs": [],
   "source": [
    "where_filter = {\n",
    "    \"operator\": \"And\",\n",
    "    \"operands\": [\n",
    "        {\"path\": [\"topic\"], \"operator\": \"Equal\", \"valueText\": \"climate_change\"},\n",
    "        {\"path\": [\"doc_type\"], \"operator\": \"NotEqual\", \"valueText\": \"paragraph\"},\n",
    "    ],\n",
    "}"
   ]
  },
  {
   "cell_type": "code",
   "execution_count": null,
   "metadata": {},
   "outputs": [],
   "source": [
    "client.query.get(\"Passage\", [\"paper_id\", \"topic\", \"doc_type\"]).with_where(\n",
    "    where_filter\n",
    ").with_limit(10).do()"
   ]
  }
 ],
 "metadata": {
  "accelerator": "GPU",
  "colab": {
   "gpuType": "T4",
   "provenance": []
  },
  "gpuClass": "standard",
  "kernelspec": {
   "display_name": "base",
   "language": "python",
   "name": "python3"
  },
  "language_info": {
   "codemirror_mode": {
    "name": "ipython",
    "version": 3
   },
   "file_extension": ".py",
   "mimetype": "text/x-python",
   "name": "python",
   "nbconvert_exporter": "python",
   "pygments_lexer": "ipython3",
   "version": "3.11.4"
  },
  "vscode": {
   "interpreter": {
    "hash": "d4d1e4263499bec80672ea0156c357c1ee493ec2b1c70f0acce89fc37c4a6abe"
   }
  }
 },
 "nbformat": 4,
 "nbformat_minor": 0
}
