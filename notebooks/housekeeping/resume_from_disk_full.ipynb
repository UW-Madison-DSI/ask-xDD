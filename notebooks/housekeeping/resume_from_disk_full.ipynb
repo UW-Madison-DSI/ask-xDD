{
 "cells": [
  {
   "cell_type": "markdown",
   "metadata": {},
   "source": [
    "Weaviate will switch to read-only mode when disk space is running out. \n",
    "\n",
    "To recover from this situation, you can either free up disk space or increase the disk space, then run the following script"
   ]
  },
  {
   "cell_type": "code",
   "execution_count": null,
   "metadata": {},
   "outputs": [],
   "source": [
    "import os\n",
    "import weaviate\n",
    "from dotenv import load_dotenv\n",
    "\n",
    "load_dotenv()\n",
    "\n",
    "weaviate_apikey = os.getenv(\"WEAVIATE_APIKEY\")\n",
    "url = os.getenv(\"WEAVIATE_URL\", \"http://localhost:8080\")\n",
    "\n",
    "print(url)\n",
    "auth = weaviate.auth.AuthApiKey(weaviate_apikey)\n",
    "client = weaviate.Client(url, auth_client_secret=auth)"
   ]
  },
  {
   "cell_type": "markdown",
   "metadata": {},
   "source": [
    "Check current status"
   ]
  },
  {
   "cell_type": "code",
   "execution_count": null,
   "metadata": {},
   "outputs": [],
   "source": [
    "client.schema.get_class_shards(\"Paragraph\")"
   ]
  },
  {
   "cell_type": "markdown",
   "metadata": {},
   "source": [
    "Switch to read-write mode"
   ]
  },
  {
   "cell_type": "code",
   "execution_count": null,
   "metadata": {},
   "outputs": [],
   "source": [
    "client.schema.update_class_shard(class_name=\"Paragraph\", status=\"READY\")"
   ]
  }
 ],
 "metadata": {
  "kernelspec": {
   "display_name": "Python 3",
   "language": "python",
   "name": "python3"
  },
  "language_info": {
   "codemirror_mode": {
    "name": "ipython",
    "version": 3
   },
   "file_extension": ".py",
   "mimetype": "text/x-python",
   "name": "python",
   "nbconvert_exporter": "python",
   "pygments_lexer": "ipython3",
   "version": "3.10.0"
  }
 },
 "nbformat": 4,
 "nbformat_minor": 2
}
