{
 "cells": [
  {
   "cell_type": "code",
   "execution_count": null,
   "metadata": {},
   "outputs": [],
   "source": [
    "import weaviate\n",
    "from tqdm import tqdm\n",
    "import os\n",
    "from dotenv import load_dotenv\n",
    "\n",
    "load_dotenv()\n",
    "\n",
    "\n",
    "def get_batch_with_cursor(\n",
    "    client, class_name, class_properties, batch_size, cursor=None\n",
    "):\n",
    "    query = (\n",
    "        client.query.get(class_name, class_properties)\n",
    "        .with_additional([\"id\"])\n",
    "        .with_limit(batch_size)\n",
    "    )\n",
    "\n",
    "    if cursor is not None:\n",
    "        return query.with_after(cursor).do()\n",
    "    else:\n",
    "        return query.do()"
   ]
  },
  {
   "cell_type": "code",
   "execution_count": null,
   "metadata": {},
   "outputs": [],
   "source": [
    "source_client = weaviate.Client(\n",
    "    url=os.getenv(\"WEAVIATE_URL\"),\n",
    "    auth_client_secret=weaviate.AuthApiKey(api_key=os.getenv(\"WEAVIATE_APIKEY\")),\n",
    ")\n",
    "\n",
    "\n",
    "def count_docs(\n",
    "    client: weaviate.Client,\n",
    "    class_name: str = \"Passage\",\n",
    "    batch_size: int = 5000,\n",
    ") -> dict:\n",
    "    \"\"\"Count the number of documents in a topic.\"\"\"\n",
    "\n",
    "    _tmp = client.query.aggregate(class_name).with_meta_count().do()\n",
    "    n = _tmp[\"data\"][\"Aggregate\"][class_name][0][\"meta\"][\"count\"]\n",
    "\n",
    "    paper_ids = {}\n",
    "    count_paragraphs = {}\n",
    "    cursor = None\n",
    "\n",
    "    with tqdm(total=n) as progress_bar:\n",
    "        while True:\n",
    "            batch = get_batch_with_cursor(\n",
    "                source_client,\n",
    "                class_name,\n",
    "                [\"topic\", \"paper_id\"],\n",
    "                batch_size,\n",
    "                cursor=cursor,\n",
    "            )\n",
    "\n",
    "            if len(batch[\"data\"][\"Get\"][class_name]) == 0:\n",
    "                break\n",
    "\n",
    "            objects_list = batch[\"data\"][\"Get\"][class_name]\n",
    "            for obj in objects_list:\n",
    "                # Count paragraphs\n",
    "                count_paragraphs[obj[\"topic\"]] = (\n",
    "                    count_paragraphs.get(obj[\"topic\"], 0) + 1\n",
    "                )\n",
    "\n",
    "                # Store paper ids as set\n",
    "                paper_ids[obj[\"topic\"]] = paper_ids.get(obj[\"topic\"], set())\n",
    "                paper_ids[obj[\"topic\"]].add(obj[\"paper_id\"])\n",
    "\n",
    "            cursor = batch[\"data\"][\"Get\"][class_name][-1][\"_additional\"][\"id\"]\n",
    "            progress_bar.update(batch_size)\n",
    "\n",
    "    return {\n",
    "        \"n_paragraphs\": count_paragraphs,\n",
    "        \"n_papers\": {k: len(v) for k, v in paper_ids.items()},\n",
    "    }"
   ]
  },
  {
   "cell_type": "code",
   "execution_count": null,
   "metadata": {},
   "outputs": [],
   "source": [
    "count_docs(source_client)"
   ]
  }
 ],
 "metadata": {
  "accelerator": "GPU",
  "colab": {
   "gpuType": "T4",
   "provenance": []
  },
  "gpuClass": "standard",
  "kernelspec": {
   "display_name": "base",
   "language": "python",
   "name": "python3"
  },
  "language_info": {
   "codemirror_mode": {
    "name": "ipython",
    "version": 3
   },
   "file_extension": ".py",
   "mimetype": "text/x-python",
   "name": "python",
   "nbconvert_exporter": "python",
   "pygments_lexer": "ipython3",
   "version": "3.11.4"
  },
  "vscode": {
   "interpreter": {
    "hash": "d4d1e4263499bec80672ea0156c357c1ee493ec2b1c70f0acce89fc37c4a6abe"
   }
  }
 },
 "nbformat": 4,
 "nbformat_minor": 0
}
