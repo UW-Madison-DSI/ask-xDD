{
 "cells": [
  {
   "cell_type": "code",
   "execution_count": null,
   "metadata": {},
   "outputs": [],
   "source": [
    "import os\n",
    "import logging\n",
    "from dotenv import load_dotenv\n",
    "import weaviate\n",
    "from askem.ingest_docs import append_terms\n",
    "from askem.retriever.base import get_v2_schema\n",
    "\n",
    "load_dotenv()\n",
    "logging.basicConfig(level=logging.INFO)\n",
    "\n",
    "WEAVIATE_URL = os.getenv(\"WEAVIATE_URL\")\n",
    "WEAVIATE_APIKEY = os.getenv(\"WEAVIATE_APIKEY\")\n",
    "print(WEAVIATE_URL)"
   ]
  },
  {
   "cell_type": "markdown",
   "metadata": {},
   "source": [
    "Create client"
   ]
  },
  {
   "cell_type": "code",
   "execution_count": null,
   "metadata": {},
   "outputs": [],
   "source": [
    "client = weaviate.Client(\n",
    "    url=WEAVIATE_URL, auth_client_secret=weaviate.AuthApiKey(api_key=WEAVIATE_APIKEY)\n",
    ")\n",
    "\n",
    "schema = client.schema.get()\n",
    "client.query.aggregate(\"Passage\").with_meta_count().do()"
   ]
  },
  {
   "cell_type": "code",
   "execution_count": null,
   "metadata": {},
   "outputs": [],
   "source": [
    "properties_v1 = [x[\"name\"] for x in schema[\"classes\"][0][\"properties\"]]\n",
    "print(properties_v1)"
   ]
  },
  {
   "cell_type": "markdown",
   "metadata": {},
   "source": [
    "update to v2 schema"
   ]
  },
  {
   "cell_type": "code",
   "execution_count": null,
   "metadata": {},
   "outputs": [],
   "source": [
    "schema_v2 = get_v2_schema()\n",
    "new_properties = [p for p in schema_v2[\"properties\"] if p[\"name\"] not in properties_v1]\n",
    "print([p[\"name\"] for p in new_properties])"
   ]
  },
  {
   "cell_type": "code",
   "execution_count": null,
   "metadata": {},
   "outputs": [],
   "source": [
    "for p in new_properties:\n",
    "    client.schema.property.create(\"Passage\", p)"
   ]
  },
  {
   "cell_type": "markdown",
   "metadata": {},
   "source": [
    "Check new properties"
   ]
  },
  {
   "cell_type": "code",
   "execution_count": null,
   "metadata": {},
   "outputs": [],
   "source": [
    "schema = client.schema.get()\n",
    "all_properties_v2 = [x[\"name\"] for x in schema[\"classes\"][0][\"properties\"]]\n",
    "print(all_properties_v2)"
   ]
  },
  {
   "cell_type": "markdown",
   "metadata": {},
   "source": [
    "## Make a function to patch a paper"
   ]
  },
  {
   "cell_type": "code",
   "execution_count": null,
   "metadata": {},
   "outputs": [],
   "source": [
    "def get_paper(\n",
    "    client, class_name: str, paper_id: str, extra_properties: list = None\n",
    ") -> list:\n",
    "    \"\"\"Get a list of paragraphs for a given paper.\"\"\"\n",
    "\n",
    "    where_filter = {\"path\": [\"paper_id\"], \"operator\": \"Equal\", \"valueString\": paper_id}\n",
    "\n",
    "    properties = [\"text_content\"]\n",
    "    if extra_properties:\n",
    "        properties.extend(extra_properties)\n",
    "\n",
    "    return (\n",
    "        client.query.get(class_name, properties)\n",
    "        .with_additional([\"id\"])\n",
    "        .with_where(where_filter)\n",
    "        .do()\n",
    "    )[\"data\"][\"Get\"][class_name]\n",
    "\n",
    "\n",
    "def patch_paper(client, class_name: str, paper_id: str) -> None:\n",
    "    \"\"\"Patch a given paper with its paragraphs.\"\"\"\n",
    "\n",
    "    paragraphs = get_paper(client, class_name, paper_id)\n",
    "    paragraphs = append_terms(paragraphs)\n",
    "\n",
    "    # Update the data objects\n",
    "    for paragraph in paragraphs:\n",
    "        uuid = paragraph.pop(\"_additional\")[\"id\"]\n",
    "        _ = paragraph.pop(\"text_content\")\n",
    "        client.data_object.update(\n",
    "            uuid=uuid, class_name=class_name, data_object=paragraph\n",
    "        )"
   ]
  },
  {
   "cell_type": "code",
   "execution_count": null,
   "metadata": {},
   "outputs": [],
   "source": [
    "# get one paper id\n",
    "client.query.get(\"Passage\", [\"text_content\", \"paper_id\"]).with_limit(1).do()"
   ]
  },
  {
   "cell_type": "code",
   "execution_count": null,
   "metadata": {},
   "outputs": [],
   "source": [
    "patch_paper(client, \"Passage\", \"616ea0a767467f7269d4a7e4\")"
   ]
  },
  {
   "cell_type": "code",
   "execution_count": null,
   "metadata": {},
   "outputs": [],
   "source": [
    "get_paper(\n",
    "    client=client,\n",
    "    class_name=\"Passage\",\n",
    "    paper_id=\"616ea0a767467f7269d4a7e4\",\n",
    "    extra_properties=all_properties_v2,\n",
    ")"
   ]
  },
  {
   "cell_type": "markdown",
   "metadata": {},
   "source": [
    "Tested, it works in one paper."
   ]
  },
  {
   "cell_type": "markdown",
   "metadata": {},
   "source": [
    "## Patch all records"
   ]
  },
  {
   "cell_type": "code",
   "execution_count": null,
   "metadata": {},
   "outputs": [],
   "source": [
    "def get_batch_with_cursor(client, class_name, class_properties, batch_size, cursor):\n",
    "    query = (\n",
    "        client.query.get(class_name, class_properties)\n",
    "        .with_additional([\"id\"])\n",
    "        .with_limit(batch_size)\n",
    "    )\n",
    "\n",
    "    if cursor is not None:\n",
    "        return query.with_after(cursor).do()\n",
    "    else:\n",
    "        return query.do()\n",
    "\n",
    "\n",
    "def patch_all(client, batch_size: int = 5000, class_name: str = \"Passage\") -> None:\n",
    "    \"\"\"Append terms to all records.\"\"\"\n",
    "\n",
    "    cursor = None\n",
    "    processed_paper_ids = set()\n",
    "\n",
    "    while True:\n",
    "        results = get_batch_with_cursor(\n",
    "            client, class_name, [\"paper_id\"], batch_size, cursor\n",
    "        )\n",
    "\n",
    "        # Stop if there are no more results\n",
    "        if not results[\"data\"][\"Get\"][class_name]:\n",
    "            break\n",
    "\n",
    "        objects = results[\"data\"][\"Get\"][class_name]\n",
    "        cursor = results[\"data\"][\"Get\"][class_name][-1][\"_additional\"][\"id\"]\n",
    "\n",
    "        # Get a list of unique paper ids from the batch\n",
    "        paper_ids = set([object[\"paper_id\"] for object in objects])\n",
    "\n",
    "        # Unprocessed paper ids\n",
    "        paper_ids = [x for x in paper_ids if x not in processed_paper_ids]\n",
    "\n",
    "        for paper_id in paper_ids:\n",
    "            logging.info(f\"Processing paper {paper_id}\")\n",
    "            patch_paper(client, class_name, paper_id)\n",
    "            processed_paper_ids.add(paper_id)"
   ]
  },
  {
   "cell_type": "code",
   "execution_count": null,
   "metadata": {},
   "outputs": [],
   "source": [
    "patch_all(client=client)\n",
    "# 25 hours runtime"
   ]
  }
 ],
 "metadata": {
  "accelerator": "GPU",
  "colab": {
   "gpuType": "T4",
   "provenance": []
  },
  "gpuClass": "standard",
  "kernelspec": {
   "display_name": "base",
   "language": "python",
   "name": "python3"
  },
  "language_info": {
   "codemirror_mode": {
    "name": "ipython",
    "version": 3
   },
   "file_extension": ".py",
   "mimetype": "text/x-python",
   "name": "python",
   "nbconvert_exporter": "python",
   "pygments_lexer": "ipython3",
   "version": "3.8.10"
  },
  "vscode": {
   "interpreter": {
    "hash": "d4d1e4263499bec80672ea0156c357c1ee493ec2b1c70f0acce89fc37c4a6abe"
   }
  }
 },
 "nbformat": 4,
 "nbformat_minor": 0
}
