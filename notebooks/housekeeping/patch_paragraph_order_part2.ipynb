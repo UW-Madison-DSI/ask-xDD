{
 "cells": [
  {
   "cell_type": "code",
   "execution_count": null,
   "metadata": {},
   "outputs": [],
   "source": [
    "import json\n",
    "import pickle\n",
    "import json\n",
    "from askem.elastic import get_text\n",
    "from askem.retriever.base import get_client"
   ]
  },
  {
   "cell_type": "code",
   "execution_count": 11,
   "metadata": {},
   "outputs": [
    {
     "name": "stdout",
     "output_type": "stream",
     "text": [
      "success: 49622\n",
      "fail: 34219\n"
     ]
    }
   ],
   "source": [
    "# We patched the data for topic: [\"criticalmaas\", \"geoarchive\"] in 240803\n",
    "# This are the results\n",
    "\n",
    "with open(\"tmp/patch_status.json\") as f:\n",
    "    patch_status = json.load(f)\n",
    "\n",
    "for k, v in patch_status.items():\n",
    "    print(f\"{k}: {len(v)}\")"
   ]
  },
  {
   "cell_type": "code",
   "execution_count": null,
   "metadata": {},
   "outputs": [],
   "source": [
    "### DANGER: REMOVE FAILED PATCH OBJECTS MANUALLY\n",
    "\n",
    "# WEAVIATE_CLIENT = get_client()\n",
    "\n",
    "# # Only 10000 paragarph can be remove at a time. So we need to do it in batch\n",
    "# for _ in tqdm(range(199)):\n",
    "#     WEAVIATE_CLIENT.batch.delete_objects(\n",
    "#         class_name=\"Paragraph\",\n",
    "#         where={\n",
    "#             \"path\": [\"paper_id\"],\n",
    "#             \"operator\": \"ContainsAny\",\n",
    "#             \"valueTextArray\": patch_status['fail']\n",
    "#         },\n",
    "#     )"
   ]
  },
  {
   "cell_type": "code",
   "execution_count": 14,
   "metadata": {},
   "outputs": [
    {
     "name": "stdout",
     "output_type": "stream",
     "text": [
      "fail_and_empty: 28708\n",
      "other: 5511\n"
     ]
    }
   ],
   "source": [
    "# After I deleted all failed doc_ids and rerun the ingest script to take care of the unsucessful patch (which may due to underlying data changes, or older ingest error)\n",
    "# However, there are still quite a few doc_ids with empty doc.\n",
    "\n",
    "\n",
    "## Master empty id list from ingest log\n",
    "with open(\"tmp/empty_ids.pkl\", \"rb\") as f:\n",
    "    empty_ids = set(pickle.load(f))\n",
    "\n",
    "fail_and_empty = []\n",
    "other = []\n",
    "\n",
    "# Compare against failed patch doc_ids\n",
    "for doc_id in patch_status['fail']:\n",
    "    if doc_id in empty_ids:\n",
    "        fail_and_empty.append(doc_id)\n",
    "    else:\n",
    "        other.append(doc_id)\n",
    "\n",
    "print(f\"fail_and_empty: {len(fail_and_empty)}\")\n",
    "print(f\"other: {len(other)}\")"
   ]
  },
  {
   "cell_type": "code",
   "execution_count": 16,
   "metadata": {},
   "outputs": [
    {
     "name": "stdout",
     "output_type": "stream",
     "text": [
      "\n"
     ]
    }
   ],
   "source": [
    "# One empty doc example\n",
    "t = get_text(\"661a81fd1a703effc6aaa743\")\n",
    "print(t[:200])"
   ]
  }
 ],
 "metadata": {
  "accelerator": "GPU",
  "colab": {
   "gpuType": "T4",
   "provenance": []
  },
  "gpuClass": "standard",
  "kernelspec": {
   "display_name": "base",
   "language": "python",
   "name": "python3"
  },
  "language_info": {
   "codemirror_mode": {
    "name": "ipython",
    "version": 3
   },
   "file_extension": ".py",
   "mimetype": "text/x-python",
   "name": "python",
   "nbconvert_exporter": "python",
   "pygments_lexer": "ipython3",
   "version": "3.10.0"
  },
  "vscode": {
   "interpreter": {
    "hash": "d4d1e4263499bec80672ea0156c357c1ee493ec2b1c70f0acce89fc37c4a6abe"
   }
  }
 },
 "nbformat": 4,
 "nbformat_minor": 0
}
