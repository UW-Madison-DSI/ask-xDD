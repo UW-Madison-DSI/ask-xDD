{
 "cells": [
  {
   "cell_type": "code",
   "execution_count": null,
   "metadata": {},
   "outputs": [],
   "source": [
    "import openai\n",
    "import requests\n",
    "import os\n",
    "import openai\n",
    "import json\n",
    "import logging\n",
    "from tqdm import tqdm\n",
    "\n",
    "from langchain.agents import initialize_agent\n",
    "from langchain.agents import AgentType\n",
    "from langchain.llms import OpenAI\n",
    "from langchain.tools import tool\n",
    "\n",
    "from askem._experimental.testset_ta1 import load_testset"
   ]
  },
  {
   "cell_type": "code",
   "execution_count": null,
   "metadata": {},
   "outputs": [],
   "source": [
    "testset = load_testset().query(\"is_complex == 1\")\n",
    "testset"
   ]
  },
  {
   "cell_type": "markdown",
   "metadata": {},
   "source": [
    "Wrap retriever API as `Tool`"
   ]
  },
  {
   "cell_type": "code",
   "execution_count": null,
   "metadata": {},
   "outputs": [],
   "source": [
    "@tool\n",
    "def search_retriever(query: str) -> str:\n",
    "    \"\"\"Useful for when you need to answer questions about facts.\"\"\"\n",
    "\n",
    "    RETRIEVER_APIKEY = os.getenv(\"RETRIEVER_APIKEY\")\n",
    "    RETRIEVER_ENDPOINT = \"http://retriever:4502/hybrid\"\n",
    "\n",
    "    headers = {\"Content-Type\": \"application/json\", \"Api-Key\": RETRIEVER_APIKEY}\n",
    "    data = {\n",
    "        \"question\": query,\n",
    "        \"top_k\": 3,\n",
    "        \"doc_type\": \"paragraph\",\n",
    "    }\n",
    "\n",
    "    response = requests.post(RETRIEVER_ENDPOINT, headers=headers, json=data)\n",
    "    response.raise_for_status()\n",
    "    return \"\\n\\n\".join([r[\"text\"] for r in response.json()])"
   ]
  },
  {
   "cell_type": "markdown",
   "metadata": {},
   "source": [
    "Provide retriever search tool to ReAct agent"
   ]
  },
  {
   "cell_type": "code",
   "execution_count": null,
   "metadata": {},
   "outputs": [],
   "source": [
    "llm = OpenAI(model_name=\"gpt-4\", temperature=0)\n",
    "agent_executor = initialize_agent(\n",
    "    [search_retriever], llm, agent=AgentType.ZERO_SHOT_REACT_DESCRIPTION, verbose=True\n",
    ")"
   ]
  },
  {
   "cell_type": "markdown",
   "metadata": {},
   "source": [
    "Tweak summarizer a bit"
   ]
  },
  {
   "cell_type": "code",
   "execution_count": null,
   "metadata": {},
   "outputs": [],
   "source": [
    "def summarize(question: str, contexts: str | list[str]) -> str:\n",
    "    \"\"\"Compresses a long text to a shorter version.\"\"\"\n",
    "    openai.api_key = os.getenv(\"OPENAI_API_KEY\")\n",
    "    openai.organization = os.getenv(\"OPENAI_ORGANIZATION\")\n",
    "\n",
    "    instruction = \"Answer the question based on the contexts. If there is no answer in context, say 'no answer'.\"\n",
    "\n",
    "    # Provide QA pairs as context\n",
    "    if isinstance(contexts, str):\n",
    "        qa_context = [f\"{question}: {contexts}\"]\n",
    "    elif isinstance(contexts, list):\n",
    "        qa_context = [f\"{question}: {context}\" for context in contexts]\n",
    "    else:\n",
    "        raise ValueError(\n",
    "            f\"Contexts must be a string or a list of strings. Got {type(contexts)} instead.\"\n",
    "        )\n",
    "\n",
    "    # Append main question\n",
    "    print(f\"{qa_context=}\")\n",
    "    prompt = f\"Question: {question}{os.linesep} Context: {qa_context}\"\n",
    "\n",
    "    print(f\"{prompt=}\")\n",
    "\n",
    "    response = openai.ChatCompletion.create(\n",
    "        model=\"gpt-4\",\n",
    "        messages=[\n",
    "            {\"role\": \"system\", \"content\": instruction},\n",
    "            {\"role\": \"user\", \"content\": prompt},\n",
    "        ],\n",
    "    )\n",
    "\n",
    "    return response.choices[0].message.content\n",
    "\n",
    "\n",
    "def xdd_llm_v02(query: str) -> str:\n",
    "    context = search_retriever(query)\n",
    "    summary = summarize(query, context)\n",
    "    return summary"
   ]
  },
  {
   "cell_type": "markdown",
   "metadata": {},
   "source": [
    "Testing pipeline"
   ]
  },
  {
   "cell_type": "code",
   "execution_count": null,
   "metadata": {},
   "outputs": [],
   "source": [
    "def _test_one(query: str) -> dict:\n",
    "    \"\"\"Compare against past iterations.\"\"\"\n",
    "\n",
    "    v02 = xdd_llm_v02(query)\n",
    "    v03 = agent_executor.invoke({\"input\": query})[\"output\"]\n",
    "\n",
    "    return {\n",
    "        \"question\": query,\n",
    "        \"v02\": v02,\n",
    "        \"v03\": v03,\n",
    "    }\n",
    "\n",
    "\n",
    "def test(questions: list[str]) -> None:\n",
    "    \"\"\"Compare against past iterations.\"\"\"\n",
    "    for i, q in tqdm(enumerate(questions)):\n",
    "        local_result = f\"tmp/{i}.json\"\n",
    "        if os.path.exists(local_result):\n",
    "            continue\n",
    "\n",
    "        print(f\"Testing: {q}\")\n",
    "\n",
    "        result = _test_one(q)\n",
    "        with open(local_result, \"w\") as f:\n",
    "            json.dump(result, f, indent=4)\n",
    "        # try:\n",
    "        #     result = _test_one(q)\n",
    "        #     with open(local_result, \"w\") as f:\n",
    "        #         json.dump(result, f, indent=4)\n",
    "        # except Exception as e:\n",
    "        #     print(f\"Failed: {q}\")\n",
    "        #     print(e)\n",
    "        #     continue"
   ]
  },
  {
   "cell_type": "code",
   "execution_count": null,
   "metadata": {},
   "outputs": [],
   "source": [
    "test(testset.question.tolist())"
   ]
  },
  {
   "cell_type": "markdown",
   "metadata": {},
   "source": [
    "Create CSV for sharing"
   ]
  },
  {
   "cell_type": "code",
   "execution_count": null,
   "metadata": {},
   "outputs": [],
   "source": [
    "import pandas as pd\n",
    "from pathlib import Path\n",
    "\n",
    "data = []\n",
    "for x in Path(\"tmp/\").glob(\"*.json\"):\n",
    "    with open(x) as f:\n",
    "        data.append(json.load(f))\n",
    "\n",
    "df = pd.DataFrame(data)"
   ]
  },
  {
   "cell_type": "code",
   "execution_count": null,
   "metadata": {},
   "outputs": [],
   "source": [
    "df.to_csv(\"tmp/results.csv\", index=False)"
   ]
  }
 ],
 "metadata": {
  "kernelspec": {
   "display_name": "Python 3",
   "language": "python",
   "name": "python3"
  },
  "language_info": {
   "codemirror_mode": {
    "name": "ipython",
    "version": 3
   },
   "file_extension": ".py",
   "mimetype": "text/x-python",
   "name": "python",
   "nbconvert_exporter": "python",
   "pygments_lexer": "ipython3",
   "version": "3.11.4"
  }
 },
 "nbformat": 4,
 "nbformat_minor": 2
}
