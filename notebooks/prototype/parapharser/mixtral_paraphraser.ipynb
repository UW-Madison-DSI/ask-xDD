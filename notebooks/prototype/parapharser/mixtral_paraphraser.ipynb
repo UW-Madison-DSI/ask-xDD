{
 "cells": [
  {
   "cell_type": "markdown",
   "metadata": {},
   "source": [
    "## Mixtual paraphraser\n",
    "\n",
    "Try to deliver a function that can paraphrase a sentence without plagiarizing it.\n",
    "\n",
    "- Objective: avoid plagiarism / copyright infringement\n",
    "- Target metrics: Argmin(Jaccard similarity), Argmax(BertScore)\n",
    "- Tune: prompt\n",
    "- Testset: seed 5 selected covid questions from testset, generate 10 paraphrases for each question, and evaluate the paraphrases with the paraphraser with target metrics before and after paraphrasing.\n"
   ]
  },
  {
   "cell_type": "code",
   "execution_count": null,
   "metadata": {},
   "outputs": [],
   "source": [
    "import requests\n",
    "from dotenv import load_dotenv\n",
    "import os\n",
    "import pandas as pd\n",
    "import altair as alt\n",
    "from openai import OpenAI\n",
    "from requests.auth import HTTPBasicAuth\n",
    "\n",
    "load_dotenv()"
   ]
  },
  {
   "cell_type": "code",
   "execution_count": null,
   "metadata": {},
   "outputs": [],
   "source": [
    "def fetch_paragraphs(topic: str, question: str, n: int = 10) -> list[str]:\n",
    "    endpoint = \"http://cosmos0001.chtc.wisc.edu:4502/hybrid\"\n",
    "    header = {\"Api-Key\": os.getenv(\"RETRIEVER_APIKEY\")}\n",
    "\n",
    "    data = {\n",
    "        \"question\": question,\n",
    "        \"topic\": topic,\n",
    "        \"top_k\": n,\n",
    "        \"doc_type\": \"paragraph\",\n",
    "    }\n",
    "\n",
    "    response = requests.post(endpoint, headers=header, json=data)\n",
    "    response.raise_for_status()\n",
    "\n",
    "    return [doc[\"text\"] for doc in response.json()]"
   ]
  },
  {
   "cell_type": "code",
   "execution_count": null,
   "metadata": {},
   "outputs": [],
   "source": [
    "def ask_mixtral(messages: list[dict]) -> dict:\n",
    "    \"\"\"Ask mixtral with a data package.\n",
    "\n",
    "    Example input: [{\"role\": \"user\", \"content\": \"Hello world example in python.\"}]\n",
    "    \"\"\"\n",
    "    url = os.getenv(\"MIXTRAL_URL\")\n",
    "    user = os.getenv(\"MIXTRAL_USER\")\n",
    "    password = os.getenv(\"MIXTRAL_PASSWORD\")\n",
    "    data = {\n",
    "        \"model\": \"mixtral\",\n",
    "        \"messages\": messages,\n",
    "        \"stream\": False,  # set to True to get a stream of responses token-by-token\n",
    "    }\n",
    "    # Non-streaming mode\n",
    "    response = requests.post(url, auth=HTTPBasicAuth(user, password), json=data)\n",
    "    response.raise_for_status()\n",
    "    return response.json()[\"message\"][\"content\"]"
   ]
  },
  {
   "cell_type": "code",
   "execution_count": null,
   "metadata": {},
   "outputs": [],
   "source": [
    "def ask_openai(messages: list[dict]) -> dict:\n",
    "    \"\"\"Ask gpt with a data package.\n",
    "\n",
    "    Example input: [{\"role\": \"user\", \"content\": \"Hello world example in python.\"}]\n",
    "    \"\"\"\n",
    "\n",
    "    client = OpenAI()\n",
    "    chat_completion = client.chat.completions.create(\n",
    "        messages=messages,\n",
    "        model=\"gpt-4-1106-preview\",\n",
    "    )\n",
    "    return chat_completion.choices[0].message.content"
   ]
  },
  {
   "cell_type": "markdown",
   "metadata": {},
   "source": [
    "### Make a 50 paragraph paraphraser testset\n"
   ]
  },
  {
   "cell_type": "code",
   "execution_count": null,
   "metadata": {},
   "outputs": [],
   "source": [
    "# Manually select 5 questions in COVID preset\n",
    "# with open(\"askem/demo/preset_questions/preset_covid_q.txt\", \"r\") as f:\n",
    "#     questions = f.readlines()\n",
    "\n",
    "# selected = [0, 4, 12, 18, 21]\n",
    "# questions = [questions[i] for i in selected]\n",
    "# print(questions)\n",
    "\n",
    "# questions\n",
    "\n",
    "# paragraphs = set()\n",
    "\n",
    "# for q in questions:\n",
    "#     paragraphs.update(fetch_paragraphs(topic=\"covid\", question=q, n=10))\n",
    "\n",
    "# # Save paragraphs to file\n",
    "\n",
    "# with open(\"data/covid_50_paragraphs.txt\", \"w\") as f:\n",
    "#     f.writelines(paragraphs)"
   ]
  },
  {
   "cell_type": "code",
   "execution_count": null,
   "metadata": {},
   "outputs": [],
   "source": [
    "with open(\"data/covid_50_paragraphs.txt\", \"r\") as f:\n",
    "    paragraphs = f.readlines()\n",
    "\n",
    "print(paragraphs[:3])"
   ]
  },
  {
   "cell_type": "markdown",
   "metadata": {},
   "source": [
    "Use a basic COSTAR prompt setup\n",
    "\n",
    "https://levelup.gitconnected.com/a-comprehensive-guide-to-prompt-engineering-unveiling-the-power-of-the-costar-template-944897251101\n"
   ]
  },
  {
   "cell_type": "code",
   "execution_count": null,
   "metadata": {},
   "outputs": [],
   "source": [
    "def get_prompt(\n",
    "    context: str, objective: str, style: str, tone: str, audience: str, response: str\n",
    ") -> str:\n",
    "    \"\"\"Get a COSTAR prompt.\"\"\"\n",
    "\n",
    "    return f\"\"\"\n",
    "    CONTEXT: {context}\n",
    "    OBJECTIVE: {objective}\n",
    "    STYLE: {style}\n",
    "    TONE: {tone}\n",
    "    Audience: {audience}\n",
    "    Response: {response}\n",
    "    \"\"\"\n",
    "\n",
    "\n",
    "def costar_v1(paragraph: str) -> str:\n",
    "    \"\"\"Generate a prompt for COSTAR v1.\"\"\"\n",
    "    return get_prompt(\n",
    "        context=f\"Rewrite this paragraph: {paragraph}\",\n",
    "        objective=\"To paraphrase without plagiarizing the original content, rewrite the given paragraph.\",\n",
    "        style=\"Informative and Simple\",\n",
    "        tone=\"Neutral\",\n",
    "        audience=\"General Public\",\n",
    "        response=\"A short paragraph with the same meaning as the original paragraph.\",\n",
    "    )\n",
    "\n",
    "\n",
    "def costar_v2(paragraph: str) -> str:\n",
    "    \"\"\"Generate a prompt for COSTAR v2. Addressing hallucinations.\"\"\"\n",
    "    return get_prompt(\n",
    "        context=f\"Rewrite this paragraph: {paragraph}\",\n",
    "        objective=\"To paraphrase without plagiarizing the original content, rewrite the given paragraph. Do not change the meaning of the paragraph. Do not copy the original paragraph.\",\n",
    "        style=\"Informative and Simple\",\n",
    "        tone=\"Neutral\",\n",
    "        audience=\"General Public\",\n",
    "        response=\"A short paragraph with the same meaning as the original paragraph.\",\n",
    "    )"
   ]
  },
  {
   "cell_type": "markdown",
   "metadata": {},
   "source": [
    "### Evaluation\n"
   ]
  },
  {
   "cell_type": "markdown",
   "metadata": {},
   "source": [
    "Target objectives:\n",
    "\n",
    "- Meaning should be preserved -> metrics: BERTScore, higher = better\n",
    "- Overlapping words should be avoided -> metrics: Jaccard similarity, lower=better\n"
   ]
  },
  {
   "cell_type": "code",
   "execution_count": null,
   "metadata": {},
   "outputs": [],
   "source": [
    "import string\n",
    "import evaluate\n",
    "\n",
    "bs = evaluate.load(\"bertscore\")\n",
    "\n",
    "\n",
    "def jaccard_similarity(str1, str2):\n",
    "    \"\"\"Calculate Jaccard similarity between two texts.\n",
    "\n",
    "    It's defined as the size of the intersection divided by the size of the union of the sample sets.\n",
    "    \"\"\"\n",
    "\n",
    "    # Remove punctuation\n",
    "    str1 = str1.translate(str.maketrans(\"\", \"\", string.punctuation))\n",
    "    str2 = str2.translate(str.maketrans(\"\", \"\", string.punctuation))\n",
    "\n",
    "    # Convert the strings to sets of words\n",
    "    set1 = set(str1.split(\" \"))\n",
    "    set2 = set(str2.split(\" \"))\n",
    "\n",
    "    # Calculate the intersection and union\n",
    "    intersection = set1.intersection(set2)\n",
    "    union = set1.union(set2)\n",
    "\n",
    "    # Calculate Jaccard similarity\n",
    "    similarity = len(intersection) / len(union)\n",
    "    return similarity"
   ]
  },
  {
   "cell_type": "code",
   "execution_count": null,
   "metadata": {},
   "outputs": [],
   "source": [
    "def evaluate(paragraph: str, prompt_creation_fn: callable, llm_fn: callable) -> dict:\n",
    "    \"\"\"Evaluate a paragraph with a prompt.\"\"\"\n",
    "\n",
    "    prompt = prompt_creation_fn(paragraph)\n",
    "    paraphrased = llm_fn([{\"role\": \"user\", \"content\": prompt}])\n",
    "\n",
    "    return {\n",
    "        \"paragraph\": paragraph,\n",
    "        \"paraphrased\": paraphrased,\n",
    "        \"jaccard\": jaccard_similarity(paragraph, paraphrased),\n",
    "        \"bertscore\": bs.compute(\n",
    "            predictions=[paraphrased], references=[paragraph], lang=\"en\"\n",
    "        )[\"f1\"][0],\n",
    "    }"
   ]
  },
  {
   "cell_type": "code",
   "execution_count": null,
   "metadata": {},
   "outputs": [],
   "source": [
    "eval_data = [evaluate(p, costar_v1, ask_mixtral) for p in paragraphs]\n",
    "df = pd.DataFrame(eval_data)\n",
    "df.to_parquet(\"costar_v1_mixtral.parquet\")"
   ]
  },
  {
   "cell_type": "code",
   "execution_count": null,
   "metadata": {},
   "outputs": [],
   "source": [
    "df"
   ]
  },
  {
   "cell_type": "markdown",
   "metadata": {},
   "source": [
    "Do some basic plot and show some examples\n"
   ]
  },
  {
   "cell_type": "code",
   "execution_count": null,
   "metadata": {},
   "outputs": [],
   "source": [
    "import pandas as pd\n",
    "import altair as alt\n",
    "from pathlib import Path\n",
    "\n",
    "v1_openai = Path(\"costar_v1_openai.parquet\")\n",
    "v1_mixtral = Path(\"costar_v1_mixtral.parquet\")\n",
    "\n",
    "df_v1_openai = pd.read_parquet(v1_openai)\n",
    "df_v1_mixtral = pd.read_parquet(v1_mixtral)\n",
    "\n",
    "df_v1_mixtral.to_csv(\"costar_v1_mixtral.csv\")\n",
    "df_v1_openai.to_csv(\"costar_v1_openai.csv\")"
   ]
  },
  {
   "cell_type": "code",
   "execution_count": null,
   "metadata": {},
   "outputs": [],
   "source": [
    "def report(parquet_file: Path) -> alt.Chart:\n",
    "    \"\"\"Generate a report for a parquet file.\"\"\"\n",
    "\n",
    "    name = parquet_file.stem\n",
    "    df = pd.read_parquet(parquet_file)\n",
    "    df[\"idx\"] = df.index\n",
    "\n",
    "    plot_title = f\"{name} benchmark (jaccard: {df.jaccard.mean():.2f} bert:{df.bertscore.mean():.2f})\"\n",
    "\n",
    "    return (\n",
    "        alt.Chart(df)\n",
    "        .mark_circle()\n",
    "        .encode(\n",
    "            x=alt.X(\"jaccard\", scale=alt.Scale(domain=(0, 1))),\n",
    "            y=alt.Y(\"bertscore\", scale=alt.Scale(domain=(0, 1))),\n",
    "            tooltip=[\"idx\", \"paragraph\", \"paraphrased\", \"jaccard\", \"bertscore\"],\n",
    "        )\n",
    "        .properties(title=plot_title, width=600, height=600)\n",
    "        .interactive()\n",
    "    )"
   ]
  },
  {
   "cell_type": "code",
   "execution_count": null,
   "metadata": {},
   "outputs": [],
   "source": [
    "report(v1_openai)"
   ]
  },
  {
   "cell_type": "markdown",
   "metadata": {},
   "source": [
    "Look at one of the best case"
   ]
  },
  {
   "cell_type": "code",
   "execution_count": null,
   "metadata": {},
   "outputs": [],
   "source": [
    "df.to_csv(\"costar_v2.csv\")"
   ]
  },
  {
   "cell_type": "code",
   "execution_count": null,
   "metadata": {},
   "outputs": [],
   "source": [
    "df.loc[43].to_dict()"
   ]
  },
  {
   "cell_type": "code",
   "execution_count": null,
   "metadata": {},
   "outputs": [],
   "source": [
    "df.loc[22].to_dict()"
   ]
  },
  {
   "cell_type": "markdown",
   "metadata": {},
   "source": [
    "- Somewhat hallucinating? It is making a lot of assumptions, particularly in messier paragraphs.\n",
    "- "
   ]
  },
  {
   "cell_type": "code",
   "execution_count": null,
   "metadata": {},
   "outputs": [],
   "source": []
  }
 ],
 "metadata": {
  "accelerator": "GPU",
  "colab": {
   "gpuType": "T4",
   "provenance": []
  },
  "gpuClass": "standard",
  "kernelspec": {
   "display_name": "base",
   "language": "python",
   "name": "python3"
  },
  "language_info": {
   "codemirror_mode": {
    "name": "ipython",
    "version": 3
   },
   "file_extension": ".py",
   "mimetype": "text/x-python",
   "name": "python",
   "nbconvert_exporter": "python",
   "pygments_lexer": "ipython3",
   "version": "3.11.7"
  },
  "vscode": {
   "interpreter": {
    "hash": "d4d1e4263499bec80672ea0156c357c1ee493ec2b1c70f0acce89fc37c4a6abe"
   }
  }
 },
 "nbformat": 4,
 "nbformat_minor": 0
}
