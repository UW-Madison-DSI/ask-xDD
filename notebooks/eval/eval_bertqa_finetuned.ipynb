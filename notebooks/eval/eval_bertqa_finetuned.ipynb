{
 "cells": [
  {
   "attachments": {},
   "cell_type": "markdown",
   "metadata": {},
   "source": [
    "# Get bert score from best HF autotrain extractive QA model"
   ]
  },
  {
   "attachments": {},
   "cell_type": "markdown",
   "metadata": {},
   "source": [
    "Assets"
   ]
  },
  {
   "cell_type": "code",
   "execution_count": null,
   "metadata": {},
   "outputs": [],
   "source": [
    "from askem.data import get_covid_qa\n",
    "from transformers import AutoTokenizer, AutoModelForQuestionAnswering, pipeline\n",
    "\n",
    "dataset = get_covid_qa(split='test')\n",
    "tokenizer = AutoTokenizer.from_pretrained(\"mbialo/autotrain-test-58072133169\")\n",
    "model = AutoModelForQuestionAnswering.from_pretrained(\"mbialo/autotrain-test-58072133169\")"
   ]
  },
  {
   "attachments": {},
   "cell_type": "markdown",
   "metadata": {},
   "source": [
    "Inference pipeline"
   ]
  },
  {
   "cell_type": "code",
   "execution_count": null,
   "metadata": {},
   "outputs": [],
   "source": [
    "best_auto_model = pipeline(model=model, tokenizer=tokenizer, task=\"question-answering\", device=2)\n",
    "\n",
    "def generate_answer(batch) -> dict:\n",
    "    y = best_auto_model(question=batch['question'], context=batch['context'])\n",
    "    batch['y_pred'] = [y_['answer'] for y_ in y]\n",
    "    batch['y_true'] = [a['text'][0] for a in batch['answers']]\n",
    "    return batch\n",
    "\n",
    "results = dataset.map(generate_answer, batched=True, batch_size=128)"
   ]
  },
  {
   "attachments": {},
   "cell_type": "markdown",
   "metadata": {},
   "source": [
    "Calculate BERTScore"
   ]
  },
  {
   "cell_type": "code",
   "execution_count": null,
   "metadata": {},
   "outputs": [],
   "source": [
    "from bert_score import score\n",
    "precision, recall, f1 = score(results['y_true'], results['y_pred'], lang=\"en\", verbose=True)"
   ]
  },
  {
   "attachments": {},
   "cell_type": "markdown",
   "metadata": {},
   "source": [
    "Save results to disk"
   ]
  },
  {
   "cell_type": "code",
   "execution_count": null,
   "metadata": {},
   "outputs": [],
   "source": [
    "dataset = dataset.add_column('precision', precision.numpy())\n",
    "dataset = dataset.add_column('recall', recall.numpy())\n",
    "dataset = dataset.add_column('f1', f1.numpy())\n",
    "dataset.to_parquet('/askem/data/bertqa_finetuned.parquet')"
   ]
  },
  {
   "attachments": {},
   "cell_type": "markdown",
   "metadata": {},
   "source": [
    "Load results"
   ]
  },
  {
   "cell_type": "code",
   "execution_count": null,
   "metadata": {},
   "outputs": [],
   "source": [
    "import pandas as pd\n",
    "df = pd.read_parquet('/askem/data/bertqa_finetuned.parquet')"
   ]
  }
 ],
 "metadata": {
  "accelerator": "GPU",
  "colab": {
   "gpuType": "T4",
   "provenance": []
  },
  "gpuClass": "standard",
  "kernelspec": {
   "display_name": "base",
   "language": "python",
   "name": "python3"
  },
  "language_info": {
   "codemirror_mode": {
    "name": "ipython",
    "version": 3
   },
   "file_extension": ".py",
   "mimetype": "text/x-python",
   "name": "python",
   "nbconvert_exporter": "python",
   "pygments_lexer": "ipython3",
   "version": "3.8.13"
  },
  "vscode": {
   "interpreter": {
    "hash": "d4d1e4263499bec80672ea0156c357c1ee493ec2b1c70f0acce89fc37c4a6abe"
   }
  }
 },
 "nbformat": 4,
 "nbformat_minor": 0
}
