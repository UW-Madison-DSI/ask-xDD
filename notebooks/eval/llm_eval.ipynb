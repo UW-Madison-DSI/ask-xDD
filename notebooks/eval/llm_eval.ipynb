{
 "cells": [
  {
   "cell_type": "markdown",
   "metadata": {},
   "source": [
    "Try evaluation with TruLens"
   ]
  },
  {
   "cell_type": "markdown",
   "metadata": {},
   "source": [
    "Make a wrapper class to conform with Trulens custom app example"
   ]
  },
  {
   "cell_type": "code",
   "execution_count": null,
   "metadata": {},
   "outputs": [],
   "source": [
    "from askem._experimental.llm_eval import RAG, Eval\n",
    "\n",
    "with open(\"askem/demo/preset_questions/preset_covid_q.txt\") as f:\n",
    "    questions = f.readlines()"
   ]
  },
  {
   "cell_type": "markdown",
   "metadata": {},
   "source": [
    "Select manually and reproduceability check"
   ]
  },
  {
   "cell_type": "code",
   "execution_count": null,
   "metadata": {},
   "outputs": [],
   "source": [
    "for i, x in enumerate(questions):\n",
    "    k = 50\n",
    "    if i in range(k, k + 10):\n",
    "        print(f\"Question {i}: {x}\")"
   ]
  },
  {
   "cell_type": "code",
   "execution_count": null,
   "metadata": {},
   "outputs": [],
   "source": [
    "selected_idx = [\n",
    "    0,\n",
    "    5,\n",
    "    6,\n",
    "    7,\n",
    "    10,\n",
    "    11,\n",
    "    14,\n",
    "    15,\n",
    "    16,\n",
    "    17,\n",
    "    19,\n",
    "    21,\n",
    "    23,\n",
    "    25,\n",
    "    32,\n",
    "    33,\n",
    "    34,\n",
    "    36,\n",
    "    40,\n",
    "    41,\n",
    "    42,\n",
    "    45,\n",
    "    47,\n",
    "    48,\n",
    "    51,\n",
    "    53,\n",
    "    54,\n",
    "]"
   ]
  },
  {
   "cell_type": "code",
   "execution_count": null,
   "metadata": {},
   "outputs": [],
   "source": [
    "selected_questions = [questions[i] for i in selected_idx]\n",
    "print(selected_questions)"
   ]
  },
  {
   "cell_type": "code",
   "execution_count": null,
   "metadata": {},
   "outputs": [],
   "source": [
    "rag = RAG(app_id=\"covid_preset_default_v1_reproduce_mean\", topic=\"covid\")\n",
    "eval = Eval(model_engine=\"gpt-4-1106-preview\")\n",
    "# eval.tru.reset_database()"
   ]
  },
  {
   "cell_type": "markdown",
   "metadata": {},
   "source": [
    "Setup TruLens evaluation"
   ]
  },
  {
   "cell_type": "code",
   "execution_count": null,
   "metadata": {},
   "outputs": [],
   "source": [
    "eval.run(rag, questions=selected_questions)"
   ]
  },
  {
   "cell_type": "code",
   "execution_count": null,
   "metadata": {},
   "outputs": [],
   "source": [
    "len(selected_idx)"
   ]
  },
  {
   "cell_type": "code",
   "execution_count": null,
   "metadata": {},
   "outputs": [],
   "source": [
    "eval.tru.get_leaderboard([\"covid_preset_default_v1\"])"
   ]
  }
 ],
 "metadata": {
  "accelerator": "GPU",
  "colab": {
   "gpuType": "T4",
   "provenance": []
  },
  "gpuClass": "standard",
  "kernelspec": {
   "display_name": "base",
   "language": "python",
   "name": "python3"
  },
  "language_info": {
   "codemirror_mode": {
    "name": "ipython",
    "version": 3
   },
   "file_extension": ".py",
   "mimetype": "text/x-python",
   "name": "python",
   "nbconvert_exporter": "python",
   "pygments_lexer": "ipython3",
   "version": "3.11.7"
  },
  "vscode": {
   "interpreter": {
    "hash": "d4d1e4263499bec80672ea0156c357c1ee493ec2b1c70f0acce89fc37c4a6abe"
   }
  }
 },
 "nbformat": 4,
 "nbformat_minor": 0
}
