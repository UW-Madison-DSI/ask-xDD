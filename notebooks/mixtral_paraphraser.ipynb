{
 "cells": [
  {
   "cell_type": "markdown",
   "metadata": {},
   "source": [
    "## Mixtual paraphraser\n",
    "Try to deliver a function that can paraphrase a sentence without plagiarizing it.\n",
    "\n",
    "- Objective: avoid plagiarism / copyright infringement\n",
    "- Target metrics: Argmin(Jaccard similarity), Argmax(BertScore) \n",
    "- Tune: prompt\n",
    "- Testset: seed with a mix of questions from testset, generate 10 paraphrases for each question, and evaluate the paraphrases with the paraphraser with target metrics before and after paraphrasing.\n"
   ]
  },
  {
   "cell_type": "code",
   "execution_count": null,
   "metadata": {},
   "outputs": [],
   "source": [
    "import requests\n",
    "from dotenv import load_dotenv\n",
    "import os\n",
    "from requests.auth import HTTPBasicAuth\n",
    "\n",
    "load_dotenv()\n",
    "\n",
    "\n",
    "def ask_mixtral(messages: list[dict]) -> dict:\n",
    "    \"\"\"Ask mixtral with a data package.\n",
    "\n",
    "    Example input: [{\"role\": \"user\", \"content\": \"Hello world example in python.\"}]\n",
    "    \"\"\"\n",
    "    url = os.getenv(\"MIXTRAL_URL\")\n",
    "    user = os.getenv(\"MIXTRAL_USER\")\n",
    "    password = os.getenv(\"MIXTRAL_PASSWORD\")\n",
    "    data = {\n",
    "        \"model\": \"mixtral\",\n",
    "        \"messages\": messages,\n",
    "        \"stream\": False,  # set to True to get a stream of responses token-by-token\n",
    "    }\n",
    "    # Non-streaming mode\n",
    "    response = requests.post(url, auth=HTTPBasicAuth(user, password), json=data)\n",
    "    response.raise_for_status()\n",
    "    return response.json()"
   ]
  },
  {
   "cell_type": "code",
   "execution_count": null,
   "metadata": {},
   "outputs": [],
   "source": [
    "def fetch_paragraphs(topic: str, question: str, n: int = 10) -> list[str]:\n",
    "    endpoint = \"http://cosmos0001.chtc.wisc.edu:4502/hybrid\"\n",
    "    header = {\"Api-Key\": os.getenv(\"RETRIEVER_APIKEY\")}\n",
    "\n",
    "    data = {\n",
    "        \"question\": \"What is temperature at sea?\",\n",
    "        \"topic\": topic,\n",
    "        \"top_k\": n,\n",
    "        \"doc_type\": \"paragraph\",\n",
    "    }\n",
    "\n",
    "    response = requests.post(endpoint, headers=header, json=data)\n",
    "    response.raise_for_status()\n",
    "\n",
    "    return [doc[\"text\"] for doc in response.json()]"
   ]
  },
  {
   "cell_type": "code",
   "execution_count": null,
   "metadata": {},
   "outputs": [],
   "source": [
    "paragraphs = fetch_paragraphs(topic=\"covid\", question=\"formulation of SIR model.\")"
   ]
  },
  {
   "cell_type": "markdown",
   "metadata": {},
   "source": [
    "Use a basic COSTAR prompt template\n",
    "\n",
    "https://levelup.gitconnected.com/a-comprehensive-guide-to-prompt-engineering-unveiling-the-power-of-the-costar-template-944897251101"
   ]
  },
  {
   "cell_type": "code",
   "execution_count": null,
   "metadata": {},
   "outputs": [],
   "source": [
    "def get_prompt(\n",
    "    context: str, objective: str, style: str, tone: str, audience: str, response: str\n",
    ") -> str:\n",
    "    \"\"\"Get a COSTAR prompt.\"\"\"\n",
    "\n",
    "    return f\"\"\"\n",
    "    CONTEXT: {context}\n",
    "    OBJECTIVE: {objective}\n",
    "    STYLE: {style}\n",
    "    TONE: {tone}\n",
    "    Audience: {audience}\n",
    "    Response: {response}\n",
    "    \"\"\""
   ]
  },
  {
   "cell_type": "code",
   "execution_count": null,
   "metadata": {},
   "outputs": [],
   "source": [
    "# Tune this later\n",
    "\n",
    "baseline_prompt = f\"paraphrase and avoid plagiarism: {paragraphs[0]}\"\n",
    "\n",
    "prompt = get_prompt(\n",
    "    context=f\"Rewrite this paragraph: {paragraphs[0]}\",\n",
    "    objective=\"To paraphrase without plagiarizing the original content, rewrite the given paragraph.\",\n",
    "    style=\"Informative and Simple\",\n",
    "    tone=\"Neutral\",\n",
    "    audience=\"General Public\",\n",
    "    response=\"The COVID-19 vaccine is effective at preventing the spread of the virus.\",\n",
    ")"
   ]
  },
  {
   "cell_type": "code",
   "execution_count": null,
   "metadata": {},
   "outputs": [],
   "source": [
    "paragraphs[0]"
   ]
  },
  {
   "cell_type": "code",
   "execution_count": null,
   "metadata": {},
   "outputs": [],
   "source": [
    "results_baseline = ask_mixtral([{\"role\": \"user\", \"content\": baseline_prompt}])\n",
    "results_costar = ask_mixtral([{\"role\": \"user\", \"content\": prompt}])"
   ]
  },
  {
   "cell_type": "code",
   "execution_count": null,
   "metadata": {},
   "outputs": [],
   "source": [
    "results_baseline[\"message\"][\"content\"]"
   ]
  },
  {
   "cell_type": "code",
   "execution_count": null,
   "metadata": {},
   "outputs": [],
   "source": [
    "results_costar[\"message\"][\"content\"]"
   ]
  },
  {
   "cell_type": "markdown",
   "metadata": {},
   "source": [
    "### Evaluation"
   ]
  },
  {
   "cell_type": "markdown",
   "metadata": {},
   "source": [
    "Target objectives:\n",
    "- Meaning should be preserved -> metrics: BERTScore, higher = better\n",
    "- Overlapping words should be avoided -> metrics: Jaccard similarity, lower=better \n"
   ]
  },
  {
   "cell_type": "code",
   "execution_count": null,
   "metadata": {},
   "outputs": [],
   "source": [
    "import string\n",
    "import evaluate\n",
    "\n",
    "bs = evaluate.load(\"bertscore\")\n",
    "\n",
    "\n",
    "def jaccard_similarity(str1, str2):\n",
    "    \"\"\"Calculate Jaccard similarity between two texts.\n",
    "\n",
    "    It's defined as the size of the intersection divided by the size of the union of the sample sets.\n",
    "    \"\"\"\n",
    "\n",
    "    # Remove punctuation\n",
    "    str1 = str1.translate(str.maketrans(\"\", \"\", string.punctuation))\n",
    "    str2 = str2.translate(str.maketrans(\"\", \"\", string.punctuation))\n",
    "\n",
    "    # Convert the strings to sets of words\n",
    "    set1 = set(str1.split(\" \"))\n",
    "    set2 = set(str2.split(\" \"))\n",
    "\n",
    "    # Calculate the intersection and union\n",
    "    intersection = set1.intersection(set2)\n",
    "    union = set1.union(set2)\n",
    "\n",
    "    # Calculate Jaccard similarity\n",
    "    similarity = len(intersection) / len(union)\n",
    "    return similarity"
   ]
  },
  {
   "cell_type": "code",
   "execution_count": null,
   "metadata": {},
   "outputs": [],
   "source": [
    "# Example usage\n",
    "str1 = \"hello world!\"\n",
    "str2 = \"hello dolphin, happy hippo!\"\n",
    "similarity = jaccard_similarity(str1, str2)\n",
    "print(f\"Jaccard Similarity: {similarity}\")\n",
    "bert = bs.compute(predictions=[str1], references=[str2], lang=\"en\")\n",
    "print(f\"BertScore: {bert}\")"
   ]
  },
  {
   "cell_type": "code",
   "execution_count": null,
   "metadata": {},
   "outputs": [],
   "source": [
    "results_baseline[\"message\"][\"content\"]"
   ]
  },
  {
   "cell_type": "code",
   "execution_count": null,
   "metadata": {},
   "outputs": [],
   "source": [
    "def evaluate_all(x: str, y: str) -> None:\n",
    "    print(\n",
    "        f\"bertscore: {bs.compute(predictions=[x], references=[y], lang='en', verbose=True)}\"\n",
    "    )\n",
    "    print(f\"{jaccard_similarity(x, y)=}\")"
   ]
  },
  {
   "cell_type": "code",
   "execution_count": null,
   "metadata": {},
   "outputs": [],
   "source": [
    "evaluate_all(results_baseline[\"message\"][\"content\"], paragraphs[0])"
   ]
  },
  {
   "cell_type": "code",
   "execution_count": null,
   "metadata": {},
   "outputs": [],
   "source": [
    "evaluate_all(results_costar[\"message\"][\"content\"], paragraphs[0])"
   ]
  }
 ],
 "metadata": {
  "accelerator": "GPU",
  "colab": {
   "gpuType": "T4",
   "provenance": []
  },
  "gpuClass": "standard",
  "kernelspec": {
   "display_name": "base",
   "language": "python",
   "name": "python3"
  },
  "language_info": {
   "codemirror_mode": {
    "name": "ipython",
    "version": 3
   },
   "file_extension": ".py",
   "mimetype": "text/x-python",
   "name": "python",
   "nbconvert_exporter": "python",
   "pygments_lexer": "ipython3",
   "version": "3.11.7"
  },
  "vscode": {
   "interpreter": {
    "hash": "d4d1e4263499bec80672ea0156c357c1ee493ec2b1c70f0acce89fc37c4a6abe"
   }
  }
 },
 "nbformat": 4,
 "nbformat_minor": 0
}
