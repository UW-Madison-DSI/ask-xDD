{
 "cells": [
  {
   "cell_type": "code",
   "execution_count": null,
   "metadata": {},
   "outputs": [],
   "source": [
    "import os\n",
    "from dotenv import load_dotenv\n",
    "import weaviate\n",
    "\n",
    "load_dotenv()\n",
    "\n",
    "weaviate_apikey = os.getenv(\"WEAVIATE_APIKEY\")\n",
    "client = weaviate.Client(\n",
    "    \"http://localhost:8080\",\n",
    "    auth_client_secret=weaviate.auth.AuthApiKey(weaviate_apikey),\n",
    ")\n",
    "\n",
    "# How many paragraphs we have in the database?\n",
    "client.query.aggregate(\"passage\").with_meta_count().do()"
   ]
  },
  {
   "cell_type": "code",
   "execution_count": null,
   "metadata": {},
   "outputs": [],
   "source": [
    "# Ask a sample question\n",
    "question = {\"concepts\": [\"What is Antibacterial Activity?\"]}\n",
    "\n",
    "result = (\n",
    "    client.query.get(\"Passage\", [\"text_content\", \"topic\", \"preprocessor_id\"])\n",
    "    .with_near_text(question)\n",
    "    .with_limit(10)\n",
    "    .with_additional([\"vector\", \"distance\", \"id\"])\n",
    "    .do()\n",
    ")"
   ]
  },
  {
   "cell_type": "code",
   "execution_count": null,
   "metadata": {},
   "outputs": [],
   "source": [
    "# What are the related paragraphs?\n",
    "for x in result[\"data\"][\"Get\"][\"Passage\"]:\n",
    "    print(x[\"text_content\"], \"\\n\", \"-\" * 180)\n"
   ]
  },
  {
   "cell_type": "code",
   "execution_count": null,
   "metadata": {},
   "outputs": [],
   "source": [
    "raw_vec = result[\"data\"][\"Get\"][\"Passage\"][0][\"_additional\"][\"vector\"]\n",
    "raw_vec\n"
   ]
  },
  {
   "attachments": {},
   "cell_type": "markdown",
   "metadata": {},
   "source": [
    "## With pre-filtering"
   ]
  },
  {
   "cell_type": "code",
   "execution_count": 14,
   "metadata": {},
   "outputs": [],
   "source": [
    "where_filter = {\n",
    "    \"path\": [\"topic\"],\n",
    "    \"operator\": \"Equal\",\n",
    "    \"valueText\": \"covid-19\",\n",
    "}\n",
    "\n",
    "# where_filter = {\n",
    "#     \"path\": [\"preprocessor_id\"],\n",
    "#     \"operator\": \"Equal\",\n",
    "#     \"valueText\": \"haystack-v0.0.1\",\n",
    "# }\n",
    "\n",
    "\n",
    "result = (\n",
    "    client.query.get(\"Passage\", [\"text_content\", \"topic\", \"preprocessor_id\"])\n",
    "    .with_where(where_filter)\n",
    "    .with_near_text(question)\n",
    "    .with_limit(10)\n",
    "    .with_additional([\"vector\", \"distance\", \"id\"])\n",
    "    .do()\n",
    ")"
   ]
  }
 ],
 "metadata": {
  "kernelspec": {
   "display_name": "base",
   "language": "python",
   "name": "python3"
  },
  "language_info": {
   "codemirror_mode": {
    "name": "ipython",
    "version": 3
   },
   "file_extension": ".py",
   "mimetype": "text/x-python",
   "name": "python",
   "nbconvert_exporter": "python",
   "pygments_lexer": "ipython3",
   "version": "3.8.13"
  },
  "orig_nbformat": 4
 },
 "nbformat": 4,
 "nbformat_minor": 2
}
