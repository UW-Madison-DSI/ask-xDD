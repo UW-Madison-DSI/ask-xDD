{
 "cells": [
  {
   "cell_type": "code",
   "execution_count": 1,
   "metadata": {},
   "outputs": [
    {
     "data": {
      "text/plain": [
       "{'data': {'Aggregate': {'Passage': [{'meta': {'count': 286}}]}}}"
      ]
     },
     "execution_count": 1,
     "metadata": {},
     "output_type": "execute_result"
    }
   ],
   "source": [
    "import os\n",
    "import weaviate\n",
    "\n",
    "weaviate_apikey = os.getenv(\"WEAVIATE_APIKEY\")\n",
    "client = weaviate.Client(\n",
    "    \"http://localhost:8080\",\n",
    "    auth_client_secret=weaviate.auth.AuthApiKey(weaviate_apikey),\n",
    ")\n",
    "\n",
    "# How many paragraphs we have in the database?\n",
    "client.query.aggregate(\"passage\").with_meta_count().do()\n"
   ]
  },
  {
   "cell_type": "code",
   "execution_count": 19,
   "metadata": {},
   "outputs": [],
   "source": [
    "# Ask a sample question\n",
    "question = \"What is Antibacterial Activity?\"\n",
    "\n",
    "results = (\n",
    "    client.query.get(\n",
    "        \"Passage\", [\"paper_id\", \"text_content\", \"topic\", \"preprocessor_id\"]\n",
    "    )\n",
    "    .with_additional([\"distance\"])\n",
    "    .with_near_text({\"concepts\": [question], \"distance\": 0.7})\n",
    "    .with_limit(3)\n",
    "    .do()\n",
    ")\n"
   ]
  },
  {
   "cell_type": "code",
   "execution_count": 21,
   "metadata": {},
   "outputs": [],
   "source": [
    "ys = results[\"data\"][\"Get\"][\"Passage\"]\n"
   ]
  },
  {
   "cell_type": "code",
   "execution_count": 22,
   "metadata": {},
   "outputs": [
    {
     "data": {
      "text/plain": [
       "[{'_additional': {'distance': 0.34221327},\n",
       "  'paper_id': '5a072cc8cf58f17b6189544b',\n",
       "  'preprocessor_id': 'haystack_v0.0.1',\n",
       "  'text_content': 'antitumor efficacy by inactivating the VRP [18]. The LSFVIL12 particles injected intraperitoneally in mice implanted subcutaneously with pancreatic cancer cells resulted in reduction of tumor size if vaccinations were initiated either immediately after tumor implantation or up to 3 weeks after implantation [18]. A Phase I human clinical trial in kidney carcinoma and melanoma patients using LSFV-IL12 delivered\\n\\nintravenously has been described and preliminary data have been provided that indicate this formulation (1 Â 108 or 5 Â 109 particles/m2 body surface) was well tolerated and that a transient increase (five- to tenfold) in IL-12 serum levels was detected within the first 3–4 days after injection [16–18]. A complete summary of the clinical outcomes of this clinical trial has not yet been published. A study protocol for a Phase I/II clinical trial using continuous intratumoral infusion of LSFV-IL12 in recurrent glioblastoma multiforme patients has been described, but no data are available on the status of this clinical trial [18].\\nVenezuelan equine encephalitis vectors Development of VEEV VRP for human clinical evaluation has occurred in both an infectious disease and cancer setting [20–23]. VEEV VRP vaccines have been tested preclinically against a large range of pathogens (TABLE 1), of which only a few',\n",
       "  'topic': 'covid-19'},\n",
       " {'_additional': {'distance': 0.35207212},\n",
       "  'paper_id': '5a072cc8cf58f17b6189544b',\n",
       "  'preprocessor_id': 'haystack_v0.0.1',\n",
       "  'text_content': 'clinically and has been shown to be well tolerated and safe in adults [200]. Recruitment of children and toddlers for clinical evaluation of SeV (as a vaccine against hPIV-1) in these age groups is occurring now [223]. Supported by the clinical safety demonstrated by wild-type SeV it has become the focus of vaccine vector development.\\nGarcin et al. (1995) were the first to rescue infectious SeV from cDNA using vaccinia T7 expressing helper virus and plasmids providing the NP, P and L genes along with the SeV genome as described above [138]. This was followed closely by another group in 1996 [145]. In addition to replicationcompetent SeV vectors, versions modified by deletion of the F gene have been developed that are not transmissible [224]. The SeV-DF vector must be produced in cells that provide F in trans to make particles. These particles are able to infect cells in a similar manner to replication-competent SeV [225,226] and express heterologous genes but cannot spread to other cells [224,225]. Initial recombinant SeV viruses expressed reporter genes, but researchers rapidly began to introduce a host of additional genes [226,227]. Although SeV has been used to develop vaccines against a large range of pathogens (see TABLE',\n",
       "  'topic': 'covid-19'},\n",
       " {'_additional': {'distance': 0.3557735},\n",
       "  'paper_id': '5a072cc8cf58f17b6189544b',\n",
       "  'preprocessor_id': 'haystack_v0.0.1',\n",
       "  'text_content': 'immunization of non-human primates with a Newcastle disease virus-vectored vaccine candidate against Ebola virus elicits a neutralizing antibody response. Vaccine 2010;29(1): 17-25\\n333. DiNapoli JM, Yang L, Suguitan A Jr, et al. Immunization of primates with a Newcastle disease virus-vectored vaccine via the respiratory tract induces a high titer of serum neutralizing antibodies against highly pathogenic avian influenza virus. J Virol 2007;81(21):11560-8\\n334. DiNapoli JM, Ward JM, Cheng L, et al. Delivery to the lower respiratory tract is required for effective immunization with Newcastle disease virus-vectored vaccines intended for humans. Vaccine 2009;27(10): 1530-9\\n335. Martinez-Sobrido L, Gitiban N, Fernandez-Sesma A, et al. Protection against respiratory syncytial virus by a recombinant Newcastle disease virus vector. J Virol 2006; 80(3):1130-9\\n336. Carnero E, Li W, Borderia AV, et al. Optimization of human immunodeficiency virus gag expression by newcastle disease virus vectors for the induction of potent immune responses. J Virol 2009;83(2): 584-97\\n337. Maamary J, Array F, Gao Q, et al. Newcastle disease virus expressing a dendritic cell-targeted HIV gag protein induces a potent gag-specific immune response in mice. J Virol 2011;85(5): 2235-46\\n338. Jin H, Clarke D, Zhou HZ, et al. Recombinant human respiratory syncytial virus (RSV) from cDNA and construction of subgroup A and B chimeric',\n",
       "  'topic': 'covid-19'}]"
      ]
     },
     "execution_count": 22,
     "metadata": {},
     "output_type": "execute_result"
    }
   ],
   "source": [
    "ys\n"
   ]
  },
  {
   "cell_type": "code",
   "execution_count": null,
   "metadata": {},
   "outputs": [],
   "source": [
    "# What are the related paragraphs?\n",
    "for x in result[\"data\"][\"Get\"][\"Passage\"]:\n",
    "    print(x[\"text_content\"], \"\\n\", \"-\" * 180)"
   ]
  },
  {
   "cell_type": "code",
   "execution_count": null,
   "metadata": {},
   "outputs": [],
   "source": [
    "raw_vec = result[\"data\"][\"Get\"][\"Passage\"][0][\"_additional\"][\"vector\"]\n",
    "raw_vec"
   ]
  },
  {
   "attachments": {},
   "cell_type": "markdown",
   "metadata": {},
   "source": [
    "## With pre-filtering"
   ]
  },
  {
   "cell_type": "code",
   "execution_count": null,
   "metadata": {},
   "outputs": [],
   "source": [
    "where_filter = {\n",
    "    \"path\": [\"topic\"],\n",
    "    \"operator\": \"Equal\",\n",
    "    \"valueText\": \"covid-19\",\n",
    "}\n",
    "\n",
    "# where_filter = {\n",
    "#     \"path\": [\"preprocessor_id\"],\n",
    "#     \"operator\": \"Equal\",\n",
    "#     \"valueText\": \"haystack-v0.0.1\",\n",
    "# }\n",
    "\n",
    "\n",
    "result = (\n",
    "    client.query.get(\"Passage\", [\"text_content\", \"topic\", \"preprocessor_id\"])\n",
    "    .with_where(where_filter)\n",
    "    .with_near_text(question)\n",
    "    .with_limit(10)\n",
    "    .with_additional([\"vector\", \"distance\", \"id\"])\n",
    "    .do()\n",
    ")\n"
   ]
  }
 ],
 "metadata": {
  "kernelspec": {
   "display_name": "base",
   "language": "python",
   "name": "python3"
  },
  "language_info": {
   "codemirror_mode": {
    "name": "ipython",
    "version": 3
   },
   "file_extension": ".py",
   "mimetype": "text/x-python",
   "name": "python",
   "nbconvert_exporter": "python",
   "pygments_lexer": "ipython3",
   "version": "3.9.16"
  },
  "orig_nbformat": 4
 },
 "nbformat": 4,
 "nbformat_minor": 2
}
