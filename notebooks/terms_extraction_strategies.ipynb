{
 "cells": [
  {
   "cell_type": "markdown",
   "metadata": {},
   "source": [
    "### SpaCy proper noun"
   ]
  },
  {
   "cell_type": "code",
   "execution_count": null,
   "metadata": {},
   "outputs": [],
   "source": [
    "from dotenv import load_dotenv\n",
    "import os\n",
    "import weaviate\n",
    "import logging\n",
    "\n",
    "logging.basicConfig(level=logging.INFO)"
   ]
  },
  {
   "cell_type": "code",
   "execution_count": null,
   "metadata": {},
   "outputs": [],
   "source": [
    "load_dotenv()\n",
    "\n",
    "WEAVIATE_URL = os.getenv(\"WEAVIATE_URL\")\n",
    "WEAVIATE_APIKEY = os.getenv(\"WEAVIATE_APIKEY\")\n",
    "print(WEAVIATE_URL)"
   ]
  },
  {
   "cell_type": "code",
   "execution_count": null,
   "metadata": {},
   "outputs": [],
   "source": [
    "client = weaviate.Client(\n",
    "    url=WEAVIATE_URL, auth_client_secret=weaviate.AuthApiKey(api_key=WEAVIATE_APIKEY)\n",
    ")"
   ]
  },
  {
   "cell_type": "code",
   "execution_count": null,
   "metadata": {},
   "outputs": [],
   "source": [
    "def sample_near(query: str) -> str:\n",
    "    response = (\n",
    "        client.query.get(\"Passage\", [\"text_content\"])\n",
    "        .with_near_text({\"concepts\": [query]})\n",
    "        .with_limit(1)\n",
    "        .do()\n",
    "    )\n",
    "    return response[\"data\"][\"Get\"][\"Passage\"][0][\"text_content\"]\n",
    "\n",
    "\n",
    "text = sample_near(\"SIR model for COVID\")\n",
    "text"
   ]
  },
  {
   "cell_type": "code",
   "execution_count": null,
   "metadata": {},
   "outputs": [],
   "source": [
    "from askem.terms_extractor import (\n",
    "    CapitalizedWordsStrategy,\n",
    "    MoreThanOneCapStrategy,\n",
    "    ProperNounStrategy,\n",
    ")"
   ]
  },
  {
   "cell_type": "code",
   "execution_count": null,
   "metadata": {},
   "outputs": [],
   "source": [
    "cws = CapitalizedWordsStrategy(min_length=3, top_k=10, min_occurrence=1)\n",
    "mto = MoreThanOneCapStrategy(min_length=3, top_k=10, min_occurrence=1)\n",
    "ppn = ProperNounStrategy(min_length=3, top_k=10, min_occurrence=1)\n",
    "\n",
    "\n",
    "def test(query: str) -> None:\n",
    "    text = sample_near(query)\n",
    "    print(f\"{text=}\")\n",
    "\n",
    "    print(\"========== CapitalizedWordsStrategy ==========\")\n",
    "    print(cws.extract_terms(text))\n",
    "    print(\"========== MoreThanOneCapStrategy ==========\")\n",
    "    print(mto.extract_terms(text))\n",
    "    print(\"========== ProperNounStrategy ==========\")\n",
    "    print(ppn.extract_terms(text))"
   ]
  },
  {
   "cell_type": "code",
   "execution_count": null,
   "metadata": {},
   "outputs": [],
   "source": [
    "test(\"SIR model for COVID\")"
   ]
  },
  {
   "cell_type": "code",
   "execution_count": null,
   "metadata": {},
   "outputs": [],
   "source": []
  },
  {
   "cell_type": "code",
   "execution_count": null,
   "metadata": {},
   "outputs": [],
   "source": []
  }
 ],
 "metadata": {
  "accelerator": "GPU",
  "colab": {
   "gpuType": "T4",
   "provenance": []
  },
  "gpuClass": "standard",
  "kernelspec": {
   "display_name": "base",
   "language": "python",
   "name": "python3"
  },
  "language_info": {
   "codemirror_mode": {
    "name": "ipython",
    "version": 3
   },
   "file_extension": ".py",
   "mimetype": "text/x-python",
   "name": "python",
   "nbconvert_exporter": "python",
   "pygments_lexer": "ipython3",
   "version": "3.8.10"
  },
  "vscode": {
   "interpreter": {
    "hash": "d4d1e4263499bec80672ea0156c357c1ee493ec2b1c70f0acce89fc37c4a6abe"
   }
  }
 },
 "nbformat": 4,
 "nbformat_minor": 0
}
