{
 "cells": [
  {
   "cell_type": "code",
   "execution_count": 1,
   "metadata": {},
   "outputs": [],
   "source": [
    "WEAVIATE_URL=\"YOUR_WEAVIATE_URL\"\n",
    "WEAVIATE_APIKEY=\"YOUR_API_KEY\""
   ]
  },
  {
   "cell_type": "code",
   "execution_count": null,
   "metadata": {},
   "outputs": [],
   "source": [
    "import weaviate\n",
    "\n",
    "batch_size = 20\n",
    "class_name = \"Passage\"\n",
    "class_properties = ['type', 'paper_id', 'cosmos_object_id']\n",
    "cursor = None\n",
    "num_of_figures = 0\n",
    "num_of_objects = 0\n",
    "num_of_figures_without_comos_id = 0\n",
    "\n",
    "def get_batch_with_cursor(client, class_name, class_properties, batch_size, cursor=None):\n",
    "    query = (\n",
    "        client.query.get(class_name, class_properties)\n",
    "        .with_additional([\"id\"])\n",
    "        .with_limit(batch_size)\n",
    "    )\n",
    "\n",
    "    if cursor is not None:\n",
    "        return query.with_after(cursor).do()\n",
    "    else:\n",
    "        return query.do()\n",
    "\n",
    "source_client = weaviate.Client(\n",
    "    url=WEAVIATE_URL, \n",
    "    auth_client_secret=weaviate.AuthApiKey(api_key=WEAVIATE_APIKEY)\n",
    ")\n",
    "\n",
    "while True:\n",
    "    # From the SOURCE instance, get the next group of objects\n",
    "    results = get_batch_with_cursor(source_client, class_name, class_properties, batch_size, cursor=cursor)\n",
    "\n",
    "    # If empty, we're finished\n",
    "    if len(results[\"data\"][\"Get\"][class_name]) == 0:\n",
    "        break\n",
    "\n",
    "    # Otherwise, find the uuid of the figure object and delete it\n",
    "    objects_list = results[\"data\"][\"Get\"][class_name]\n",
    "    num_of_objects += len(objects_list)\n",
    "    for object in objects_list:\n",
    "        if object['type'] == 'figure':\n",
    "            num_of_figures += 1\n",
    "            if object['cosmos_object_id'] is None:\n",
    "                num_of_figures_without_comos_id += 1\n",
    "                print(object)\n",
    "                print(object['_additional']['id'])\n",
    "                \n",
    "                # try:\n",
    "                #     source_client.data_object.delete(\n",
    "                #         uuid=object['_additional']['id'],\n",
    "                #         class_name=class_name,\n",
    "                #     )\n",
    "                # except weaviate.exceptions.UnexpectedStatusCodeException as e:\n",
    "                #     print(e)\n",
    "\n",
    "    # Update the cursor to the id of the last retrieved object\n",
    "    cursor = results[\"data\"][\"Get\"][class_name][-1][\"_additional\"][\"id\"]\n",
    "    \n",
    "print(f\"Total number of objects: {num_of_objects}\")\n",
    "print(f\"Total number of figures: {num_of_figures}\")\n",
    "print(f\"Total number of figures without cosmos_object_id: {num_of_figures_without_comos_id}\")"
   ]
  }
 ],
 "metadata": {
  "kernelspec": {
   "display_name": "askem",
   "language": "python",
   "name": "python3"
  },
  "language_info": {
   "codemirror_mode": {
    "name": "ipython",
    "version": 3
   },
   "file_extension": ".py",
   "mimetype": "text/x-python",
   "name": "python",
   "nbconvert_exporter": "python",
   "pygments_lexer": "ipython3",
   "version": "3.9.16"
  },
  "orig_nbformat": 4
 },
 "nbformat": 4,
 "nbformat_minor": 2
}
