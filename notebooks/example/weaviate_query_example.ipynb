{
 "cells": [
  {
   "cell_type": "code",
   "execution_count": null,
   "metadata": {},
   "outputs": [],
   "source": [
    "!pip install python-dotenv weaviate-client==3.24.1"
   ]
  },
  {
   "cell_type": "code",
   "execution_count": null,
   "metadata": {},
   "outputs": [],
   "source": [
    "import os\n",
    "import weaviate\n",
    "from dotenv import load_dotenv\n",
    "\n",
    "load_dotenv()\n",
    "weaviate_apikey = os.getenv(\"WEAVIATE_APIKEY\")\n",
    "url = os.getenv(\"WEAVIATE_URL\")\n",
    "client = weaviate.Client(\n",
    "    url,\n",
    "    auth_client_secret=weaviate.auth.AuthApiKey(weaviate_apikey),\n",
    ")\n",
    "\n",
    "# How many paragraphs we have in the database?\n",
    "client.query.aggregate(\"Paragraph\").with_meta_count().do()"
   ]
  },
  {
   "cell_type": "code",
   "execution_count": null,
   "metadata": {},
   "outputs": [],
   "source": [
    "passage_schema = client.schema.get()[\"classes\"][0]\n",
    "for prop in passage_schema[\"properties\"]:\n",
    "    print(prop[\"name\"], prop[\"dataType\"])"
   ]
  },
  {
   "cell_type": "markdown",
   "metadata": {},
   "source": [
    "Basic filtering"
   ]
  },
  {
   "cell_type": "code",
   "execution_count": null,
   "metadata": {},
   "outputs": [],
   "source": [
    "client.query.get(\"Passage\", [\"paper_id\", \"topic_list\"]).with_where(\n",
    "    {\"path\": \"paragraph_terms_0\", \"operator\": \"Equal\", \"valueText\": \"RSV\"}\n",
    ").with_limit(5).do()"
   ]
  },
  {
   "cell_type": "code",
   "execution_count": null,
   "metadata": {},
   "outputs": [],
   "source": [
    "client.query.get(\"Paragraph\", [\"paper_id\", \"topic_list\", \"doc_type\"]).with_where(\n",
    "    {\n",
    "        \"path\": \"topic_list\",\n",
    "        \"operator\": \"ContainsAny\",\n",
    "        \"valueText\": [\"xdd-covid-19\"],\n",
    "    }\n",
    ").with_limit(3).do()"
   ]
  },
  {
   "cell_type": "markdown",
   "metadata": {},
   "source": [
    "Asking question"
   ]
  },
  {
   "cell_type": "code",
   "execution_count": null,
   "metadata": {},
   "outputs": [],
   "source": [
    "# Ask a sample question\n",
    "question = \"What is Antibacterial Activity?\"\n",
    "\n",
    "results = (\n",
    "    client.query.get(\n",
    "        \"Passage\", [\"paper_id\", \"text_content\", \"topic\", \"preprocessor_id\"]\n",
    "    )\n",
    "    .with_additional([\"distance\", \"vector\"])\n",
    "    .with_near_text({\"concepts\": [question], \"distance\": 0.7})\n",
    "    .with_limit(3)\n",
    "    .do()\n",
    ")"
   ]
  },
  {
   "cell_type": "code",
   "execution_count": null,
   "metadata": {},
   "outputs": [],
   "source": [
    "ys = results[\"data\"][\"Get\"][\"Passage\"]"
   ]
  },
  {
   "cell_type": "code",
   "execution_count": null,
   "metadata": {},
   "outputs": [],
   "source": [
    "ys"
   ]
  },
  {
   "cell_type": "code",
   "execution_count": null,
   "metadata": {},
   "outputs": [],
   "source": [
    "# What are the related paragraphs?\n",
    "for x in results[\"data\"][\"Get\"][\"Passage\"]:\n",
    "    print(x[\"text_content\"], \"\\n\", \"-\" * 180)"
   ]
  },
  {
   "cell_type": "code",
   "execution_count": null,
   "metadata": {},
   "outputs": [],
   "source": [
    "raw_vec = results[\"data\"][\"Get\"][\"Passage\"][0][\"_additional\"][\"vector\"]\n",
    "raw_vec"
   ]
  },
  {
   "attachments": {},
   "cell_type": "markdown",
   "metadata": {},
   "source": [
    "## question with filtering"
   ]
  },
  {
   "cell_type": "code",
   "execution_count": null,
   "metadata": {},
   "outputs": [],
   "source": [
    "where_filter = {\n",
    "    \"path\": [\"topic\"],\n",
    "    \"operator\": \"Equal\",\n",
    "    \"valueText\": \"covid-19\",\n",
    "}\n",
    "\n",
    "# where_filter = {\n",
    "#     \"path\": [\"preprocessor_id\"],\n",
    "#     \"operator\": \"Equal\",\n",
    "#     \"valueText\": \"haystack-v0.0.1\",\n",
    "# }\n",
    "\n",
    "near_text_filter = {\n",
    "    \"concepts\": [\"disease\"],\n",
    "    \"moveAwayFrom\": {\"concepts\": [\"finance\"], \"force\": 0.45},\n",
    "    \"moveTo\": {\"concepts\": [\"cure, vaccine\"], \"force\": 0.85},\n",
    "}\n",
    "\n",
    "\n",
    "result = (\n",
    "    client.query.get(\"Passage\", [\"text_content\", \"topic\", \"preprocessor_id\"])\n",
    "    .with_where(where_filter)\n",
    "    .with_near_text(near_text_filter)\n",
    "    .with_limit(10)\n",
    "    .with_additional([\"vector\", \"distance\", \"id\"])\n",
    "    .do()\n",
    ")"
   ]
  },
  {
   "cell_type": "code",
   "execution_count": null,
   "metadata": {},
   "outputs": [],
   "source": [
    "result"
   ]
  },
  {
   "cell_type": "code",
   "execution_count": null,
   "metadata": {},
   "outputs": [],
   "source": []
  }
 ],
 "metadata": {
  "kernelspec": {
   "display_name": "base",
   "language": "python",
   "name": "python3"
  },
  "language_info": {
   "codemirror_mode": {
    "name": "ipython",
    "version": 3
   },
   "file_extension": ".py",
   "mimetype": "text/x-python",
   "name": "python",
   "nbconvert_exporter": "python",
   "pygments_lexer": "ipython3",
   "version": "3.11.7"
  }
 },
 "nbformat": 4,
 "nbformat_minor": 2
}
