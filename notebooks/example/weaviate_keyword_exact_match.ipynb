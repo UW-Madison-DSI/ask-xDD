{
 "cells": [
  {
   "cell_type": "code",
   "execution_count": null,
   "metadata": {},
   "outputs": [],
   "source": [
    "import os\n",
    "import weaviate\n",
    "from dotenv import load_dotenv\n",
    "\n",
    "load_dotenv()"
   ]
  },
  {
   "cell_type": "code",
   "execution_count": null,
   "metadata": {},
   "outputs": [],
   "source": [
    "# Create Weaviate client\n",
    "\n",
    "WEAVIATE_API_KEY = os.getenv(\"WEAVIATE_API_KEY\")\n",
    "WEAVIATE_URL = os.getenv(\"WEAVIATE_URL\")\n",
    "\n",
    "client = weaviate.Client(\n",
    "    WEAVIATE_URL,\n",
    "    auth_client_secret=weaviate.auth.AuthApiKey(WEAVIATE_API_KEY),\n",
    ")\n",
    "\n",
    "# Sanity check: How many paragraphs we have in the database?\n",
    "client.query.aggregate(\"passage\").with_meta_count().do()"
   ]
  },
  {
   "cell_type": "code",
   "execution_count": null,
   "metadata": {},
   "outputs": [],
   "source": [
    "# GraphQL query (see docs for more details: https://weaviate.io/developers/weaviate/api/graphql)\n",
    "\n",
    "contains_term_ops = {\n",
    "    \"path\": [\"text_content\"],\n",
    "    \"operator\": \"ContainsAll\",\n",
    "    \"valueString\": [\"dolomites\"],\n",
    "}\n",
    "\n",
    "is_topic_ops = {\n",
    "    \"path\": [\"topic\"],\n",
    "    \"operator\": \"Equal\",\n",
    "    \"valueText\": \"dolomites\",\n",
    "}\n",
    "\n",
    "where_filter = {\"operator\": \"And\", \"operands\": [contains_term_ops, is_topic_ops]}\n",
    "client.query.get(\"Passage\", [\"text_content\"]).with_where(where_filter).do()"
   ]
  }
 ],
 "metadata": {
  "language_info": {
   "name": "python"
  }
 },
 "nbformat": 4,
 "nbformat_minor": 2
}
