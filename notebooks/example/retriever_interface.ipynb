{
 "cells": [
  {
   "cell_type": "code",
   "execution_count": null,
   "metadata": {},
   "outputs": [],
   "source": [
    "import os\n",
    "from dotenv import load_dotenv\n",
    "\n",
    "load_dotenv()"
   ]
  },
  {
   "cell_type": "code",
   "execution_count": null,
   "metadata": {},
   "outputs": [],
   "source": [
    "import requests\n",
    "\n",
    "APIKEY = os.getenv(\"RETRIEVER_APIKEY\")\n",
    "ENDPOINT = \"http://cosmos0001.chtc.wisc.edu:4502\"\n",
    "data = {\n",
    "    \"question\": \"What is the incubation period of COVID-19?\",\n",
    "    \"top_k\": 3,  # Number of documents to return\n",
    "    \"doc_type\": \"figure\",  # Only 2 options available: \"paragraph\" and \"figure\"\n",
    "}\n",
    "\n",
    "headers = {\"Content-Type\": \"application/json\", \"Api-Key\": APIKEY}\n",
    "\n",
    "response = requests.post(ENDPOINT, headers=headers, json=data)\n",
    "\n",
    "response.json()"
   ]
  },
  {
   "cell_type": "code",
   "execution_count": null,
   "metadata": {},
   "outputs": [],
   "source": [
    "cosmos_object_id = \"03cfd871-e4b0-4810-8236-f87c212f44dd\"\n",
    "response = requests.get(f\"https://xdd.wisc.edu/askem/object/{cosmos_object_id}\")\n",
    "jpeg_bytes = response.json()[\"success\"][\"data\"][0][\"properties\"][\"image\"]\n",
    "html = f\"<img src='data:image/jpg;base64,{jpeg_bytes}' />\""
   ]
  },
  {
   "cell_type": "code",
   "execution_count": null,
   "metadata": {},
   "outputs": [],
   "source": [
    "with open(\"figure.html\", \"w\") as f:\n",
    "    f.write(html)"
   ]
  }
 ],
 "metadata": {
  "accelerator": "GPU",
  "colab": {
   "gpuType": "T4",
   "provenance": []
  },
  "gpuClass": "standard",
  "kernelspec": {
   "display_name": "base",
   "language": "python",
   "name": "python3"
  },
  "language_info": {
   "codemirror_mode": {
    "name": "ipython",
    "version": 3
   },
   "file_extension": ".py",
   "mimetype": "text/x-python",
   "name": "python",
   "nbconvert_exporter": "python",
   "pygments_lexer": "ipython3",
   "version": "3.9.16"
  },
  "vscode": {
   "interpreter": {
    "hash": "d4d1e4263499bec80672ea0156c357c1ee493ec2b1c70f0acce89fc37c4a6abe"
   }
  }
 },
 "nbformat": 4,
 "nbformat_minor": 0
}
