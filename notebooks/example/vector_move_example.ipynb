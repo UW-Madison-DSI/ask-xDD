{
 "cells": [
  {
   "cell_type": "code",
   "execution_count": null,
   "metadata": {},
   "outputs": [],
   "source": [
    "import os\n",
    "from dotenv import load_dotenv\n",
    "import requests\n",
    "\n",
    "load_dotenv()"
   ]
  },
  {
   "cell_type": "code",
   "execution_count": null,
   "metadata": {},
   "outputs": [],
   "source": [
    "APIKEY = os.getenv(\"RETRIEVER_APIKEY\")\n",
    "ENDPOINT = \"http://cosmos0001.chtc.wisc.edu:4502\"\n",
    "HEADERS = {\"Content-Type\": \"application/json\", \"Api-Key\": APIKEY}"
   ]
  },
  {
   "cell_type": "markdown",
   "metadata": {},
   "source": [
    "Old version without term per-filtering"
   ]
  },
  {
   "cell_type": "code",
   "execution_count": null,
   "metadata": {},
   "outputs": [],
   "source": [
    "data = {\n",
    "    \"question\": \"What is SIR model in COVID-19?\",\n",
    "    \"top_k\": 1,\n",
    "    \"doc_type\": \"paragraph\",\n",
    "}\n",
    "\n",
    "requests.post(ENDPOINT, headers=HEADERS, json=data).json()"
   ]
  },
  {
   "cell_type": "markdown",
   "metadata": {},
   "source": [
    "Search `What is SIR model in COVID-19` with terms `SIR`"
   ]
  },
  {
   "cell_type": "code",
   "execution_count": null,
   "metadata": {},
   "outputs": [],
   "source": [
    "data = {\n",
    "    \"question\": \"What is SIR model in COVID-19?\",\n",
    "    \"top_k\": 1,\n",
    "    \"doc_type\": \"paragraph\",\n",
    "    \"paragraph_terms\": [\"SIR\"],  # Term based pre-filtering\n",
    "}\n",
    "\n",
    "requests.post(ENDPOINT, headers=HEADERS, json=data).json()"
   ]
  },
  {
   "cell_type": "markdown",
   "metadata": {},
   "source": [
    "Improving search with moving the vector towards a `mathematic formula` and away from `commentary`"
   ]
  },
  {
   "cell_type": "code",
   "execution_count": null,
   "metadata": {},
   "outputs": [],
   "source": [
    "data = {\n",
    "    \"question\": \"What is SIR model in COVID-19?\",\n",
    "    \"top_k\": 1,\n",
    "    \"doc_type\": \"paragraph\",\n",
    "    \"paragraph_terms\": [\"SIR\"],  # Term based pre-filtering\n",
    "    \"move_to\": \"mathematic formula\",\n",
    "    \"move_to_weight\": 1,\n",
    "    \"move_away_from\": \"commentary\",\n",
    "    \"move_away_from_weight\": 1,\n",
    "}\n",
    "\n",
    "requests.post(ENDPOINT, headers=HEADERS, json=data).json()"
   ]
  }
 ],
 "metadata": {
  "kernelspec": {
   "display_name": "Python 3",
   "language": "python",
   "name": "python3"
  },
  "language_info": {
   "codemirror_mode": {
    "name": "ipython",
    "version": 3
   },
   "file_extension": ".py",
   "mimetype": "text/x-python",
   "name": "python",
   "nbconvert_exporter": "python",
   "pygments_lexer": "ipython3",
   "version": "3.8.10"
  }
 },
 "nbformat": 4,
 "nbformat_minor": 2
}
