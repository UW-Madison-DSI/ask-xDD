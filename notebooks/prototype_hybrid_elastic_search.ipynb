{
 "cells": [
  {
   "cell_type": "markdown",
   "metadata": {},
   "source": [
    "Article level bm25\n",
    "1. Obtain rank from elastic search service\n",
    "2. Use (1) results as top-n pre-filtering\n",
    "3. Perform vector search\n"
   ]
  },
  {
   "cell_type": "markdown",
   "metadata": {},
   "source": [
    "Terarium search box defaults: \n",
    "\n",
    "- https://xdd.wisc.edu/articles/get_articles?term=SIR%20model&dataset=xdd-covid-19&include_highlights=true&include_score=true&facets=true&additional_fields=title,abstract&match=true&known_entities=url_extractions,askem_object&max=20&per_page=20"
   ]
  },
  {
   "cell_type": "code",
   "execution_count": null,
   "metadata": {},
   "outputs": [],
   "source": [
    "from typing import List\n",
    "import requests"
   ]
  },
  {
   "cell_type": "code",
   "execution_count": null,
   "metadata": {},
   "outputs": [],
   "source": [
    "def query(q: str, top_k: int) -> dict:\n",
    "    \"\"\"Simulate Terarium query.\"\"\"\n",
    "\n",
    "    url = \"https://xdd.wisc.edu/api/articles\"\n",
    "\n",
    "    params = {\n",
    "        \"term\": q,\n",
    "        \"dataset\": \"xdd-covid-19\",\n",
    "        # 'include_highlights': True,\n",
    "        # 'include_score': True,\n",
    "        # 'facets': True,\n",
    "        # 'additional_fields': 'title,abstract',\n",
    "        \"match\": \"true\",\n",
    "        \"max\": top_k,\n",
    "        # 'per_page': 20\n",
    "    }\n",
    "\n",
    "    response = requests.get(url, params=params)\n",
    "    response.raise_for_status()\n",
    "    return response.json()\n",
    "\n",
    "\n",
    "def get_contents(response: dict, path: list, field: str) -> List[str]:\n",
    "    \"\"\"Get list of _gddid values from response.\"\"\"\n",
    "\n",
    "    for key in path:\n",
    "        response = response[key]\n",
    "\n",
    "    return [hit[field] for hit in response]"
   ]
  },
  {
   "cell_type": "code",
   "execution_count": null,
   "metadata": {},
   "outputs": [],
   "source": [
    "response = query(\"SIR model and COVID-19\", 50)"
   ]
  },
  {
   "cell_type": "code",
   "execution_count": null,
   "metadata": {},
   "outputs": [],
   "source": [
    "get_contents(response, [\"success\", \"data\"], \"_gddid\")[:10]"
   ]
  },
  {
   "cell_type": "code",
   "execution_count": null,
   "metadata": {},
   "outputs": [],
   "source": [
    "get_contents(response, [\"success\", \"data\"], \"title\")[:10]"
   ]
  },
  {
   "cell_type": "markdown",
   "metadata": {},
   "source": [
    "Warning: Ranking is not identical to Terarium search box defaults"
   ]
  },
  {
   "cell_type": "markdown",
   "metadata": {},
   "source": [
    "Perhaps useful ids:\n",
    "- _gddid: at path `['success']['data'][i]` == `paper_id`"
   ]
  },
  {
   "cell_type": "markdown",
   "metadata": {},
   "source": [
    "Test API call to weaviate"
   ]
  },
  {
   "cell_type": "code",
   "execution_count": null,
   "metadata": {},
   "outputs": [],
   "source": [
    "import os\n",
    "import weaviate\n",
    "from dotenv import load_dotenv\n",
    "\n",
    "load_dotenv()\n",
    "weaviate_apikey = os.getenv(\"WEAVIATE_APIKEY\")\n",
    "url = os.getenv(\"WEAVIATE_URL\")\n",
    "client = weaviate.Client(\n",
    "    url,\n",
    "    auth_client_secret=weaviate.auth.AuthApiKey(weaviate_apikey),\n",
    ")\n",
    "\n",
    "# How many paragraphs we have in the database?\n",
    "client.query.aggregate(\"passage\").with_meta_count().do()"
   ]
  },
  {
   "cell_type": "code",
   "execution_count": null,
   "metadata": {},
   "outputs": [],
   "source": [
    "client.query.aggregate(\"Passage\").with_where(\n",
    "    {\n",
    "        \"path\": \"paper_id\",\n",
    "        \"operator\": \"ContainsAny\",\n",
    "        \"valueText\": [\"5fe28aeaea8bd37226bbb965\"],\n",
    "    }\n",
    ").with_meta_count().do()"
   ]
  },
  {
   "cell_type": "code",
   "execution_count": null,
   "metadata": {},
   "outputs": [],
   "source": [
    "client.query.aggregate(\"Passage\").with_where(\n",
    "    {\n",
    "        \"path\": \"paper_id\",\n",
    "        \"operator\": \"ContainsAny\",\n",
    "        \"valueText\": [\"5f21d318a58f1dfd52105648\"],\n",
    "    }\n",
    ").with_meta_count().do()"
   ]
  },
  {
   "cell_type": "code",
   "execution_count": null,
   "metadata": {},
   "outputs": [],
   "source": [
    "two_papers = [\"5fe28aeaea8bd37226bbb965\", \"5f21d318a58f1dfd52105648\"]\n",
    "\n",
    "client.query.aggregate(\"Passage\").with_where(\n",
    "    {\"path\": \"paper_id\", \"operator\": \"ContainsAny\", \"valueText\": two_papers}\n",
    ").with_meta_count().do()"
   ]
  },
  {
   "cell_type": "code",
   "execution_count": null,
   "metadata": {},
   "outputs": [],
   "source": [
    "client.query.aggregate(\"Passage\").with_where(\n",
    "    {\n",
    "        \"path\": \"paper_id\",\n",
    "        \"operator\": \"ContainsAny\",\n",
    "        \"valueText\": [\"5ec5647d998e17af826f5499\"],\n",
    "    }\n",
    ").with_meta_count().do()"
   ]
  },
  {
   "cell_type": "markdown",
   "metadata": {},
   "source": [
    "Some id is not in the weaviate DB: e.g., `5ec5647d998e17af826f5499`\n",
    "but some does: `5fe28aeaea8bd37226bbb965`"
   ]
  }
 ],
 "metadata": {
  "accelerator": "GPU",
  "colab": {
   "gpuType": "T4",
   "provenance": []
  },
  "gpuClass": "standard",
  "kernelspec": {
   "display_name": "base",
   "language": "python",
   "name": "python3"
  },
  "language_info": {
   "codemirror_mode": {
    "name": "ipython",
    "version": 3
   },
   "file_extension": ".py",
   "mimetype": "text/x-python",
   "name": "python",
   "nbconvert_exporter": "python",
   "pygments_lexer": "ipython3",
   "version": "3.8.10"
  },
  "vscode": {
   "interpreter": {
    "hash": "d4d1e4263499bec80672ea0156c357c1ee493ec2b1c70f0acce89fc37c4a6abe"
   }
  }
 },
 "nbformat": 4,
 "nbformat_minor": 0
}
