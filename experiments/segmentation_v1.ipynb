{
 "cells": [
  {
   "attachments": {},
   "cell_type": "markdown",
   "metadata": {},
   "source": [
    "# Segmentation v1\n",
    "\n",
    "Create a pipeline to get relevant sentences from a paper w.r.t. user query. Then summarize the sentences.\n",
    "\n",
    "Step 1: Get relevant rating in each sentence in a long text.\n",
    "\n",
    "- Text to sentences\n",
    "- Sentences to embedding vectors\n",
    "- Question to embedding vector\n",
    "- Dot-product between question and sentences embedding to measure relatedness\n",
    "\n",
    "Step 2: Subset by top-k or threshold to get relevant sentences to a query.\n",
    "\n",
    "Step 3: Summarize the sentences."
   ]
  },
  {
   "attachments": {},
   "cell_type": "markdown",
   "metadata": {},
   "source": [
    "### Pubmed data"
   ]
  },
  {
   "cell_type": "code",
   "execution_count": 1,
   "metadata": {},
   "outputs": [
    {
     "name": "stderr",
     "output_type": "stream",
     "text": [
      "No config specified, defaulting to: pubmed-summarization/section\n",
      "Found cached dataset pubmed-summarization (/root/.cache/huggingface/datasets/ccdv___pubmed-summarization/section/1.0.0/f765ec606c790e8c5694b226814a13f1974ba4ea98280989edaffb152ded5e2b)\n"
     ]
    },
    {
     "data": {
      "application/json": {
       "ascii": false,
       "bar_format": null,
       "colour": null,
       "elapsed": 0.0573124885559082,
       "initial": 0,
       "n": 0,
       "ncols": null,
       "nrows": null,
       "postfix": null,
       "prefix": "",
       "rate": null,
       "total": 3,
       "unit": "it",
       "unit_divisor": 1000,
       "unit_scale": false
      },
      "application/vnd.jupyter.widget-view+json": {
       "model_id": "5edcc9b077d54122aa8dc6f71109f5b0",
       "version_major": 2,
       "version_minor": 0
      },
      "text/plain": [
       "  0%|          | 0/3 [00:00<?, ?it/s]"
      ]
     },
     "metadata": {},
     "output_type": "display_data"
    },
    {
     "data": {
      "text/plain": [
       "{'article': 'syncope is caused by transient diffuse cerebral hypoperfusion and is characterized by transient loss of consciousness with a rapid onset followed by spontaneous and complete recovery . \\n clinical features of syncope may include myoclonic jerks which are often multifocal and asynchronous , convulsions , and urinary incontinence , making it difficult to differentiate from epileptic seizure by clinical features alone . \\n significant fluctuations in cerebral perfusion pressure are prevented by autoregulation of cerebral circulation , but there may be conditions where such mechanism may not compensate adequately . \\n cough syncope , a rare form of syncope , may be a result of transient failure of the cerebral autoregulatory mechanism to cope with sudden decrease in cerebral blood flow . \\n we present an unusual case of recurrent cough syncope , which was initially diagnosed and treated as seizures , in the context of a left - sided glomus jugulare tumor , a benign paraganglioma . \\n a 43-year - old right - handed woman with history of glomus jugulare tumor in the left jugular fossa with intracranial extension into the posterior cranial fossa was transferred from another hospital for recurrent seizure - like spells . \\n she had a 90% surgical resection of the tumor done in 2011 followed by radiation therapy in september 2012 . \\n her episodes occurred multiple times a day ( 7 per day on average ) during wakeful state . \\n they were triggered by coughing ( usually a bout of cough ) and were characterized by staring and unresponsiveness as well as stiffening of the body with mild shaking of both upper extremities . \\n she was diagnosed with epileptic seizures but continued to have episodes during treatment with the antiepileptic drugs ( aeds ) phenytoin , levetiracetam , and lamotrigine . \\n escalation of aed therapy made her increasingly drowsy , and she was on all three aforementioned aeds at the time of presentation . \\n her physical examination was remarkable for excessive drowsiness , mild dysarthria , right sixth cranial nerve palsy , mild hypertonia with hyperreflexia in the lower extremities ( left more than right ) , and bilateral ( left more than right ) ankle clonus . \\n she had a lumbar puncture done at the outside hospital , and the opening cerebrospinal fluid ( csf ) pressure was reported to be 25  cm . \\n blood work was also unremarkable except for mild anemia ( hemoglobin : 9.4  g / dl ) , mild hyponatremia ( 132  meq / l ) , and mild hypokalemia ( 3.1  meq / l ) . \\n antiepileptic drug levels were within therapeutic range ( free phenytoin : 1.3  g / ml , levetiracetam : 5.9  g / ml , and lamotrigine : 2.3  g / ml ) . \\n all started with a bout of cough when the patient was lying in bed ( in supine or in lateral position ) which was followed by brief ( less than a minute ) distal upper extremity tremor and subtle proximal upper extremity myoclonic jerks and prolonged unresponsiveness for up to 10  min . \\n all of these episodes were associated with hypotension ( 7278/3147  mm of hg as revealed by continuous arterial pressure monitoring ) and bradycardia ( 5459  bpm ) . \\n the eeg during the spells was characterized by generalized synchronous and asynchronous high amplitude 1- to 2-hz delta activity which progressed to generalized attenuation and then transitioned to generalized delta activity again with recovery ( fig .  1 ) . \\n a head ct showed recurrence of the glomus jugulare tumor and communicating hydrocephalus . an external ventricular drain ( evd ) \\n after placement of the evd , her drowsiness gradually started to improve , and episodes decreased in frequency to one per day . \\n 3 showed an enhancing t2 hyperintense left skull base mass in the region of the left jugular foramen with extension into the posterior cranial fossa and below the base of the skull . \\n brain imaging showed evidence of hydrocephalus that had increased compared with her previous brain imaging done 2  months back . \\n her mental status continued to improve , and she had only one mild episode triggered by cough during the next two days before her discharge . \\n repeat surgical resection of the tumor was recommended by the otolaryngology team , which the patient declined . \\n based on the clinical features and eeg findings , the episodes observed in our patient are most consistent with cough syncope . \\n the mechanism underlying cough syncope is not definitively established , but it is postulated that coughing increases intrathoracic and intraabdominal pressures leading to a transient increase in icp . increased icp , in turn , causes a decrease in cerebral perfusion pressure which , if it drops below a critical level , may result in global cerebral hypoperfusion leading to syncope . \\n transient cerebral circulatory arrest has been demonstrated by transcranial doppler measurements during cough syncope . our patient also had a drop in blood pressure and heart rate but probably not sufficient to cause syncope by itself . \\n cough syncope has been associated with posterior fossa mass lesions or tonsillar herniation and with hydrocephalus . \\n it may be speculated that bouts of cough caused transient herniation of cerebellar tonsils obstructing csf flow that further contributed to the increase in icp during coughing . \\n decrease in frequency of events following placement of evd to relieve icp lends support to this notion . \\n paragangliomas are rare tumors of extraadrenal chromaffin cell origin that most commonly occur in the head and neck region . \\n catecholamine - hypersecreting paraganglionomas are uncommon in the head and neck region , and most patients ( 95% ) with hypersecreting paraganglionomas have hypertension . \\n hypotension accompanying syncope observed in our patient was not orthostasis - related ( the patient was always supine during spells ) and was most likely related to cough . \\n identified a subset of patients with cough syncope who lacked a blood pressure overshoot ( expected response ) after the relief of straining during valsalva maneuver . \\n the authors postulate that cough syncope in these patients might be the result of delayed recovery from hypotension that follows a paroxysm of cough , and this was likely contributing to global cerebral hypoperfusion in our patient . \\n this case highlights the fact that cough syncope , a rare form of syncope , may be associated with intracranial mass lesions that indirectly exaggerate the increase in icp in response to cough . \\n glomus caroticum tumor presenting as recurrent unexplained syncope   and posterior fossa meningioma presenting as recurrent cough syncope   have been described . \\n recurrent cough syncope should trigger search for factors , including brain tumors , with the potential to cause transient elevation in icp . \\n this case also illustrates an important role for ceeg monitoring with video in distinguishing syncope from seizures in cough syncope cases . \\n ',\n",
       " 'abstract': \"we present an unusual case of recurrent cough syncope in a 43-year - old woman , which was initially thought to be seizures . \\n syncopal episodes were triggered by paroxysms of cough and were characterized by unresponsiveness and myoclonic jerks in her extremities . \\n she had a left - sided glomus jugulare tumor that extended into the posterior cranial fossa with evidence of worsening communicating hydrocephalus on brain imaging . \\n we postulate that bouts of cough produced increased intracranial pressure both by raising intrathoracic and intraabdominal pressures as well as by transient obstruction to cerebrospinal fluid flow secondary to intermittent tonsillar herniation during cough . \\n this resulted in diffuse decrease in cerebral blood flow causing syncope . \\n the patient 's syncopal episodes decreased in frequency once an external ventricular drain was placed followed by a ventriculoperitoneal shunt . \\n search for factors that can increase intracranial pressure seems warranted in patients with recurrent cough syncope .\"}"
      ]
     },
     "execution_count": 1,
     "metadata": {},
     "output_type": "execute_result"
    }
   ],
   "source": [
    "from datasets import load_dataset\n",
    "from backend import dot_score, to_embeddings, summarize\n",
    "\n",
    "dataset = load_dataset(\"ccdv/pubmed-summarization\")\n",
    "dataset = dataset[\"train\"][4]\n",
    "dataset"
   ]
  },
  {
   "cell_type": "code",
   "execution_count": 2,
   "metadata": {},
   "outputs": [],
   "source": [
    "question = \"What are the symptoms of syncope?\""
   ]
  },
  {
   "cell_type": "code",
   "execution_count": 3,
   "metadata": {},
   "outputs": [
    {
     "name": "stdout",
     "output_type": "stream",
     "text": [
      "6918\n",
      "\n",
      "Excerpt:\n",
      "syncope is caused by transient diffuse cerebral hypoperfusion and is characterized by transient loss of consciousness with a rapid onset followed by spontaneous and complete recovery . \n",
      " clinical features of syncope may include myoclonic jerks which are often multifocal and asynchronous , convulsion\n"
     ]
    }
   ],
   "source": [
    "sentences = dataset[\"article\"].split(\"\\n\")\n",
    "sentences.append(question)  # Last sentence is query\n",
    "print(len(dataset[\"article\"]))\n",
    "print(\"\\nExcerpt:\")\n",
    "print(dataset[\"article\"][:300])"
   ]
  },
  {
   "attachments": {},
   "cell_type": "markdown",
   "metadata": {},
   "source": [
    "## Step 1: Get relevant rating in each sentence in a long text."
   ]
  },
  {
   "cell_type": "code",
   "execution_count": 4,
   "metadata": {},
   "outputs": [],
   "source": [
    "embeddings = to_embeddings(sentences, model=\"sentence-transformers/all-mpnet-base-v2\")  # Can use more powerful models\n",
    "similarity = dot_score(embeddings[:-1], embeddings[-1])  # Last sentence is query"
   ]
  },
  {
   "attachments": {},
   "cell_type": "markdown",
   "metadata": {},
   "source": [
    "## Step 2: Subset by top-k or threshold to get relevant sentences to a query."
   ]
  },
  {
   "cell_type": "code",
   "execution_count": 5,
   "metadata": {},
   "outputs": [],
   "source": [
    "def get_by_topk(sentences, similarity, topk=5):\n",
    "    \"\"\"Get top k sentences by similarity.\"\"\"\n",
    "    topk = similarity.topk(topk, dim=0)\n",
    "    return [sentences[i] for i in topk.indices.flatten().tolist()]\n",
    "\n",
    "\n",
    "def get_by_threshold(sentences, similarity, threshold):\n",
    "    \"\"\"Get sentences by similarity threshold.\"\"\"\n",
    "    sel = (similarity > threshold).flatten().tolist()\n",
    "    return [sentences[i] for i in range(len(sel)) if sel[i]]\n"
   ]
  },
  {
   "cell_type": "code",
   "execution_count": 6,
   "metadata": {},
   "outputs": [
    {
     "data": {
      "text/plain": [
       "[' clinical features of syncope may include myoclonic jerks which are often multifocal and asynchronous , convulsions , and urinary incontinence , making it difficult to differentiate from epileptic seizure by clinical features alone . ',\n",
       " 'syncope is caused by transient diffuse cerebral hypoperfusion and is characterized by transient loss of consciousness with a rapid onset followed by spontaneous and complete recovery . ',\n",
       " ' hypotension accompanying syncope observed in our patient was not orthostasis - related ( the patient was always supine during spells ) and was most likely related to cough . ',\n",
       " ' transient cerebral circulatory arrest has been demonstrated by transcranial doppler measurements during cough syncope . our patient also had a drop in blood pressure and heart rate but probably not sufficient to cause syncope by itself . ',\n",
       " ' cough syncope , a rare form of syncope , may be a result of transient failure of the cerebral autoregulatory mechanism to cope with sudden decrease in cerebral blood flow . ']"
      ]
     },
     "execution_count": 6,
     "metadata": {},
     "output_type": "execute_result"
    }
   ],
   "source": [
    "top5_sentences = get_by_topk(sentences, similarity, topk=5)\n",
    "top5_sentences"
   ]
  },
  {
   "cell_type": "code",
   "execution_count": 7,
   "metadata": {},
   "outputs": [
    {
     "data": {
      "text/plain": [
       "['syncope is caused by transient diffuse cerebral hypoperfusion and is characterized by transient loss of consciousness with a rapid onset followed by spontaneous and complete recovery . ',\n",
       " ' clinical features of syncope may include myoclonic jerks which are often multifocal and asynchronous , convulsions , and urinary incontinence , making it difficult to differentiate from epileptic seizure by clinical features alone . ',\n",
       " ' cough syncope , a rare form of syncope , may be a result of transient failure of the cerebral autoregulatory mechanism to cope with sudden decrease in cerebral blood flow . ',\n",
       " ' transient cerebral circulatory arrest has been demonstrated by transcranial doppler measurements during cough syncope . our patient also had a drop in blood pressure and heart rate but probably not sufficient to cause syncope by itself . ',\n",
       " ' hypotension accompanying syncope observed in our patient was not orthostasis - related ( the patient was always supine during spells ) and was most likely related to cough . ']"
      ]
     },
     "execution_count": 7,
     "metadata": {},
     "output_type": "execute_result"
    }
   ],
   "source": [
    "relevant_sentences = get_by_threshold(sentences, similarity, 0.5)\n",
    "relevant_sentences"
   ]
  },
  {
   "attachments": {},
   "cell_type": "markdown",
   "metadata": {},
   "source": [
    "- This is very local... meaning that this implementation may not be able to identify larger concept that span across multiple sentences. \n",
    "- Consider long T5 we can incorporate similar local and global features to capture multiple level of embeddings, DEFER for now."
   ]
  },
  {
   "attachments": {},
   "cell_type": "markdown",
   "metadata": {},
   "source": [
    "## Step 3: Summarize the sentences."
   ]
  },
  {
   "cell_type": "code",
   "execution_count": 8,
   "metadata": {},
   "outputs": [
    {
     "name": "stderr",
     "output_type": "stream",
     "text": [
      "/opt/conda/lib/python3.8/site-packages/transformers/modeling_utils.py:781: FutureWarning: The `device` argument is deprecated and will be removed in v5 of Transformers.\n",
      "  warnings.warn(\n"
     ]
    },
    {
     "data": {
      "text/plain": [
       "'<pad> cough syncope, a rare form of syncope, may be a result of transient failure of the cerebral autoregulatory mechanism to cope with sudden decrease in cerebral blood flow.</s>'"
      ]
     },
     "execution_count": 8,
     "metadata": {},
     "output_type": "execute_result"
    }
   ],
   "source": [
    "summarize(top5_sentences)"
   ]
  },
  {
   "cell_type": "code",
   "execution_count": 9,
   "metadata": {},
   "outputs": [
    {
     "data": {
      "text/plain": [
       "'<pad> cough syncope, a rare form of syncope, may be a result of transient failure of the cerebral autoregulatory mechanism to cope with sudden decrease in cerebral blood flow.</s>'"
      ]
     },
     "execution_count": 9,
     "metadata": {},
     "output_type": "execute_result"
    }
   ],
   "source": [
    "summarize(relevant_sentences)"
   ]
  }
 ],
 "metadata": {
  "kernelspec": {
   "display_name": "base",
   "language": "python",
   "name": "python3"
  },
  "language_info": {
   "codemirror_mode": {
    "name": "ipython",
    "version": 3
   },
   "file_extension": ".py",
   "mimetype": "text/x-python",
   "name": "python",
   "nbconvert_exporter": "python",
   "pygments_lexer": "ipython3",
   "version": "3.8.13"
  },
  "orig_nbformat": 4
 },
 "nbformat": 4,
 "nbformat_minor": 2
}
