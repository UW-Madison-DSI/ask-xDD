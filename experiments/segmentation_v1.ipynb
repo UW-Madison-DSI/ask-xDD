{
 "cells": [
  {
   "attachments": {},
   "cell_type": "markdown",
   "metadata": {},
   "source": [
    "# Segmentation v1\n",
    "\n",
    "Create a pipeline to get relevant sentences from a paper w.r.t. user query. Then summarize the sentences.\n",
    "\n",
    "Step 1: Get relevant rating in each sentence in a long text.\n",
    "\n",
    "- Text to sentences\n",
    "- Sentences to embedding vectors\n",
    "- Question to embedding vector\n",
    "- Dot-product between question and sentences embedding to measure relatedness\n",
    "\n",
    "Step 2: Subset by top-k or threshold to get relevant sentences to a query.\n",
    "\n",
    "Step 3: Summarize the sentences."
   ]
  },
  {
   "attachments": {},
   "cell_type": "markdown",
   "metadata": {},
   "source": [
    "### Pubmed data"
   ]
  },
  {
   "cell_type": "code",
   "execution_count": 12,
   "metadata": {},
   "outputs": [
    {
     "name": "stderr",
     "output_type": "stream",
     "text": [
      "No config specified, defaulting to: pubmed-summarization/section\n",
      "Found cached dataset pubmed-summarization (/root/.cache/huggingface/datasets/ccdv___pubmed-summarization/section/1.0.0/f765ec606c790e8c5694b226814a13f1974ba4ea98280989edaffb152ded5e2b)\n"
     ]
    },
    {
     "data": {
      "application/json": {
       "ascii": false,
       "bar_format": null,
       "colour": null,
       "elapsed": 0.05481076240539551,
       "initial": 0,
       "n": 0,
       "ncols": null,
       "nrows": null,
       "postfix": null,
       "prefix": "",
       "rate": null,
       "total": 3,
       "unit": "it",
       "unit_divisor": 1000,
       "unit_scale": false
      },
      "application/vnd.jupyter.widget-view+json": {
       "model_id": "663d2ea8b8ac417cb08dc55999089b55",
       "version_major": 2,
       "version_minor": 0
      },
      "text/plain": [
       "  0%|          | 0/3 [00:00<?, ?it/s]"
      ]
     },
     "metadata": {},
     "output_type": "display_data"
    },
    {
     "data": {
      "text/plain": [
       "{'article': 'syncope is caused by transient diffuse cerebral hypoperfusion and is characterized by transient loss of consciousness with a rapid onset followed by spontaneous and complete recovery . \\n clinical features of syncope may include myoclonic jerks which are often multifocal and asynchronous , convulsions , and urinary incontinence , making it difficult to differentiate from epileptic seizure by clinical features alone . \\n significant fluctuations in cerebral perfusion pressure are prevented by autoregulation of cerebral circulation , but there may be conditions where such mechanism may not compensate adequately . \\n cough syncope , a rare form of syncope , may be a result of transient failure of the cerebral autoregulatory mechanism to cope with sudden decrease in cerebral blood flow . \\n we present an unusual case of recurrent cough syncope , which was initially diagnosed and treated as seizures , in the context of a left - sided glomus jugulare tumor , a benign paraganglioma . \\n a 43-year - old right - handed woman with history of glomus jugulare tumor in the left jugular fossa with intracranial extension into the posterior cranial fossa was transferred from another hospital for recurrent seizure - like spells . \\n she had a 90% surgical resection of the tumor done in 2011 followed by radiation therapy in september 2012 . \\n her episodes occurred multiple times a day ( 7 per day on average ) during wakeful state . \\n they were triggered by coughing ( usually a bout of cough ) and were characterized by staring and unresponsiveness as well as stiffening of the body with mild shaking of both upper extremities . \\n she was diagnosed with epileptic seizures but continued to have episodes during treatment with the antiepileptic drugs ( aeds ) phenytoin , levetiracetam , and lamotrigine . \\n escalation of aed therapy made her increasingly drowsy , and she was on all three aforementioned aeds at the time of presentation . \\n her physical examination was remarkable for excessive drowsiness , mild dysarthria , right sixth cranial nerve palsy , mild hypertonia with hyperreflexia in the lower extremities ( left more than right ) , and bilateral ( left more than right ) ankle clonus . \\n she had a lumbar puncture done at the outside hospital , and the opening cerebrospinal fluid ( csf ) pressure was reported to be 25  cm . \\n blood work was also unremarkable except for mild anemia ( hemoglobin : 9.4  g / dl ) , mild hyponatremia ( 132  meq / l ) , and mild hypokalemia ( 3.1  meq / l ) . \\n antiepileptic drug levels were within therapeutic range ( free phenytoin : 1.3  g / ml , levetiracetam : 5.9  g / ml , and lamotrigine : 2.3  g / ml ) . \\n all started with a bout of cough when the patient was lying in bed ( in supine or in lateral position ) which was followed by brief ( less than a minute ) distal upper extremity tremor and subtle proximal upper extremity myoclonic jerks and prolonged unresponsiveness for up to 10  min . \\n all of these episodes were associated with hypotension ( 7278/3147  mm of hg as revealed by continuous arterial pressure monitoring ) and bradycardia ( 5459  bpm ) . \\n the eeg during the spells was characterized by generalized synchronous and asynchronous high amplitude 1- to 2-hz delta activity which progressed to generalized attenuation and then transitioned to generalized delta activity again with recovery ( fig .  1 ) . \\n a head ct showed recurrence of the glomus jugulare tumor and communicating hydrocephalus . an external ventricular drain ( evd ) \\n after placement of the evd , her drowsiness gradually started to improve , and episodes decreased in frequency to one per day . \\n 3 showed an enhancing t2 hyperintense left skull base mass in the region of the left jugular foramen with extension into the posterior cranial fossa and below the base of the skull . \\n brain imaging showed evidence of hydrocephalus that had increased compared with her previous brain imaging done 2  months back . \\n her mental status continued to improve , and she had only one mild episode triggered by cough during the next two days before her discharge . \\n repeat surgical resection of the tumor was recommended by the otolaryngology team , which the patient declined . \\n based on the clinical features and eeg findings , the episodes observed in our patient are most consistent with cough syncope . \\n the mechanism underlying cough syncope is not definitively established , but it is postulated that coughing increases intrathoracic and intraabdominal pressures leading to a transient increase in icp . increased icp , in turn , causes a decrease in cerebral perfusion pressure which , if it drops below a critical level , may result in global cerebral hypoperfusion leading to syncope . \\n transient cerebral circulatory arrest has been demonstrated by transcranial doppler measurements during cough syncope . our patient also had a drop in blood pressure and heart rate but probably not sufficient to cause syncope by itself . \\n cough syncope has been associated with posterior fossa mass lesions or tonsillar herniation and with hydrocephalus . \\n it may be speculated that bouts of cough caused transient herniation of cerebellar tonsils obstructing csf flow that further contributed to the increase in icp during coughing . \\n decrease in frequency of events following placement of evd to relieve icp lends support to this notion . \\n paragangliomas are rare tumors of extraadrenal chromaffin cell origin that most commonly occur in the head and neck region . \\n catecholamine - hypersecreting paraganglionomas are uncommon in the head and neck region , and most patients ( 95% ) with hypersecreting paraganglionomas have hypertension . \\n hypotension accompanying syncope observed in our patient was not orthostasis - related ( the patient was always supine during spells ) and was most likely related to cough . \\n identified a subset of patients with cough syncope who lacked a blood pressure overshoot ( expected response ) after the relief of straining during valsalva maneuver . \\n the authors postulate that cough syncope in these patients might be the result of delayed recovery from hypotension that follows a paroxysm of cough , and this was likely contributing to global cerebral hypoperfusion in our patient . \\n this case highlights the fact that cough syncope , a rare form of syncope , may be associated with intracranial mass lesions that indirectly exaggerate the increase in icp in response to cough . \\n glomus caroticum tumor presenting as recurrent unexplained syncope   and posterior fossa meningioma presenting as recurrent cough syncope   have been described . \\n recurrent cough syncope should trigger search for factors , including brain tumors , with the potential to cause transient elevation in icp . \\n this case also illustrates an important role for ceeg monitoring with video in distinguishing syncope from seizures in cough syncope cases . \\n ',\n",
       " 'abstract': \"we present an unusual case of recurrent cough syncope in a 43-year - old woman , which was initially thought to be seizures . \\n syncopal episodes were triggered by paroxysms of cough and were characterized by unresponsiveness and myoclonic jerks in her extremities . \\n she had a left - sided glomus jugulare tumor that extended into the posterior cranial fossa with evidence of worsening communicating hydrocephalus on brain imaging . \\n we postulate that bouts of cough produced increased intracranial pressure both by raising intrathoracic and intraabdominal pressures as well as by transient obstruction to cerebrospinal fluid flow secondary to intermittent tonsillar herniation during cough . \\n this resulted in diffuse decrease in cerebral blood flow causing syncope . \\n the patient 's syncopal episodes decreased in frequency once an external ventricular drain was placed followed by a ventriculoperitoneal shunt . \\n search for factors that can increase intracranial pressure seems warranted in patients with recurrent cough syncope .\"}"
      ]
     },
     "execution_count": 12,
     "metadata": {},
     "output_type": "execute_result"
    }
   ],
   "source": [
    "from datasets import load_dataset\n",
    "from backend import dot_score, to_embeddings, summarize\n",
    "\n",
    "dataset = load_dataset(\"ccdv/pubmed-summarization\")\n",
    "dataset = dataset[\"train\"][4]\n",
    "dataset"
   ]
  },
  {
   "cell_type": "code",
   "execution_count": 13,
   "metadata": {},
   "outputs": [],
   "source": [
    "question = \"What are the symptoms of syncope?\""
   ]
  },
  {
   "cell_type": "code",
   "execution_count": 14,
   "metadata": {},
   "outputs": [
    {
     "name": "stdout",
     "output_type": "stream",
     "text": [
      "6918\n",
      "\n",
      "Excerpt:\n",
      "syncope is caused by transient diffuse cerebral hypoperfusion and is characterized by transient loss of consciousness with a rapid onset followed by spontaneous and complete recovery . \n",
      " clinical features of syncope may include myoclonic jerks which are often multifocal and asynchronous , convulsion\n"
     ]
    }
   ],
   "source": [
    "sentences = dataset[\"article\"].split(\"\\n\")\n",
    "sentences.append(question)  # Last sentence is query\n",
    "print(len(dataset[\"article\"]))\n",
    "print(\"\\nExcerpt:\")\n",
    "print(dataset[\"article\"][:300])"
   ]
  },
  {
   "attachments": {},
   "cell_type": "markdown",
   "metadata": {},
   "source": [
    "## Step 1: Get relevant rating in each sentence in a long text."
   ]
  },
  {
   "cell_type": "code",
   "execution_count": 15,
   "metadata": {},
   "outputs": [],
   "source": [
    "embeddings = to_embeddings(sentences, model=\"sentence-transformers/all-mpnet-base-v2\")  # Can use more powerful models\n",
    "similarity = dot_score(embeddings[:-1], embeddings[-1])  # Last sentence is query"
   ]
  },
  {
   "attachments": {},
   "cell_type": "markdown",
   "metadata": {},
   "source": [
    "## Step 2: Subset by top-k or threshold to get relevant sentences to a query."
   ]
  },
  {
   "cell_type": "code",
   "execution_count": 16,
   "metadata": {},
   "outputs": [],
   "source": [
    "def get_by_topk(sentences, similarity, topk=5):\n",
    "    \"\"\"Get top k sentences by similarity.\"\"\"\n",
    "    topk = similarity.topk(topk, dim=0)\n",
    "    return [sentences[i] for i in topk.indices.flatten().tolist()]\n",
    "\n",
    "\n",
    "def get_by_threshold(sentences, similarity, threshold):\n",
    "    \"\"\"Get sentences by similarity threshold.\"\"\"\n",
    "    sel = (similarity > threshold).flatten().tolist()\n",
    "    return [sentences[i] for i in range(len(sel)) if sel[i]]\n"
   ]
  },
  {
   "cell_type": "code",
   "execution_count": 17,
   "metadata": {},
   "outputs": [
    {
     "data": {
      "text/plain": [
       "[' clinical features of syncope may include myoclonic jerks which are often multifocal and asynchronous , convulsions , and urinary incontinence , making it difficult to differentiate from epileptic seizure by clinical features alone . ',\n",
       " 'syncope is caused by transient diffuse cerebral hypoperfusion and is characterized by transient loss of consciousness with a rapid onset followed by spontaneous and complete recovery . ',\n",
       " ' hypotension accompanying syncope observed in our patient was not orthostasis - related ( the patient was always supine during spells ) and was most likely related to cough . ',\n",
       " ' transient cerebral circulatory arrest has been demonstrated by transcranial doppler measurements during cough syncope . our patient also had a drop in blood pressure and heart rate but probably not sufficient to cause syncope by itself . ',\n",
       " ' cough syncope , a rare form of syncope , may be a result of transient failure of the cerebral autoregulatory mechanism to cope with sudden decrease in cerebral blood flow . ']"
      ]
     },
     "execution_count": 17,
     "metadata": {},
     "output_type": "execute_result"
    }
   ],
   "source": [
    "top5_sentences = get_by_topk(sentences, similarity, topk=5)\n",
    "top5_sentences"
   ]
  },
  {
   "cell_type": "code",
   "execution_count": 18,
   "metadata": {},
   "outputs": [
    {
     "data": {
      "text/plain": [
       "['syncope is caused by transient diffuse cerebral hypoperfusion and is characterized by transient loss of consciousness with a rapid onset followed by spontaneous and complete recovery . ',\n",
       " ' clinical features of syncope may include myoclonic jerks which are often multifocal and asynchronous , convulsions , and urinary incontinence , making it difficult to differentiate from epileptic seizure by clinical features alone . ',\n",
       " ' cough syncope , a rare form of syncope , may be a result of transient failure of the cerebral autoregulatory mechanism to cope with sudden decrease in cerebral blood flow . ',\n",
       " ' we present an unusual case of recurrent cough syncope , which was initially diagnosed and treated as seizures , in the context of a left - sided glomus jugulare tumor , a benign paraganglioma . ',\n",
       " ' they were triggered by coughing ( usually a bout of cough ) and were characterized by staring and unresponsiveness as well as stiffening of the body with mild shaking of both upper extremities . ',\n",
       " ' her physical examination was remarkable for excessive drowsiness , mild dysarthria , right sixth cranial nerve palsy , mild hypertonia with hyperreflexia in the lower extremities ( left more than right ) , and bilateral ( left more than right ) ankle clonus . ',\n",
       " ' all started with a bout of cough when the patient was lying in bed ( in supine or in lateral position ) which was followed by brief ( less than a minute ) distal upper extremity tremor and subtle proximal upper extremity myoclonic jerks and prolonged unresponsiveness for up to 10  min . ',\n",
       " ' all of these episodes were associated with hypotension ( 7278/3147  mm of hg as revealed by continuous arterial pressure monitoring ) and bradycardia ( 5459  bpm ) . ',\n",
       " ' based on the clinical features and eeg findings , the episodes observed in our patient are most consistent with cough syncope . ',\n",
       " ' the mechanism underlying cough syncope is not definitively established , but it is postulated that coughing increases intrathoracic and intraabdominal pressures leading to a transient increase in icp . increased icp , in turn , causes a decrease in cerebral perfusion pressure which , if it drops below a critical level , may result in global cerebral hypoperfusion leading to syncope . ',\n",
       " ' transient cerebral circulatory arrest has been demonstrated by transcranial doppler measurements during cough syncope . our patient also had a drop in blood pressure and heart rate but probably not sufficient to cause syncope by itself . ',\n",
       " ' cough syncope has been associated with posterior fossa mass lesions or tonsillar herniation and with hydrocephalus . ',\n",
       " ' hypotension accompanying syncope observed in our patient was not orthostasis - related ( the patient was always supine during spells ) and was most likely related to cough . ',\n",
       " ' identified a subset of patients with cough syncope who lacked a blood pressure overshoot ( expected response ) after the relief of straining during valsalva maneuver . ',\n",
       " ' the authors postulate that cough syncope in these patients might be the result of delayed recovery from hypotension that follows a paroxysm of cough , and this was likely contributing to global cerebral hypoperfusion in our patient . ',\n",
       " ' this case highlights the fact that cough syncope , a rare form of syncope , may be associated with intracranial mass lesions that indirectly exaggerate the increase in icp in response to cough . ',\n",
       " ' glomus caroticum tumor presenting as recurrent unexplained syncope   and posterior fossa meningioma presenting as recurrent cough syncope   have been described . ',\n",
       " ' recurrent cough syncope should trigger search for factors , including brain tumors , with the potential to cause transient elevation in icp . ',\n",
       " ' this case also illustrates an important role for ceeg monitoring with video in distinguishing syncope from seizures in cough syncope cases . ']"
      ]
     },
     "execution_count": 18,
     "metadata": {},
     "output_type": "execute_result"
    }
   ],
   "source": [
    "relevant_sentences = get_by_threshold(sentences, similarity, 0.3)\n",
    "relevant_sentences"
   ]
  },
  {
   "attachments": {},
   "cell_type": "markdown",
   "metadata": {},
   "source": [
    "- This is very local... meaning that this implementation may not be able to identify larger concept that span across multiple sentences. \n",
    "- Consider long T5 we can incorporate similar local and global features to capture multiple level of embeddings, DEFER for now."
   ]
  },
  {
   "attachments": {},
   "cell_type": "markdown",
   "metadata": {},
   "source": [
    "## Step 3: Summarize the sentences."
   ]
  },
  {
   "cell_type": "code",
   "execution_count": 8,
   "metadata": {},
   "outputs": [
    {
     "name": "stderr",
     "output_type": "stream",
     "text": [
      "/opt/conda/lib/python3.8/site-packages/transformers/modeling_utils.py:781: FutureWarning: The `device` argument is deprecated and will be removed in v5 of Transformers.\n",
      "  warnings.warn(\n"
     ]
    },
    {
     "data": {
      "text/plain": [
       "'<pad> cough syncope, a rare form of syncope, may be a result of transient failure of the cerebral autoregulatory mechanism to cope with sudden decrease in cerebral blood flow.</s>'"
      ]
     },
     "execution_count": 8,
     "metadata": {},
     "output_type": "execute_result"
    }
   ],
   "source": [
    "summarize(top5_sentences)"
   ]
  },
  {
   "cell_type": "code",
   "execution_count": 19,
   "metadata": {},
   "outputs": [
    {
     "name": "stderr",
     "output_type": "stream",
     "text": [
      "/opt/conda/lib/python3.8/site-packages/transformers/modeling_utils.py:781: FutureWarning: The `device` argument is deprecated and will be removed in v5 of Transformers.\n",
      "  warnings.warn(\n"
     ]
    },
    {
     "data": {
      "text/plain": [
       "'<pad> cough syncope, a rare form of syncope, may be a result of transient failure of the cerebral autoregulatory mechanism to cope with sudden decrease in cerebral blood flow. this case highlights the fact that cough syncope, a rare form of syncope, may be associated with intracranial mass lesions that indirectly exaggerate the increase in icp in response to cough.</s>'"
      ]
     },
     "execution_count": 19,
     "metadata": {},
     "output_type": "execute_result"
    }
   ],
   "source": [
    "summarize(relevant_sentences)"
   ]
  },
  {
   "cell_type": "code",
   "execution_count": 21,
   "metadata": {},
   "outputs": [],
   "source": [
    "from transformers import AutoTokenizer\n",
    "tokenizer = AutoTokenizer.from_pretrained(\"google/long-t5-tglobal-base\")"
   ]
  },
  {
   "cell_type": "code",
   "execution_count": 22,
   "metadata": {},
   "outputs": [
    {
     "data": {
      "text/plain": [
       "['</s>',\n",
       " '<unk>',\n",
       " '<pad>',\n",
       " '<extra_id_0>',\n",
       " '<extra_id_1>',\n",
       " '<extra_id_2>',\n",
       " '<extra_id_3>',\n",
       " '<extra_id_4>',\n",
       " '<extra_id_5>',\n",
       " '<extra_id_6>',\n",
       " '<extra_id_7>',\n",
       " '<extra_id_8>',\n",
       " '<extra_id_9>',\n",
       " '<extra_id_10>',\n",
       " '<extra_id_11>',\n",
       " '<extra_id_12>',\n",
       " '<extra_id_13>',\n",
       " '<extra_id_14>',\n",
       " '<extra_id_15>',\n",
       " '<extra_id_16>',\n",
       " '<extra_id_17>',\n",
       " '<extra_id_18>',\n",
       " '<extra_id_19>',\n",
       " '<extra_id_20>',\n",
       " '<extra_id_21>',\n",
       " '<extra_id_22>',\n",
       " '<extra_id_23>',\n",
       " '<extra_id_24>',\n",
       " '<extra_id_25>',\n",
       " '<extra_id_26>',\n",
       " '<extra_id_27>',\n",
       " '<extra_id_28>',\n",
       " '<extra_id_29>',\n",
       " '<extra_id_30>',\n",
       " '<extra_id_31>',\n",
       " '<extra_id_32>',\n",
       " '<extra_id_33>',\n",
       " '<extra_id_34>',\n",
       " '<extra_id_35>',\n",
       " '<extra_id_36>',\n",
       " '<extra_id_37>',\n",
       " '<extra_id_38>',\n",
       " '<extra_id_39>',\n",
       " '<extra_id_40>',\n",
       " '<extra_id_41>',\n",
       " '<extra_id_42>',\n",
       " '<extra_id_43>',\n",
       " '<extra_id_44>',\n",
       " '<extra_id_45>',\n",
       " '<extra_id_46>',\n",
       " '<extra_id_47>',\n",
       " '<extra_id_48>',\n",
       " '<extra_id_49>',\n",
       " '<extra_id_50>',\n",
       " '<extra_id_51>',\n",
       " '<extra_id_52>',\n",
       " '<extra_id_53>',\n",
       " '<extra_id_54>',\n",
       " '<extra_id_55>',\n",
       " '<extra_id_56>',\n",
       " '<extra_id_57>',\n",
       " '<extra_id_58>',\n",
       " '<extra_id_59>',\n",
       " '<extra_id_60>',\n",
       " '<extra_id_61>',\n",
       " '<extra_id_62>',\n",
       " '<extra_id_63>',\n",
       " '<extra_id_64>',\n",
       " '<extra_id_65>',\n",
       " '<extra_id_66>',\n",
       " '<extra_id_67>',\n",
       " '<extra_id_68>',\n",
       " '<extra_id_69>',\n",
       " '<extra_id_70>',\n",
       " '<extra_id_71>',\n",
       " '<extra_id_72>',\n",
       " '<extra_id_73>',\n",
       " '<extra_id_74>',\n",
       " '<extra_id_75>',\n",
       " '<extra_id_76>',\n",
       " '<extra_id_77>',\n",
       " '<extra_id_78>',\n",
       " '<extra_id_79>',\n",
       " '<extra_id_80>',\n",
       " '<extra_id_81>',\n",
       " '<extra_id_82>',\n",
       " '<extra_id_83>',\n",
       " '<extra_id_84>',\n",
       " '<extra_id_85>',\n",
       " '<extra_id_86>',\n",
       " '<extra_id_87>',\n",
       " '<extra_id_88>',\n",
       " '<extra_id_89>',\n",
       " '<extra_id_90>',\n",
       " '<extra_id_91>',\n",
       " '<extra_id_92>',\n",
       " '<extra_id_93>',\n",
       " '<extra_id_94>',\n",
       " '<extra_id_95>',\n",
       " '<extra_id_96>',\n",
       " '<extra_id_97>',\n",
       " '<extra_id_98>',\n",
       " '<extra_id_99>']"
      ]
     },
     "execution_count": 22,
     "metadata": {},
     "output_type": "execute_result"
    }
   ],
   "source": [
    "tokenizer.all_special_tokens"
   ]
  },
  {
   "cell_type": "code",
   "execution_count": 20,
   "metadata": {},
   "outputs": [
    {
     "data": {
      "text/plain": [
       "['syncope is caused by transient diffuse cerebral hypoperfusion and is characterized by transient loss of consciousness with a rapid onset followed by spontaneous and complete recovery . ',\n",
       " ' clinical features of syncope may include myoclonic jerks which are often multifocal and asynchronous , convulsions , and urinary incontinence , making it difficult to differentiate from epileptic seizure by clinical features alone . ',\n",
       " ' cough syncope , a rare form of syncope , may be a result of transient failure of the cerebral autoregulatory mechanism to cope with sudden decrease in cerebral blood flow . ',\n",
       " ' we present an unusual case of recurrent cough syncope , which was initially diagnosed and treated as seizures , in the context of a left - sided glomus jugulare tumor , a benign paraganglioma . ',\n",
       " ' they were triggered by coughing ( usually a bout of cough ) and were characterized by staring and unresponsiveness as well as stiffening of the body with mild shaking of both upper extremities . ',\n",
       " ' her physical examination was remarkable for excessive drowsiness , mild dysarthria , right sixth cranial nerve palsy , mild hypertonia with hyperreflexia in the lower extremities ( left more than right ) , and bilateral ( left more than right ) ankle clonus . ',\n",
       " ' all started with a bout of cough when the patient was lying in bed ( in supine or in lateral position ) which was followed by brief ( less than a minute ) distal upper extremity tremor and subtle proximal upper extremity myoclonic jerks and prolonged unresponsiveness for up to 10  min . ',\n",
       " ' all of these episodes were associated with hypotension ( 7278/3147  mm of hg as revealed by continuous arterial pressure monitoring ) and bradycardia ( 5459  bpm ) . ',\n",
       " ' based on the clinical features and eeg findings , the episodes observed in our patient are most consistent with cough syncope . ',\n",
       " ' the mechanism underlying cough syncope is not definitively established , but it is postulated that coughing increases intrathoracic and intraabdominal pressures leading to a transient increase in icp . increased icp , in turn , causes a decrease in cerebral perfusion pressure which , if it drops below a critical level , may result in global cerebral hypoperfusion leading to syncope . ',\n",
       " ' transient cerebral circulatory arrest has been demonstrated by transcranial doppler measurements during cough syncope . our patient also had a drop in blood pressure and heart rate but probably not sufficient to cause syncope by itself . ',\n",
       " ' cough syncope has been associated with posterior fossa mass lesions or tonsillar herniation and with hydrocephalus . ',\n",
       " ' hypotension accompanying syncope observed in our patient was not orthostasis - related ( the patient was always supine during spells ) and was most likely related to cough . ',\n",
       " ' identified a subset of patients with cough syncope who lacked a blood pressure overshoot ( expected response ) after the relief of straining during valsalva maneuver . ',\n",
       " ' the authors postulate that cough syncope in these patients might be the result of delayed recovery from hypotension that follows a paroxysm of cough , and this was likely contributing to global cerebral hypoperfusion in our patient . ',\n",
       " ' this case highlights the fact that cough syncope , a rare form of syncope , may be associated with intracranial mass lesions that indirectly exaggerate the increase in icp in response to cough . ',\n",
       " ' glomus caroticum tumor presenting as recurrent unexplained syncope   and posterior fossa meningioma presenting as recurrent cough syncope   have been described . ',\n",
       " ' recurrent cough syncope should trigger search for factors , including brain tumors , with the potential to cause transient elevation in icp . ',\n",
       " ' this case also illustrates an important role for ceeg monitoring with video in distinguishing syncope from seizures in cough syncope cases . ']"
      ]
     },
     "execution_count": 20,
     "metadata": {},
     "output_type": "execute_result"
    }
   ],
   "source": [
    "relevant_sentences"
   ]
  },
  {
   "cell_type": "code",
   "execution_count": 23,
   "metadata": {},
   "outputs": [
    {
     "name": "stderr",
     "output_type": "stream",
     "text": [
      "/opt/conda/lib/python3.8/site-packages/transformers/modeling_utils.py:781: FutureWarning: The `device` argument is deprecated and will be removed in v5 of Transformers.\n",
      "  warnings.warn(\n"
     ]
    },
    {
     "data": {
      "text/plain": [
       "'<pad> this case highlights the fact that cough syncope, a rare form of syncope, may be associated with intracranial mass lesions that indirectly exaggerate the increase in icp in response to cough.</s>'"
      ]
     },
     "execution_count": 23,
     "metadata": {},
     "output_type": "execute_result"
    }
   ],
   "source": [
    "from backend import prompt_sum\n",
    "\n",
    "prompt_sum(''.join(relevant_sentences), question)"
   ]
  },
  {
   "cell_type": "code",
   "execution_count": 25,
   "metadata": {},
   "outputs": [
    {
     "data": {
      "application/json": {
       "ascii": false,
       "bar_format": null,
       "colour": null,
       "elapsed": 0.06256914138793945,
       "initial": 0,
       "n": 0,
       "ncols": null,
       "nrows": null,
       "postfix": null,
       "prefix": "Downloading (…)lve/main/config.json",
       "rate": null,
       "total": 483,
       "unit": "B",
       "unit_divisor": 1000,
       "unit_scale": true
      },
      "application/vnd.jupyter.widget-view+json": {
       "model_id": "cbf38b1621ae413d8017551495808956",
       "version_major": 2,
       "version_minor": 0
      },
      "text/plain": [
       "Downloading (…)lve/main/config.json:   0%|          | 0.00/483 [00:00<?, ?B/s]"
      ]
     },
     "metadata": {},
     "output_type": "display_data"
    },
    {
     "data": {
      "application/json": {
       "ascii": false,
       "bar_format": null,
       "colour": null,
       "elapsed": 0.057683467864990234,
       "initial": 0,
       "n": 0,
       "ncols": null,
       "nrows": null,
       "postfix": null,
       "prefix": "Downloading model.safetensors",
       "rate": null,
       "total": 267954768,
       "unit": "B",
       "unit_divisor": 1000,
       "unit_scale": true
      },
      "application/vnd.jupyter.widget-view+json": {
       "model_id": "14c66b6c9d0a4bc5a29308c20d1bbd27",
       "version_major": 2,
       "version_minor": 0
      },
      "text/plain": [
       "Downloading model.safetensors:   0%|          | 0.00/268M [00:00<?, ?B/s]"
      ]
     },
     "metadata": {},
     "output_type": "display_data"
    },
    {
     "name": "stderr",
     "output_type": "stream",
     "text": [
      "/opt/conda/lib/python3.8/site-packages/transformers/modeling_utils.py:402: UserWarning: TypedStorage is deprecated. It will be removed in the future and UntypedStorage will be the only storage class. This should only matter to you if you are using storages directly.  To access UntypedStorage directly, use tensor.untyped_storage() instead of tensor.storage()\n",
      "  with safe_open(checkpoint_file, framework=\"pt\") as f:\n",
      "/opt/conda/lib/python3.8/site-packages/torch/_utils.py:776: UserWarning: TypedStorage is deprecated. It will be removed in the future and UntypedStorage will be the only storage class. This should only matter to you if you are using storages directly.  To access UntypedStorage directly, use tensor.untyped_storage() instead of tensor.storage()\n",
      "  return self.fget.__get__(instance, owner)()\n",
      "/opt/conda/lib/python3.8/site-packages/torch/storage.py:899: UserWarning: TypedStorage is deprecated. It will be removed in the future and UntypedStorage will be the only storage class. This should only matter to you if you are using storages directly.  To access UntypedStorage directly, use tensor.untyped_storage() instead of tensor.storage()\n",
      "  storage = cls(wrap_storage=untyped_storage)\n",
      "/opt/conda/lib/python3.8/site-packages/safetensors/torch.py:99: UserWarning: TypedStorage is deprecated. It will be removed in the future and UntypedStorage will be the only storage class. This should only matter to you if you are using storages directly.  To access UntypedStorage directly, use tensor.untyped_storage() instead of tensor.storage()\n",
      "  with safe_open(filename, framework=\"pt\", device=device) as f:\n"
     ]
    },
    {
     "data": {
      "application/json": {
       "ascii": false,
       "bar_format": null,
       "colour": null,
       "elapsed": 0.06432437896728516,
       "initial": 0,
       "n": 0,
       "ncols": null,
       "nrows": null,
       "postfix": null,
       "prefix": "Downloading (…)okenizer_config.json",
       "rate": null,
       "total": 28,
       "unit": "B",
       "unit_divisor": 1000,
       "unit_scale": true
      },
      "application/vnd.jupyter.widget-view+json": {
       "model_id": "feebd3fec1b440c5b56e909167a04dbd",
       "version_major": 2,
       "version_minor": 0
      },
      "text/plain": [
       "Downloading (…)okenizer_config.json:   0%|          | 0.00/28.0 [00:00<?, ?B/s]"
      ]
     },
     "metadata": {},
     "output_type": "display_data"
    },
    {
     "data": {
      "application/json": {
       "ascii": false,
       "bar_format": null,
       "colour": null,
       "elapsed": 0.05374002456665039,
       "initial": 0,
       "n": 0,
       "ncols": null,
       "nrows": null,
       "postfix": null,
       "prefix": "Downloading (…)solve/main/vocab.txt",
       "rate": null,
       "total": 231508,
       "unit": "B",
       "unit_divisor": 1000,
       "unit_scale": true
      },
      "application/vnd.jupyter.widget-view+json": {
       "model_id": "2736039c4aca4a8c945fc4a1cadcef09",
       "version_major": 2,
       "version_minor": 0
      },
      "text/plain": [
       "Downloading (…)solve/main/vocab.txt:   0%|          | 0.00/232k [00:00<?, ?B/s]"
      ]
     },
     "metadata": {},
     "output_type": "display_data"
    },
    {
     "data": {
      "application/json": {
       "ascii": false,
       "bar_format": null,
       "colour": null,
       "elapsed": 0.058504581451416016,
       "initial": 0,
       "n": 0,
       "ncols": null,
       "nrows": null,
       "postfix": null,
       "prefix": "Downloading (…)/main/tokenizer.json",
       "rate": null,
       "total": 466062,
       "unit": "B",
       "unit_divisor": 1000,
       "unit_scale": true
      },
      "application/vnd.jupyter.widget-view+json": {
       "model_id": "b042a3eb55e340eabf819c25e5d4a10c",
       "version_major": 2,
       "version_minor": 0
      },
      "text/plain": [
       "Downloading (…)/main/tokenizer.json:   0%|          | 0.00/466k [00:00<?, ?B/s]"
      ]
     },
     "metadata": {},
     "output_type": "display_data"
    }
   ],
   "source": [
    "from transformers import pipeline\n",
    "pipe = pipeline(model='distilbert-base-uncased')"
   ]
  },
  {
   "cell_type": "code",
   "execution_count": 26,
   "metadata": {},
   "outputs": [
    {
     "name": "stderr",
     "output_type": "stream",
     "text": [
      "Token indices sequence length is longer than the specified maximum sequence length for this model (802 > 512). Running this sequence through the model will result in indexing errors\n"
     ]
    },
    {
     "ename": "PipelineException",
     "evalue": "No mask_token ([MASK]) found on the input",
     "output_type": "error",
     "traceback": [
      "\u001b[0;31m---------------------------------------------------------------------------\u001b[0m",
      "\u001b[0;31mPipelineException\u001b[0m                         Traceback (most recent call last)",
      "\u001b[1;32m/askem/experiments/segmentation_v1.ipynb Cell 21\u001b[0m in \u001b[0;36m<cell line: 1>\u001b[0;34m()\u001b[0m\n\u001b[0;32m----> <a href='vscode-notebook-cell://dev-container%2B7b22686f737450617468223a22633a5c5c55736572735c5c636c6f33365c5c7265706f5c5c61736b656d222c22636f6e66696746696c65223a7b22246d6964223a312c22667350617468223a22633a5c5c55736572735c5c636c6f33365c5c7265706f5c5c61736b656d5c5c2e646576636f6e7461696e65725c5c646576636f6e7461696e65722e6a736f6e222c225f736570223a312c2265787465726e616c223a2266696c653a2f2f2f632533412f55736572732f636c6f33362f7265706f2f61736b656d2f2e646576636f6e7461696e65722f646576636f6e7461696e65722e6a736f6e222c2270617468223a222f633a2f55736572732f636c6f33362f7265706f2f61736b656d2f2e646576636f6e7461696e65722f646576636f6e7461696e65722e6a736f6e222c22736368656d65223a2266696c65227d7d/askem/experiments/segmentation_v1.ipynb#X33sdnNjb2RlLXJlbW90ZQ%3D%3D?line=0'>1</a>\u001b[0m pipe(\u001b[39m'\u001b[39;49m\u001b[39m'\u001b[39;49m\u001b[39m.\u001b[39;49mjoin(relevant_sentences))\n",
      "File \u001b[0;32m/opt/conda/lib/python3.8/site-packages/transformers/pipelines/fill_mask.py:239\u001b[0m, in \u001b[0;36mFillMaskPipeline.__call__\u001b[0;34m(self, inputs, *args, **kwargs)\u001b[0m\n\u001b[1;32m    217\u001b[0m \u001b[39mdef\u001b[39;00m \u001b[39m__call__\u001b[39m(\u001b[39mself\u001b[39m, inputs, \u001b[39m*\u001b[39margs, \u001b[39m*\u001b[39m\u001b[39m*\u001b[39mkwargs):\n\u001b[1;32m    218\u001b[0m     \u001b[39m\"\"\"\u001b[39;00m\n\u001b[1;32m    219\u001b[0m \u001b[39m    Fill the masked token in the text(s) given as inputs.\u001b[39;00m\n\u001b[1;32m    220\u001b[0m \n\u001b[0;32m   (...)\u001b[0m\n\u001b[1;32m    237\u001b[0m \u001b[39m        - **token_str** (`str`) -- The predicted token (to replace the masked one).\u001b[39;00m\n\u001b[1;32m    238\u001b[0m \u001b[39m    \"\"\"\u001b[39;00m\n\u001b[0;32m--> 239\u001b[0m     outputs \u001b[39m=\u001b[39m \u001b[39msuper\u001b[39;49m()\u001b[39m.\u001b[39;49m\u001b[39m__call__\u001b[39;49m(inputs, \u001b[39m*\u001b[39;49m\u001b[39m*\u001b[39;49mkwargs)\n\u001b[1;32m    240\u001b[0m     \u001b[39mif\u001b[39;00m \u001b[39misinstance\u001b[39m(inputs, \u001b[39mlist\u001b[39m) \u001b[39mand\u001b[39;00m \u001b[39mlen\u001b[39m(inputs) \u001b[39m==\u001b[39m \u001b[39m1\u001b[39m:\n\u001b[1;32m    241\u001b[0m         \u001b[39mreturn\u001b[39;00m outputs[\u001b[39m0\u001b[39m]\n",
      "File \u001b[0;32m/opt/conda/lib/python3.8/site-packages/transformers/pipelines/base.py:1109\u001b[0m, in \u001b[0;36mPipeline.__call__\u001b[0;34m(self, inputs, num_workers, batch_size, *args, **kwargs)\u001b[0m\n\u001b[1;32m   1101\u001b[0m     \u001b[39mreturn\u001b[39;00m \u001b[39mnext\u001b[39m(\n\u001b[1;32m   1102\u001b[0m         \u001b[39miter\u001b[39m(\n\u001b[1;32m   1103\u001b[0m             \u001b[39mself\u001b[39m\u001b[39m.\u001b[39mget_iterator(\n\u001b[0;32m   (...)\u001b[0m\n\u001b[1;32m   1106\u001b[0m         )\n\u001b[1;32m   1107\u001b[0m     )\n\u001b[1;32m   1108\u001b[0m \u001b[39melse\u001b[39;00m:\n\u001b[0;32m-> 1109\u001b[0m     \u001b[39mreturn\u001b[39;00m \u001b[39mself\u001b[39;49m\u001b[39m.\u001b[39;49mrun_single(inputs, preprocess_params, forward_params, postprocess_params)\n",
      "File \u001b[0;32m/opt/conda/lib/python3.8/site-packages/transformers/pipelines/base.py:1115\u001b[0m, in \u001b[0;36mPipeline.run_single\u001b[0;34m(self, inputs, preprocess_params, forward_params, postprocess_params)\u001b[0m\n\u001b[1;32m   1114\u001b[0m \u001b[39mdef\u001b[39;00m \u001b[39mrun_single\u001b[39m(\u001b[39mself\u001b[39m, inputs, preprocess_params, forward_params, postprocess_params):\n\u001b[0;32m-> 1115\u001b[0m     model_inputs \u001b[39m=\u001b[39m \u001b[39mself\u001b[39;49m\u001b[39m.\u001b[39;49mpreprocess(inputs, \u001b[39m*\u001b[39;49m\u001b[39m*\u001b[39;49mpreprocess_params)\n\u001b[1;32m   1116\u001b[0m     model_outputs \u001b[39m=\u001b[39m \u001b[39mself\u001b[39m\u001b[39m.\u001b[39mforward(model_inputs, \u001b[39m*\u001b[39m\u001b[39m*\u001b[39mforward_params)\n\u001b[1;32m   1117\u001b[0m     outputs \u001b[39m=\u001b[39m \u001b[39mself\u001b[39m\u001b[39m.\u001b[39mpostprocess(model_outputs, \u001b[39m*\u001b[39m\u001b[39m*\u001b[39mpostprocess_params)\n",
      "File \u001b[0;32m/opt/conda/lib/python3.8/site-packages/transformers/pipelines/fill_mask.py:97\u001b[0m, in \u001b[0;36mFillMaskPipeline.preprocess\u001b[0;34m(self, inputs, return_tensors, **preprocess_parameters)\u001b[0m\n\u001b[1;32m     95\u001b[0m     return_tensors \u001b[39m=\u001b[39m \u001b[39mself\u001b[39m\u001b[39m.\u001b[39mframework\n\u001b[1;32m     96\u001b[0m model_inputs \u001b[39m=\u001b[39m \u001b[39mself\u001b[39m\u001b[39m.\u001b[39mtokenizer(inputs, return_tensors\u001b[39m=\u001b[39mreturn_tensors)\n\u001b[0;32m---> 97\u001b[0m \u001b[39mself\u001b[39;49m\u001b[39m.\u001b[39;49mensure_exactly_one_mask_token(model_inputs)\n\u001b[1;32m     98\u001b[0m \u001b[39mreturn\u001b[39;00m model_inputs\n",
      "File \u001b[0;32m/opt/conda/lib/python3.8/site-packages/transformers/pipelines/fill_mask.py:91\u001b[0m, in \u001b[0;36mFillMaskPipeline.ensure_exactly_one_mask_token\u001b[0;34m(self, model_inputs)\u001b[0m\n\u001b[1;32m     89\u001b[0m \u001b[39melse\u001b[39;00m:\n\u001b[1;32m     90\u001b[0m     \u001b[39mfor\u001b[39;00m input_ids \u001b[39min\u001b[39;00m model_inputs[\u001b[39m\"\u001b[39m\u001b[39minput_ids\u001b[39m\u001b[39m\"\u001b[39m]:\n\u001b[0;32m---> 91\u001b[0m         \u001b[39mself\u001b[39;49m\u001b[39m.\u001b[39;49m_ensure_exactly_one_mask_token(input_ids)\n",
      "File \u001b[0;32m/opt/conda/lib/python3.8/site-packages/transformers/pipelines/fill_mask.py:79\u001b[0m, in \u001b[0;36mFillMaskPipeline._ensure_exactly_one_mask_token\u001b[0;34m(self, input_ids)\u001b[0m\n\u001b[1;32m     77\u001b[0m numel \u001b[39m=\u001b[39m np\u001b[39m.\u001b[39mprod(masked_index\u001b[39m.\u001b[39mshape)\n\u001b[1;32m     78\u001b[0m \u001b[39mif\u001b[39;00m numel \u001b[39m<\u001b[39m \u001b[39m1\u001b[39m:\n\u001b[0;32m---> 79\u001b[0m     \u001b[39mraise\u001b[39;00m PipelineException(\n\u001b[1;32m     80\u001b[0m         \u001b[39m\"\u001b[39m\u001b[39mfill-mask\u001b[39m\u001b[39m\"\u001b[39m,\n\u001b[1;32m     81\u001b[0m         \u001b[39mself\u001b[39m\u001b[39m.\u001b[39mmodel\u001b[39m.\u001b[39mbase_model_prefix,\n\u001b[1;32m     82\u001b[0m         \u001b[39mf\u001b[39m\u001b[39m\"\u001b[39m\u001b[39mNo mask_token (\u001b[39m\u001b[39m{\u001b[39;00m\u001b[39mself\u001b[39m\u001b[39m.\u001b[39mtokenizer\u001b[39m.\u001b[39mmask_token\u001b[39m}\u001b[39;00m\u001b[39m) found on the input\u001b[39m\u001b[39m\"\u001b[39m,\n\u001b[1;32m     83\u001b[0m     )\n",
      "\u001b[0;31mPipelineException\u001b[0m: No mask_token ([MASK]) found on the input"
     ]
    }
   ],
   "source": [
    "pipe(''.join(relevant_sentences))"
   ]
  }
 ],
 "metadata": {
  "kernelspec": {
   "display_name": "base",
   "language": "python",
   "name": "python3"
  },
  "language_info": {
   "codemirror_mode": {
    "name": "ipython",
    "version": 3
   },
   "file_extension": ".py",
   "mimetype": "text/x-python",
   "name": "python",
   "nbconvert_exporter": "python",
   "pygments_lexer": "ipython3",
   "version": "3.8.13"
  },
  "orig_nbformat": 4
 },
 "nbformat": 4,
 "nbformat_minor": 2
}
