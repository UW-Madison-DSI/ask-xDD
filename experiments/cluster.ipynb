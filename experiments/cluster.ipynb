{
 "cells": [
  {
   "attachments": {},
   "cell_type": "markdown",
   "metadata": {},
   "source": [
    "# Summarizing by clustering embeddings"
   ]
  },
  {
   "attachments": {},
   "cell_type": "markdown",
   "metadata": {},
   "source": [
    "### Pubmed data"
   ]
  },
  {
   "cell_type": "code",
   "execution_count": 1,
   "metadata": {},
   "outputs": [
    {
     "name": "stderr",
     "output_type": "stream",
     "text": [
      "No config specified, defaulting to: pubmed-summarization/section\n",
      "Found cached dataset pubmed-summarization (/root/.cache/huggingface/datasets/ccdv___pubmed-summarization/section/1.0.0/f765ec606c790e8c5694b226814a13f1974ba4ea98280989edaffb152ded5e2b)\n"
     ]
    },
    {
     "data": {
      "application/json": {
       "ascii": false,
       "bar_format": null,
       "colour": null,
       "elapsed": 0.06317639350891113,
       "initial": 0,
       "n": 0,
       "ncols": null,
       "nrows": null,
       "postfix": null,
       "prefix": "",
       "rate": null,
       "total": 3,
       "unit": "it",
       "unit_divisor": 1000,
       "unit_scale": false
      },
      "application/vnd.jupyter.widget-view+json": {
       "model_id": "bb87e906372e46d7aa6bc6a16edd4482",
       "version_major": 2,
       "version_minor": 0
      },
      "text/plain": [
       "  0%|          | 0/3 [00:00<?, ?it/s]"
      ]
     },
     "metadata": {},
     "output_type": "display_data"
    }
   ],
   "source": [
    "from datasets import load_dataset\n",
    "from sklearn.decomposition import PCA\n",
    "from sklearn.cluster import KMeans\n",
    "import pandas as pd\n",
    "import altair as alt\n",
    "from backend import to_embeddings, summarize\n",
    "\n",
    "dataset = load_dataset(\"ccdv/pubmed-summarization\")\n",
    "dataset = dataset[\"train\"][4]\n",
    "sentences = dataset['article'].split(\"\\n\")\n"
   ]
  },
  {
   "attachments": {},
   "cell_type": "markdown",
   "metadata": {},
   "source": [
    "Embed question and sentences"
   ]
  },
  {
   "cell_type": "code",
   "execution_count": 2,
   "metadata": {},
   "outputs": [],
   "source": [
    "question = \"What are the symptoms of syncope?\"\n",
    "sentences.append(question)\n",
    "embeddings = to_embeddings(sentences)"
   ]
  },
  {
   "attachments": {},
   "cell_type": "markdown",
   "metadata": {},
   "source": [
    "Clustering"
   ]
  },
  {
   "cell_type": "code",
   "execution_count": 3,
   "metadata": {},
   "outputs": [],
   "source": [
    "pc = PCA(n_components=2).fit_transform(embeddings)\n",
    "clusters = KMeans(n_clusters=7).fit_predict(embeddings)\n"
   ]
  },
  {
   "attachments": {},
   "cell_type": "markdown",
   "metadata": {},
   "source": [
    "Make data frame for plotting"
   ]
  },
  {
   "cell_type": "code",
   "execution_count": 4,
   "metadata": {},
   "outputs": [],
   "source": [
    "df = pd.DataFrame({\n",
    "    \"x\": pc[:, 0],\n",
    "    \"y\": pc[:, 1],\n",
    "    \"sentence\": sentences,\n",
    "    \"cluster\": clusters,\n",
    "})\n",
    "df['is_question'] = df['sentence'] == question\n"
   ]
  },
  {
   "cell_type": "code",
   "execution_count": 5,
   "metadata": {},
   "outputs": [
    {
     "data": {
      "text/html": [
       "\n",
       "<div id=\"altair-viz-da3dd5289b9241f48c0eb45f3a3b08b3\"></div>\n",
       "<script type=\"text/javascript\">\n",
       "  var VEGA_DEBUG = (typeof VEGA_DEBUG == \"undefined\") ? {} : VEGA_DEBUG;\n",
       "  (function(spec, embedOpt){\n",
       "    let outputDiv = document.currentScript.previousElementSibling;\n",
       "    if (outputDiv.id !== \"altair-viz-da3dd5289b9241f48c0eb45f3a3b08b3\") {\n",
       "      outputDiv = document.getElementById(\"altair-viz-da3dd5289b9241f48c0eb45f3a3b08b3\");\n",
       "    }\n",
       "    const paths = {\n",
       "      \"vega\": \"https://cdn.jsdelivr.net/npm//vega@5?noext\",\n",
       "      \"vega-lib\": \"https://cdn.jsdelivr.net/npm//vega-lib?noext\",\n",
       "      \"vega-lite\": \"https://cdn.jsdelivr.net/npm//vega-lite@4.17.0?noext\",\n",
       "      \"vega-embed\": \"https://cdn.jsdelivr.net/npm//vega-embed@6?noext\",\n",
       "    };\n",
       "\n",
       "    function maybeLoadScript(lib, version) {\n",
       "      var key = `${lib.replace(\"-\", \"\")}_version`;\n",
       "      return (VEGA_DEBUG[key] == version) ?\n",
       "        Promise.resolve(paths[lib]) :\n",
       "        new Promise(function(resolve, reject) {\n",
       "          var s = document.createElement('script');\n",
       "          document.getElementsByTagName(\"head\")[0].appendChild(s);\n",
       "          s.async = true;\n",
       "          s.onload = () => {\n",
       "            VEGA_DEBUG[key] = version;\n",
       "            return resolve(paths[lib]);\n",
       "          };\n",
       "          s.onerror = () => reject(`Error loading script: ${paths[lib]}`);\n",
       "          s.src = paths[lib];\n",
       "        });\n",
       "    }\n",
       "\n",
       "    function showError(err) {\n",
       "      outputDiv.innerHTML = `<div class=\"error\" style=\"color:red;\">${err}</div>`;\n",
       "      throw err;\n",
       "    }\n",
       "\n",
       "    function displayChart(vegaEmbed) {\n",
       "      vegaEmbed(outputDiv, spec, embedOpt)\n",
       "        .catch(err => showError(`Javascript Error: ${err.message}<br>This usually means there's a typo in your chart specification. See the javascript console for the full traceback.`));\n",
       "    }\n",
       "\n",
       "    if(typeof define === \"function\" && define.amd) {\n",
       "      requirejs.config({paths});\n",
       "      require([\"vega-embed\"], displayChart, err => showError(`Error loading script: ${err.message}`));\n",
       "    } else {\n",
       "      maybeLoadScript(\"vega\", \"5\")\n",
       "        .then(() => maybeLoadScript(\"vega-lite\", \"4.17.0\"))\n",
       "        .then(() => maybeLoadScript(\"vega-embed\", \"6\"))\n",
       "        .catch(showError)\n",
       "        .then(() => displayChart(vegaEmbed));\n",
       "    }\n",
       "  })({\"config\": {\"view\": {\"continuousWidth\": 400, \"continuousHeight\": 300}}, \"data\": {\"name\": \"data-3a063041879a199b6c8b403f5f923878\"}, \"mark\": \"circle\", \"encoding\": {\"color\": {\"field\": \"cluster\", \"type\": \"nominal\"}, \"opacity\": {\"value\": 1}, \"size\": {\"condition\": {\"value\": 100, \"test\": \"datum.is_question\"}, \"value\": 30}, \"tooltip\": {\"field\": \"sentence\", \"type\": \"nominal\"}, \"x\": {\"field\": \"x\", \"type\": \"quantitative\"}, \"y\": {\"field\": \"y\", \"type\": \"quantitative\"}}, \"$schema\": \"https://vega.github.io/schema/vega-lite/v4.17.0.json\", \"datasets\": {\"data-3a063041879a199b6c8b403f5f923878\": [{\"x\": 0.32711010560003295, \"y\": -0.12008431519461084, \"sentence\": \"syncope is caused by transient diffuse cerebral hypoperfusion and is characterized by transient loss of consciousness with a rapid onset followed by spontaneous and complete recovery . \", \"cluster\": 1, \"is_question\": false}, {\"x\": 0.21500560999861038, \"y\": -0.22475114949648292, \"sentence\": \" clinical features of syncope may include myoclonic jerks which are often multifocal and asynchronous , convulsions , and urinary incontinence , making it difficult to differentiate from epileptic seizure by clinical features alone . \", \"cluster\": 1, \"is_question\": false}, {\"x\": 0.04501997641935342, \"y\": -0.16302746049149955, \"sentence\": \" significant fluctuations in cerebral perfusion pressure are prevented by autoregulation of cerebral circulation , but there may be conditions where such mechanism may not compensate adequately . \", \"cluster\": 2, \"is_question\": false}, {\"x\": 0.5478370063961897, \"y\": 0.03517293604375398, \"sentence\": \" cough syncope , a rare form of syncope , may be a result of transient failure of the cerebral autoregulatory mechanism to cope with sudden decrease in cerebral blood flow . \", \"cluster\": 1, \"is_question\": false}, {\"x\": 0.15024775847863667, \"y\": 0.4768442368757011, \"sentence\": \" we present an unusual case of recurrent cough syncope , which was initially diagnosed and treated as seizures , in the context of a left - sided glomus jugulare tumor , a benign paraganglioma . \", \"cluster\": 6, \"is_question\": false}, {\"x\": -0.3027219096543143, \"y\": 0.3881978919083242, \"sentence\": \" a 43-year - old right - handed woman with history of glomus jugulare tumor in the left jugular fossa with intracranial extension into the posterior cranial fossa was transferred from another hospital for recurrent seizure - like spells . \", \"cluster\": 6, \"is_question\": false}, {\"x\": -0.5480542721770854, \"y\": 0.14238071527219354, \"sentence\": \" she had a 90% surgical resection of the tumor done in 2011 followed by radiation therapy in september 2012 . \", \"cluster\": 5, \"is_question\": false}, {\"x\": -0.31168351276495476, \"y\": -0.3358637949248259, \"sentence\": \" her episodes occurred multiple times a day ( 7 per day on average ) during wakeful state . \", \"cluster\": 4, \"is_question\": false}, {\"x\": 0.04460068185442596, \"y\": -0.036453417072424145, \"sentence\": \" they were triggered by coughing ( usually a bout of cough ) and were characterized by staring and unresponsiveness as well as stiffening of the body with mild shaking of both upper extremities . \", \"cluster\": 1, \"is_question\": false}, {\"x\": -0.3847419457183521, \"y\": -0.34749276963748305, \"sentence\": \" she was diagnosed with epileptic seizures but continued to have episodes during treatment with the antiepileptic drugs ( aeds ) phenytoin , levetiracetam , and lamotrigine . \", \"cluster\": 4, \"is_question\": false}, {\"x\": -0.35167721888574693, \"y\": -0.41971228748960254, \"sentence\": \" escalation of aed therapy made her increasingly drowsy , and she was on all three aforementioned aeds at the time of presentation . \", \"cluster\": 4, \"is_question\": false}, {\"x\": -0.33900614222209785, \"y\": -0.15339957745366917, \"sentence\": \" her physical examination was remarkable for excessive drowsiness , mild dysarthria , right sixth cranial nerve palsy , mild hypertonia with hyperreflexia in the lower extremities ( left more than right ) , and bilateral ( left more than right ) ankle clonus . \", \"cluster\": 2, \"is_question\": false}, {\"x\": -0.29916016068483625, \"y\": -0.04407102405995215, \"sentence\": \" she had a lumbar puncture done at the outside hospital , and the opening cerebrospinal fluid ( csf ) pressure was reported to be 25  cm . \", \"cluster\": 3, \"is_question\": false}, {\"x\": -0.3612060552384285, \"y\": -0.29470648033121866, \"sentence\": \" blood work was also unremarkable except for mild anemia ( hemoglobin : 9.4  g / dl ) , mild hyponatremia ( 132  meq / l ) , and mild hypokalemia ( 3.1  meq / l ) . \", \"cluster\": 2, \"is_question\": false}, {\"x\": -0.3290995737167025, \"y\": -0.3501959882704282, \"sentence\": \" antiepileptic drug levels were within therapeutic range ( free phenytoin : 1.3  g / ml , levetiracetam : 5.9  g / ml , and lamotrigine : 2.3  g / ml ) . \", \"cluster\": 4, \"is_question\": false}, {\"x\": 0.0031370026941674105, \"y\": -0.08126841195449559, \"sentence\": \" all started with a bout of cough when the patient was lying in bed ( in supine or in lateral position ) which was followed by brief ( less than a minute ) distal upper extremity tremor and subtle proximal upper extremity myoclonic jerks and prolonged unresponsiveness for up to 10  min . \", \"cluster\": 1, \"is_question\": false}, {\"x\": -0.05458223353764608, \"y\": -0.2627812376478895, \"sentence\": \" all of these episodes were associated with hypotension ( 7278/3147  mm of hg as revealed by continuous arterial pressure monitoring ) and bradycardia ( 5459  bpm ) . \", \"cluster\": 2, \"is_question\": false}, {\"x\": -0.022888929877101904, \"y\": -0.32070978122599897, \"sentence\": \" the eeg during the spells was characterized by generalized synchronous and asynchronous high amplitude 1- to 2-hz delta activity which progressed to generalized attenuation and then transitioned to generalized delta activity again with recovery ( fig .  1 ) . \", \"cluster\": 1, \"is_question\": false}, {\"x\": -0.28275052673149986, \"y\": 0.580545794426995, \"sentence\": \" a head ct showed recurrence of the glomus jugulare tumor and communicating hydrocephalus . an external ventricular drain ( evd ) \", \"cluster\": 6, \"is_question\": false}, {\"x\": -0.32943200415891555, \"y\": -0.4335008353083348, \"sentence\": \" after placement of the evd , her drowsiness gradually started to improve , and episodes decreased in frequency to one per day . \", \"cluster\": 4, \"is_question\": false}, {\"x\": -0.22632527097261357, \"y\": 0.4370736844024864, \"sentence\": \" 3 showed an enhancing t2 hyperintense left skull base mass in the region of the left jugular foramen with extension into the posterior cranial fossa and below the base of the skull . \", \"cluster\": 6, \"is_question\": false}, {\"x\": -0.39597602366561596, \"y\": 0.07378124777946997, \"sentence\": \" brain imaging showed evidence of hydrocephalus that had increased compared with her previous brain imaging done 2  months back . \", \"cluster\": 3, \"is_question\": false}, {\"x\": -0.2742960469839496, \"y\": -0.3226755675219206, \"sentence\": \" her mental status continued to improve , and she had only one mild episode triggered by cough during the next two days before her discharge . \", \"cluster\": 4, \"is_question\": false}, {\"x\": -0.3381739784628869, \"y\": 0.44872900168554414, \"sentence\": \" repeat surgical resection of the tumor was recommended by the otolaryngology team , which the patient declined . \", \"cluster\": 5, \"is_question\": false}, {\"x\": 0.43894042974537706, \"y\": -0.0536122726327864, \"sentence\": \" based on the clinical features and eeg findings , the episodes observed in our patient are most consistent with cough syncope . \", \"cluster\": 1, \"is_question\": false}, {\"x\": 0.5533636770110648, \"y\": -0.08739427007232625, \"sentence\": \" the mechanism underlying cough syncope is not definitively established , but it is postulated that coughing increases intrathoracic and intraabdominal pressures leading to a transient increase in icp . increased icp , in turn , causes a decrease in cerebral perfusion pressure which , if it drops below a critical level , may result in global cerebral hypoperfusion leading to syncope . \", \"cluster\": 1, \"is_question\": false}, {\"x\": 0.5049053039621318, \"y\": -0.09373228876490486, \"sentence\": \" transient cerebral circulatory arrest has been demonstrated by transcranial doppler measurements during cough syncope . our patient also had a drop in blood pressure and heart rate but probably not sufficient to cause syncope by itself . \", \"cluster\": 1, \"is_question\": false}, {\"x\": 0.37523965660916636, \"y\": 0.24375369158547622, \"sentence\": \" cough syncope has been associated with posterior fossa mass lesions or tonsillar herniation and with hydrocephalus . \", \"cluster\": 1, \"is_question\": false}, {\"x\": 0.1795005712347557, \"y\": 0.10709825505620524, \"sentence\": \" it may be speculated that bouts of cough caused transient herniation of cerebellar tonsils obstructing csf flow that further contributed to the increase in icp during coughing . \", \"cluster\": 1, \"is_question\": false}, {\"x\": -0.11783861611941655, \"y\": -0.34583411139986114, \"sentence\": \" decrease in frequency of events following placement of evd to relieve icp lends support to this notion . \", \"cluster\": 4, \"is_question\": false}, {\"x\": -0.3640245496283301, \"y\": 0.6328919848889103, \"sentence\": \" paragangliomas are rare tumors of extraadrenal chromaffin cell origin that most commonly occur in the head and neck region . \", \"cluster\": 6, \"is_question\": false}, {\"x\": -0.203416968115701, \"y\": 0.5186363803892454, \"sentence\": \" catecholamine - hypersecreting paraganglionomas are uncommon in the head and neck region , and most patients ( 95% ) with hypersecreting paraganglionomas have hypertension . \", \"cluster\": 6, \"is_question\": false}, {\"x\": 0.39422803226652453, \"y\": -0.1517149657534898, \"sentence\": \" hypotension accompanying syncope observed in our patient was not orthostasis - related ( the patient was always supine during spells ) and was most likely related to cough . \", \"cluster\": 1, \"is_question\": false}, {\"x\": 0.38209298858543883, \"y\": -0.05703080762910578, \"sentence\": \" identified a subset of patients with cough syncope who lacked a blood pressure overshoot ( expected response ) after the relief of straining during valsalva maneuver . \", \"cluster\": 1, \"is_question\": false}, {\"x\": 0.4639551643599577, \"y\": -0.06717064831798653, \"sentence\": \" the authors postulate that cough syncope in these patients might be the result of delayed recovery from hypotension that follows a paroxysm of cough , and this was likely contributing to global cerebral hypoperfusion in our patient . \", \"cluster\": 1, \"is_question\": false}, {\"x\": 0.44327616751930793, \"y\": 0.16484523780653404, \"sentence\": \" this case highlights the fact that cough syncope , a rare form of syncope , may be associated with intracranial mass lesions that indirectly exaggerate the increase in icp in response to cough . \", \"cluster\": 1, \"is_question\": false}, {\"x\": 0.1617500714185158, \"y\": 0.5101702992828844, \"sentence\": \" glomus caroticum tumor presenting as recurrent unexplained syncope   and posterior fossa meningioma presenting as recurrent cough syncope   have been described . \", \"cluster\": 6, \"is_question\": false}, {\"x\": 0.32301197532165227, \"y\": 0.12406906285884362, \"sentence\": \" recurrent cough syncope should trigger search for factors , including brain tumors , with the potential to cause transient elevation in icp . \", \"cluster\": 1, \"is_question\": false}, {\"x\": 0.3428637551711762, \"y\": -0.10555602172034266, \"sentence\": \" this case also illustrates an important role for ceeg monitoring with video in distinguishing syncope from seizures in cough syncope cases . \", \"cluster\": 1, \"is_question\": false}, {\"x\": -0.2768986164824529, \"y\": 0.04230072442953247, \"sentence\": \" \", \"cluster\": 0, \"is_question\": false}, {\"x\": 0.21786862115216307, \"y\": -0.053751660320459416, \"sentence\": \"What are the symptoms of syncope?\", \"cluster\": 1, \"is_question\": true}]}}, {\"mode\": \"vega-lite\"});\n",
       "</script>"
      ],
      "text/plain": [
       "alt.Chart(...)"
      ]
     },
     "execution_count": 5,
     "metadata": {},
     "output_type": "execute_result"
    }
   ],
   "source": [
    "alt.Chart(df).mark_circle().encode(\n",
    "    x='x:Q',\n",
    "    y='y:Q',\n",
    "    color='cluster:N',\n",
    "    opacity=alt.value(1),\n",
    "    size=alt.condition(alt.datum.is_question, alt.value(100), alt.value(30)),\n",
    "    tooltip='sentence'\n",
    ")"
   ]
  },
  {
   "attachments": {},
   "cell_type": "markdown",
   "metadata": {},
   "source": [
    "## Summarize"
   ]
  },
  {
   "cell_type": "code",
   "execution_count": 6,
   "metadata": {},
   "outputs": [
    {
     "data": {
      "text/plain": [
       "['syncope is caused by transient diffuse cerebral hypoperfusion and is characterized by transient loss of consciousness with a rapid onset followed by spontaneous and complete recovery . ',\n",
       " ' clinical features of syncope may include myoclonic jerks which are often multifocal and asynchronous , convulsions , and urinary incontinence , making it difficult to differentiate from epileptic seizure by clinical features alone . ',\n",
       " ' cough syncope , a rare form of syncope , may be a result of transient failure of the cerebral autoregulatory mechanism to cope with sudden decrease in cerebral blood flow . ',\n",
       " ' they were triggered by coughing ( usually a bout of cough ) and were characterized by staring and unresponsiveness as well as stiffening of the body with mild shaking of both upper extremities . ',\n",
       " ' all started with a bout of cough when the patient was lying in bed ( in supine or in lateral position ) which was followed by brief ( less than a minute ) distal upper extremity tremor and subtle proximal upper extremity myoclonic jerks and prolonged unresponsiveness for up to 10  min . ',\n",
       " ' the eeg during the spells was characterized by generalized synchronous and asynchronous high amplitude 1- to 2-hz delta activity which progressed to generalized attenuation and then transitioned to generalized delta activity again with recovery ( fig .  1 ) . ',\n",
       " ' based on the clinical features and eeg findings , the episodes observed in our patient are most consistent with cough syncope . ',\n",
       " ' the mechanism underlying cough syncope is not definitively established , but it is postulated that coughing increases intrathoracic and intraabdominal pressures leading to a transient increase in icp . increased icp , in turn , causes a decrease in cerebral perfusion pressure which , if it drops below a critical level , may result in global cerebral hypoperfusion leading to syncope . ',\n",
       " ' transient cerebral circulatory arrest has been demonstrated by transcranial doppler measurements during cough syncope . our patient also had a drop in blood pressure and heart rate but probably not sufficient to cause syncope by itself . ',\n",
       " ' cough syncope has been associated with posterior fossa mass lesions or tonsillar herniation and with hydrocephalus . ',\n",
       " ' it may be speculated that bouts of cough caused transient herniation of cerebellar tonsils obstructing csf flow that further contributed to the increase in icp during coughing . ',\n",
       " ' hypotension accompanying syncope observed in our patient was not orthostasis - related ( the patient was always supine during spells ) and was most likely related to cough . ',\n",
       " ' identified a subset of patients with cough syncope who lacked a blood pressure overshoot ( expected response ) after the relief of straining during valsalva maneuver . ',\n",
       " ' the authors postulate that cough syncope in these patients might be the result of delayed recovery from hypotension that follows a paroxysm of cough , and this was likely contributing to global cerebral hypoperfusion in our patient . ',\n",
       " ' this case highlights the fact that cough syncope , a rare form of syncope , may be associated with intracranial mass lesions that indirectly exaggerate the increase in icp in response to cough . ',\n",
       " ' recurrent cough syncope should trigger search for factors , including brain tumors , with the potential to cause transient elevation in icp . ',\n",
       " ' this case also illustrates an important role for ceeg monitoring with video in distinguishing syncope from seizures in cough syncope cases . ',\n",
       " 'What are the symptoms of syncope?']"
      ]
     },
     "execution_count": 6,
     "metadata": {},
     "output_type": "execute_result"
    }
   ],
   "source": [
    "question_cluster = clusters[-1]\n",
    "relevant_sentences = [s for s, c in zip(sentences, clusters) if c == question_cluster]\n",
    "relevant_sentences"
   ]
  },
  {
   "cell_type": "code",
   "execution_count": 7,
   "metadata": {},
   "outputs": [
    {
     "name": "stderr",
     "output_type": "stream",
     "text": [
      "/opt/conda/lib/python3.8/site-packages/transformers/modeling_utils.py:781: FutureWarning: The `device` argument is deprecated and will be removed in v5 of Transformers.\n",
      "  warnings.warn(\n"
     ]
    },
    {
     "data": {
      "text/plain": [
       "'<pad> cough syncope, a rare form of syncope, may be a result of transient failure of the cerebral autoregulatory mechanism to cope with sudden decrease in cerebral blood flow. this case highlights the fact that cough syncope, a rare form of syncope, may be associated with intracranial mass lesions that indirectly exaggerate the increase in icp in response to cough.</s>'"
      ]
     },
     "execution_count": 7,
     "metadata": {},
     "output_type": "execute_result"
    }
   ],
   "source": [
    "summarize(relevant_sentences)"
   ]
  }
 ],
 "metadata": {
  "kernelspec": {
   "display_name": "base",
   "language": "python",
   "name": "python3"
  },
  "language_info": {
   "codemirror_mode": {
    "name": "ipython",
    "version": 3
   },
   "file_extension": ".py",
   "mimetype": "text/x-python",
   "name": "python",
   "nbconvert_exporter": "python",
   "pygments_lexer": "ipython3",
   "version": "3.8.13"
  },
  "orig_nbformat": 4
 },
 "nbformat": 4,
 "nbformat_minor": 2
}
