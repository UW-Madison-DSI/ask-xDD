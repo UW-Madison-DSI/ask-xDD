{
 "cells": [
  {
   "attachments": {},
   "cell_type": "markdown",
   "metadata": {},
   "source": [
    "# Prompt-based text summarization (QA) trial 1\n",
    "\n",
    "Can long-t5 perform GPT-like text extraction? "
   ]
  },
  {
   "cell_type": "code",
   "execution_count": 1,
   "metadata": {},
   "outputs": [
    {
     "name": "stderr",
     "output_type": "stream",
     "text": [
      "No config specified, defaulting to: pubmed-summarization/section\n",
      "Found cached dataset pubmed-summarization (/root/.cache/huggingface/datasets/ccdv___pubmed-summarization/section/1.0.0/f765ec606c790e8c5694b226814a13f1974ba4ea98280989edaffb152ded5e2b)\n"
     ]
    },
    {
     "data": {
      "application/json": {
       "ascii": false,
       "bar_format": null,
       "colour": null,
       "elapsed": 0.06357836723327637,
       "initial": 0,
       "n": 0,
       "ncols": null,
       "nrows": null,
       "postfix": null,
       "prefix": "",
       "rate": null,
       "total": 3,
       "unit": "it",
       "unit_divisor": 1000,
       "unit_scale": false
      },
      "application/vnd.jupyter.widget-view+json": {
       "model_id": "a1718293514e467f8c24fd3b1b3c59df",
       "version_major": 2,
       "version_minor": 0
      },
      "text/plain": [
       "  0%|          | 0/3 [00:00<?, ?it/s]"
      ]
     },
     "metadata": {},
     "output_type": "display_data"
    }
   ],
   "source": [
    "from datasets import load_dataset\n",
    "from backend import t5\n",
    "\n",
    "dataset = load_dataset(\"ccdv/pubmed-summarization\")\n",
    "dataset = dataset[\"train\"][4]\n",
    "text = dataset[\"article\"]\n",
    "question = \"What are the symptoms of syncope?\"\n"
   ]
  },
  {
   "cell_type": "code",
   "execution_count": 2,
   "metadata": {},
   "outputs": [
    {
     "name": "stderr",
     "output_type": "stream",
     "text": [
      "/opt/conda/lib/python3.8/site-packages/transformers/modeling_utils.py:781: FutureWarning: The `device` argument is deprecated and will be removed in v5 of Transformers.\n",
      "  warnings.warn(\n"
     ]
    },
    {
     "data": {
      "text/plain": [
       "'<pad> cough syncope, a rare form of syncope, may be a result of transient failure of the cerebral autoregulatory mechanism to cope with sudden decrease in cerebral blood flow. this case highlights the fact that cough syncope, a rare form of syncope, may be associated with intracranial mass lesions that indirectly exaggerate the increase in icp in response to cough.</s>'"
      ]
     },
     "execution_count": 2,
     "metadata": {},
     "output_type": "execute_result"
    }
   ],
   "source": [
    "TEMPLATE = (\n",
    "    f\"Based on the following context answer this question: {question} Context: {text}\"\n",
    ")\n",
    "t5(TEMPLATE.format(question=question, article=text))\n"
   ]
  },
  {
   "attachments": {},
   "cell_type": "markdown",
   "metadata": {},
   "source": [
    "### Notes for further development\n",
    "\n",
    "- In order to Get a model that is extremely well in a single task, we can fine-tune long-t5 by fine tuning\n",
    "    - distilling from the data generated from GPT-4? (Stanford's alpaca approach)\n",
    "    - fine-tune on open datasets focused on long-text QA "
   ]
  },
  {
   "attachments": {},
   "cell_type": "markdown",
   "metadata": {},
   "source": [
    "## Visualize saliency in T5"
   ]
  },
  {
   "cell_type": "code",
   "execution_count": 3,
   "metadata": {},
   "outputs": [
    {
     "name": "stderr",
     "output_type": "stream",
     "text": [
      "/opt/conda/lib/python3.8/site-packages/transformers/modeling_utils.py:781: FutureWarning: The `device` argument is deprecated and will be removed in v5 of Transformers.\n",
      "  warnings.warn(\n"
     ]
    }
   ],
   "source": [
    "from transformers import AutoTokenizer, LongT5ForConditionalGeneration\n",
    "from captum.attr import Saliency\n",
    "from captum.attr import visualization as viz\n",
    "\n",
    "model_name = \"google/long-t5-tglobal-base\"\n",
    "# Tokenize input sentences\n",
    "tokenizer = AutoTokenizer.from_pretrained(model_name)\n",
    "inputs_dict = tokenizer(\n",
    "    f\"answer_me: {question} context: {text}\",\n",
    "    max_length=16384,\n",
    "    padding=\"max_length\",\n",
    "    truncation=True,\n",
    "    return_tensors=\"pt\",\n",
    ")\n",
    "\n",
    "# Generate summary\n",
    "model = LongT5ForConditionalGeneration.from_pretrained(model_name)\n",
    "y = model.generate(\n",
    "    inputs_dict.input_ids, attention_mask=inputs_dict.attention_mask, max_length=512\n",
    ")"
   ]
  },
  {
   "cell_type": "code",
   "execution_count": 4,
   "metadata": {},
   "outputs": [],
   "source": [
    "model.eval()\n",
    "model.zero_grad()"
   ]
  },
  {
   "cell_type": "code",
   "execution_count": 5,
   "metadata": {},
   "outputs": [
    {
     "ename": "",
     "evalue": "",
     "output_type": "error",
     "traceback": [
      "\u001b[1;31mCanceled future for execute_request message before replies were done"
     ]
    },
    {
     "ename": "",
     "evalue": "",
     "output_type": "error",
     "traceback": [
      "\u001b[1;31mThe Kernel crashed while executing code in the the current cell or a previous cell. Please review the code in the cell(s) to identify a possible cause of the failure. Click <a href='https://aka.ms/vscodeJupyterKernelCrash'>here</a> for more info. View Jupyter <a href='command:jupyter.viewOutput'>log</a> for further details."
     ]
    }
   ],
   "source": [
    "y = model(**inputs_dict)"
   ]
  },
  {
   "cell_type": "code",
   "execution_count": 1,
   "metadata": {},
   "outputs": [
    {
     "ename": "NameError",
     "evalue": "name 'Saliency' is not defined",
     "output_type": "error",
     "traceback": [
      "\u001b[0;31m---------------------------------------------------------------------------\u001b[0m",
      "\u001b[0;31mNameError\u001b[0m                                 Traceback (most recent call last)",
      "\u001b[1;32m/askem/experiments/qa_v1.ipynb Cell 9\u001b[0m in \u001b[0;36m<cell line: 1>\u001b[0;34m()\u001b[0m\n\u001b[0;32m----> <a href='vscode-notebook-cell://dev-container%2B7b22686f737450617468223a22633a5c5c55736572735c5c636c6f33365c5c7265706f5c5c61736b656d222c22636f6e66696746696c65223a7b22246d6964223a312c22667350617468223a22633a5c5c55736572735c5c636c6f33365c5c7265706f5c5c61736b656d5c5c2e646576636f6e7461696e65725c5c646576636f6e7461696e65722e6a736f6e222c225f736570223a312c2265787465726e616c223a2266696c653a2f2f2f632533412f55736572732f636c6f33362f7265706f2f61736b656d2f2e646576636f6e7461696e65722f646576636f6e7461696e65722e6a736f6e222c2270617468223a222f633a2f55736572732f636c6f33362f7265706f2f61736b656d2f2e646576636f6e7461696e65722f646576636f6e7461696e65722e6a736f6e222c22736368656d65223a2266696c65227d7d/askem/experiments/qa_v1.ipynb#X10sdnNjb2RlLXJlbW90ZQ%3D%3D?line=0'>1</a>\u001b[0m saliency \u001b[39m=\u001b[39m Saliency(model)\n",
      "\u001b[0;31mNameError\u001b[0m: name 'Saliency' is not defined"
     ]
    }
   ],
   "source": [
    "saliency = Saliency(model)"
   ]
  },
  {
   "cell_type": "code",
   "execution_count": null,
   "metadata": {},
   "outputs": [],
   "source": [
    "saliency.attribute(inputs_dict.input_ids, target=0)"
   ]
  },
  {
   "cell_type": "code",
   "execution_count": null,
   "metadata": {},
   "outputs": [],
   "source": [
    "y = model(inputs_dict.input_ids, attention_mask=inputs_dict.attention_mask)"
   ]
  },
  {
   "cell_type": "code",
   "execution_count": null,
   "metadata": {},
   "outputs": [],
   "source": [
    "import torch\n",
    "from transformers import T5ForConditionalGeneration, T5Tokenizer\n",
    "from captum.attr import Saliency\n",
    "from captum.attr import visualization as viz\n",
    "\n",
    "# Load the T5 model and tokenizer\n",
    "model_name = \"google/long-t5-tglobal-base\"\n",
    "model = T5ForConditionalGeneration.from_pretrained(model_name)\n",
    "tokenizer = T5Tokenizer.from_pretrained(model_name)\n",
    "\n",
    "# Define the context and the question\n",
    "context = \"The Eiffel Tower is a wrought-iron lattice tower on the Champ de Mars in Paris, France. It is named after the engineer Gustave Eiffel, whose company designed and built the tower.\"\n",
    "question = \"Who designed the Eiffel Tower?\"\n",
    "\n",
    "# Prepare the input for the T5 model\n",
    "input_text = f\"answer_me: {question} context: {context}\"\n",
    "input_tokens = tokenizer.encode(input_text, return_tensors=\"pt\")\n",
    "\n",
    "# Ensure the model is in evaluation mode and requires gradient\n",
    "model.eval()\n",
    "model.zero_grad()\n",
    "input_tokens.requires_grad = True\n",
    "\n",
    "# Forward pass\n",
    "logits = model(input_tokens).logits\n",
    "\n",
    "# Calculate the loss for the answer token (the first token of the output)\n",
    "loss = logits[0, 0, tokenizer.encode(question)[0]].sum()\n",
    "loss.backward()\n",
    "\n",
    "# Use Captum's Saliency algorithm for attributions\n",
    "saliency = Saliency(model)\n",
    "attributions = saliency.attribute(input_tokens)\n",
    "\n",
    "# Visualize the attributions\n",
    "tokens = tokenizer.convert_ids_to_tokens(input_tokens[0])\n",
    "viz.visualize_text(\n",
    "    [\n",
    "        viz.VisualizationDataRecord(\n",
    "            attributions[0],\n",
    "            torch.tensor(0.0),  # Dummy score for visualization purposes\n",
    "            torch.sum(attributions),\n",
    "            tokens,\n",
    "            None,\n",
    "        )\n",
    "    ]\n",
    ")\n"
   ]
  },
  {
   "cell_type": "markdown",
   "metadata": {},
   "source": []
  }
 ],
 "metadata": {
  "kernelspec": {
   "display_name": "base",
   "language": "python",
   "name": "python3"
  },
  "language_info": {
   "codemirror_mode": {
    "name": "ipython",
    "version": 3
   },
   "file_extension": ".py",
   "mimetype": "text/x-python",
   "name": "python",
   "nbconvert_exporter": "python",
   "pygments_lexer": "ipython3",
   "version": "3.8.13"
  },
  "orig_nbformat": 4
 },
 "nbformat": 4,
 "nbformat_minor": 2
}
