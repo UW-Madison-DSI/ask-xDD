{
 "cells": [
  {
   "cell_type": "code",
   "execution_count": 2,
   "metadata": {},
   "outputs": [],
   "source": [
    "from tests.test_passage_encoding import get_passage_embedding_from_source "
   ]
  },
  {
   "cell_type": "code",
   "execution_count": 3,
   "metadata": {},
   "outputs": [],
   "source": [
    "test_passage = \"Where an aircraft passes through a cloud, it can disperse the cloud in its path.\""
   ]
  },
  {
   "cell_type": "code",
   "execution_count": 4,
   "metadata": {},
   "outputs": [
    {
     "data": {
      "application/json": {
       "ascii": false,
       "bar_format": null,
       "colour": null,
       "elapsed": 0.037996530532836914,
       "initial": 0,
       "n": 0,
       "ncols": null,
       "nrows": null,
       "postfix": null,
       "prefix": "Downloading (…)okenizer_config.json",
       "rate": null,
       "total": 28,
       "unit": "B",
       "unit_divisor": 1000,
       "unit_scale": true
      },
      "application/vnd.jupyter.widget-view+json": {
       "model_id": "fdbac0ebfb7644ccbd59b0ecb53ff20d",
       "version_major": 2,
       "version_minor": 0
      },
      "text/plain": [
       "Downloading (…)okenizer_config.json:   0%|          | 0.00/28.0 [00:00<?, ?B/s]"
      ]
     },
     "metadata": {},
     "output_type": "display_data"
    },
    {
     "data": {
      "application/json": {
       "ascii": false,
       "bar_format": null,
       "colour": null,
       "elapsed": 0.029999971389770508,
       "initial": 0,
       "n": 0,
       "ncols": null,
       "nrows": null,
       "postfix": null,
       "prefix": "Downloading (…)solve/main/vocab.txt",
       "rate": null,
       "total": 231508,
       "unit": "B",
       "unit_divisor": 1000,
       "unit_scale": true
      },
      "application/vnd.jupyter.widget-view+json": {
       "model_id": "b0211876dadc4256b166135be92a68e7",
       "version_major": 2,
       "version_minor": 0
      },
      "text/plain": [
       "Downloading (…)solve/main/vocab.txt:   0%|          | 0.00/232k [00:00<?, ?B/s]"
      ]
     },
     "metadata": {},
     "output_type": "display_data"
    },
    {
     "data": {
      "application/json": {
       "ascii": false,
       "bar_format": null,
       "colour": null,
       "elapsed": 0.028374433517456055,
       "initial": 0,
       "n": 0,
       "ncols": null,
       "nrows": null,
       "postfix": null,
       "prefix": "Downloading (…)/main/tokenizer.json",
       "rate": null,
       "total": 466062,
       "unit": "B",
       "unit_divisor": 1000,
       "unit_scale": true
      },
      "application/vnd.jupyter.widget-view+json": {
       "model_id": "5bb5ce2124b240a6816f76c2d568440b",
       "version_major": 2,
       "version_minor": 0
      },
      "text/plain": [
       "Downloading (…)/main/tokenizer.json:   0%|          | 0.00/466k [00:00<?, ?B/s]"
      ]
     },
     "metadata": {},
     "output_type": "display_data"
    },
    {
     "data": {
      "application/json": {
       "ascii": false,
       "bar_format": null,
       "colour": null,
       "elapsed": 0.02868199348449707,
       "initial": 0,
       "n": 0,
       "ncols": null,
       "nrows": null,
       "postfix": null,
       "prefix": "Downloading (…)lve/main/config.json",
       "rate": null,
       "total": 492,
       "unit": "B",
       "unit_divisor": 1000,
       "unit_scale": true
      },
      "application/vnd.jupyter.widget-view+json": {
       "model_id": "98e40f390d8e43f081d00357ca0df8f2",
       "version_major": 2,
       "version_minor": 0
      },
      "text/plain": [
       "Downloading (…)lve/main/config.json:   0%|          | 0.00/492 [00:00<?, ?B/s]"
      ]
     },
     "metadata": {},
     "output_type": "display_data"
    },
    {
     "name": "stderr",
     "output_type": "stream",
     "text": [
      "The tokenizer class you load from this checkpoint is not the same type as the class this function is called from. It may result in unexpected tokenization. \n",
      "The tokenizer class you load from this checkpoint is 'DPRQuestionEncoderTokenizer'. \n",
      "The class this function is called from is 'DPRContextEncoderTokenizer'.\n"
     ]
    },
    {
     "data": {
      "application/json": {
       "ascii": false,
       "bar_format": null,
       "colour": null,
       "elapsed": 0.031475067138671875,
       "initial": 0,
       "n": 0,
       "ncols": null,
       "nrows": null,
       "postfix": null,
       "prefix": "Downloading pytorch_model.bin",
       "rate": null,
       "total": 437983985,
       "unit": "B",
       "unit_divisor": 1000,
       "unit_scale": true
      },
      "application/vnd.jupyter.widget-view+json": {
       "model_id": "5bfa1adc67644c11931f16529f892e6a",
       "version_major": 2,
       "version_minor": 0
      },
      "text/plain": [
       "Downloading pytorch_model.bin:   0%|          | 0.00/438M [00:00<?, ?B/s]"
      ]
     },
     "metadata": {},
     "output_type": "display_data"
    },
    {
     "data": {
      "text/plain": [
       "tensor([[ 3.8563e-01,  1.5390e-01,  5.7525e-01,  1.4082e-01,  2.4522e-01,\n",
       "          7.7346e-02, -1.0883e-01, -3.2350e-02, -3.7639e-01, -6.4894e-01,\n",
       "         -5.9214e-01,  3.9900e-02,  5.8312e-02, -2.5038e-01, -6.5800e-02,\n",
       "          2.2638e-01,  3.1223e-03,  2.6940e-01, -3.2396e-01, -5.0623e-01,\n",
       "         -3.8589e-01, -6.7490e-02, -1.5724e-02,  9.7622e-03,  4.5610e-01,\n",
       "         -3.0237e-01,  2.1999e-01,  3.8410e-01,  1.3705e-01, -4.6934e-02,\n",
       "          7.4016e-02,  4.9793e-01,  7.6113e-02, -2.5926e-01,  1.5135e-01,\n",
       "         -2.4587e-02,  3.9595e-01, -7.1899e-03, -5.6045e-01, -3.8087e-01,\n",
       "         -6.5881e-01, -4.2445e-02, -3.0743e-02,  2.3896e-01, -2.4799e-01,\n",
       "         -2.8143e-01, -1.1729e+00,  2.3808e-01, -5.2130e-02, -2.4044e-01,\n",
       "         -1.8740e-01,  2.9398e-01, -2.0528e-01,  3.5885e-01,  1.9293e-01,\n",
       "          2.7838e-01, -5.8446e-01,  4.4707e-01, -1.5264e-02, -2.2257e-01,\n",
       "          1.1318e-01, -2.6025e-01, -2.9490e-01,  2.4545e-01,  2.5462e-01,\n",
       "          3.5829e-01, -3.1808e-03, -2.1842e-01, -1.1328e-01, -5.5120e-01,\n",
       "         -2.8969e-01, -5.4063e-01, -8.2121e-02,  4.3307e-01, -4.3338e-01,\n",
       "         -4.0495e-03,  2.6620e-01, -1.8766e-01, -7.2601e-02, -8.0172e-02,\n",
       "         -1.1016e-01,  1.1144e-01, -5.7885e-02, -2.9903e-02,  3.2664e-02,\n",
       "         -7.4219e-02, -6.6884e-01,  8.1696e-01, -1.9596e-01, -1.4652e-02,\n",
       "          9.7614e-02, -5.4630e-01, -2.7865e-01,  4.7259e-01,  4.3933e-02,\n",
       "          8.3827e-02,  3.4896e-01,  1.2657e-01,  5.4188e-01,  4.5437e-01,\n",
       "         -1.0499e-01, -2.9100e-01,  4.7149e-01,  6.0620e-02, -3.5758e-01,\n",
       "         -3.2070e-01, -5.1371e-01, -4.1551e-01, -2.4945e-01,  8.1789e-02,\n",
       "         -5.9767e-01, -1.8345e-01, -3.5552e-01,  5.2719e-02, -5.9611e-01,\n",
       "          2.7597e-01,  1.5752e-01,  3.2610e-01,  3.6693e-01,  2.3574e-02,\n",
       "          2.3058e-01,  1.0436e+00,  4.2222e-01,  9.1970e-02, -4.9282e-02,\n",
       "          1.9981e-01,  6.3640e-01,  5.0940e-01, -6.9373e-01,  3.2659e-01,\n",
       "          9.6089e-02,  6.2852e-01, -5.3466e-01,  3.6705e-01, -1.1594e-01,\n",
       "         -1.8368e-01,  3.7856e-01,  6.2117e-01,  4.4288e-01, -3.2917e-04,\n",
       "         -6.0904e-01, -4.5766e-01, -2.9530e-01,  3.7682e-02, -6.2067e-02,\n",
       "         -7.5457e-02, -8.0806e-02, -8.2608e-01, -6.5279e-01,  9.8121e-02,\n",
       "          1.2125e-01,  3.8815e-01, -5.4106e-01,  1.8522e-01, -1.5506e-02,\n",
       "          8.8614e-02, -1.9179e-01, -9.7059e-02, -6.0835e-02,  2.8945e-01,\n",
       "          3.2818e-01,  3.0014e-01, -2.4809e-01, -2.8126e-01,  2.5415e-01,\n",
       "         -2.7025e-01,  4.1963e-02,  3.1990e-02,  1.9550e-01,  3.0270e-01,\n",
       "         -4.1247e-01,  1.0996e-01,  3.3899e-01, -3.3566e-01,  2.1470e-01,\n",
       "          6.3435e-02,  2.9220e-01,  9.8957e-03,  3.4265e-01,  1.6212e-01,\n",
       "         -5.0218e-01,  2.9639e-02,  9.0614e-02, -2.3043e-01, -4.1004e-01,\n",
       "          4.1483e-01,  2.9232e-02,  2.0288e-01,  8.2692e-02, -2.5287e-01,\n",
       "         -4.0389e-02, -7.3508e-02, -8.6078e-02, -1.0105e+00,  5.6903e-01,\n",
       "         -3.5559e-01,  1.6162e-01,  5.3440e-01,  1.8075e-02,  2.6966e-01,\n",
       "         -1.5629e-01, -1.7734e-01,  3.4383e-01,  2.0978e-01, -1.2268e-01,\n",
       "          5.9865e-01,  2.1935e-01,  2.3399e-01,  1.1159e-01, -2.6889e-01,\n",
       "          3.9880e-01, -1.9560e-01,  1.1294e-01, -2.0948e-01,  3.0788e-01,\n",
       "          3.5101e-01, -8.8414e-01,  3.6289e-01,  1.2192e-01,  1.9407e-01,\n",
       "         -1.7574e-01,  1.6890e-01, -5.1358e-02,  1.3823e-01, -1.1648e-01,\n",
       "          3.5446e-01,  4.1365e-01,  2.3007e-01,  2.8151e-01, -7.8584e-01,\n",
       "         -1.0147e-01, -6.6810e-02, -3.3062e-01, -2.6601e-01, -3.7619e-01,\n",
       "         -3.4425e-01,  6.5778e-01, -1.8318e-01,  2.4006e-01,  8.0765e-03,\n",
       "         -3.4640e-01,  5.9844e-03, -4.7243e-01,  5.1112e-01, -2.2547e-01,\n",
       "         -2.1707e-01,  2.6969e-01, -1.8491e-02, -6.7054e-02,  1.0268e-02,\n",
       "          4.3045e-01,  5.2764e-01, -1.7297e-01, -8.4783e-01, -2.3666e-01,\n",
       "         -5.7580e-02, -5.6516e-01, -2.8761e-01,  6.7410e-01, -4.5386e-01,\n",
       "         -3.0550e-01,  9.5625e-02,  3.1203e-01,  1.8530e-01, -4.5558e-01,\n",
       "         -3.3222e-01, -4.7791e-01, -2.1269e-01,  5.4527e-01,  2.4061e-01,\n",
       "          3.1803e-01, -3.3330e-01, -8.4072e-02, -7.4936e-01, -4.6181e-01,\n",
       "         -2.6264e-01,  6.2922e-01,  3.2403e-01, -3.9943e-01, -2.9161e-01,\n",
       "          4.4178e-01,  7.0689e-01,  3.7816e-01, -1.7861e-01,  1.8226e-01,\n",
       "          1.6433e-01,  6.1648e-01, -1.6502e-01, -7.3989e-01,  1.6367e-01,\n",
       "         -9.4731e-02, -6.7422e-02, -1.9765e-01,  5.7193e-01,  2.6265e-01,\n",
       "          7.7786e-01,  1.8908e-02, -3.1262e-03,  5.3939e-01, -5.8537e-01,\n",
       "         -4.4322e-02,  1.4661e-01, -7.1235e-01, -4.8842e-01, -2.9452e-01,\n",
       "         -1.5579e-01, -8.5897e-01,  2.0952e-01, -6.1865e+00,  3.3510e-01,\n",
       "          1.0035e-01, -2.2891e-02, -1.8191e-01,  3.2418e-01,  3.0515e-01,\n",
       "         -7.3030e-02,  7.9764e-02, -8.0200e-02,  6.3322e-02,  2.2633e-01,\n",
       "          4.0955e-02,  1.7326e-01,  9.1106e-02,  5.2769e-01,  3.9382e-01,\n",
       "         -3.1190e-01,  1.9902e-01,  6.1307e-01, -2.8729e-01, -7.2203e-02,\n",
       "          1.2611e-01,  1.5876e-02,  1.8560e-01,  3.1580e-02, -3.5865e-01,\n",
       "          5.0923e-02, -8.8217e-02, -3.4448e-02,  8.9993e-02, -4.5447e-01,\n",
       "         -6.0684e-01,  2.8634e-01, -1.3263e-01,  4.3823e-03, -1.0417e-01,\n",
       "          1.4386e-02, -1.9873e-01,  6.2078e-01, -8.9866e-02,  4.8271e-01,\n",
       "         -6.7535e-02,  1.2665e-01,  2.1597e-01, -7.4833e-01, -2.4215e-01,\n",
       "         -3.0525e-01,  2.5870e-01,  5.4973e-01,  2.9243e-01,  1.2683e-01,\n",
       "          3.0544e-01, -9.0560e-02, -5.4550e-02,  3.0724e-01,  2.8398e-01,\n",
       "         -3.0225e-01, -2.3265e-01,  1.9511e-01, -1.1043e-01, -3.2797e-01,\n",
       "          1.0653e-01, -1.8699e-01,  8.3158e-01,  2.6370e-01, -7.6922e-01,\n",
       "         -5.1578e-01,  5.2562e-01, -2.6279e-01,  1.2430e-01,  3.0648e-01,\n",
       "          1.4005e-01, -7.8156e-01,  1.4385e-01, -6.4844e-01,  4.0049e-02,\n",
       "         -3.5303e-01, -2.5635e-02,  7.0242e-02, -7.1130e-02,  1.7112e-01,\n",
       "          1.7429e-01, -4.2069e-01, -1.1751e-01, -9.1426e-02,  1.1665e-01,\n",
       "         -3.9670e-02,  8.0918e-02,  3.6381e-01,  6.6622e-01, -3.5347e-01,\n",
       "          6.3824e-01, -1.8699e-02,  5.0980e-01,  4.4570e-01, -2.5127e-01,\n",
       "         -4.4120e-01,  5.2736e-01,  2.4619e-02,  6.1086e-01, -2.2939e-01,\n",
       "         -1.4891e-01, -2.6338e-01,  5.4837e-02, -1.8445e-01,  5.1061e-02,\n",
       "          3.9887e-01,  7.4537e-01,  9.3999e-02,  2.5797e-01,  1.5556e-01,\n",
       "         -3.4811e-01, -1.9453e-01,  2.6816e-01, -4.7178e-02,  9.5397e-02,\n",
       "          1.5311e-01,  2.3083e-01, -6.6306e-01, -1.4112e-01,  6.0670e-02,\n",
       "         -7.9390e-01,  1.5633e-01, -2.6950e-01, -8.0166e-02, -3.5413e-01,\n",
       "          5.1244e-01,  1.9444e-01, -3.2437e-02,  2.2328e-01,  5.6852e-01,\n",
       "          4.3517e-01, -4.6128e-02,  1.2966e-01, -6.3237e-01,  1.4555e-01,\n",
       "         -9.7152e-02,  1.6124e-01, -4.6647e-01, -7.5448e-02,  2.7437e-01,\n",
       "         -1.2871e-01, -8.2108e-02,  6.4317e-01,  1.0194e-01, -2.0544e-01,\n",
       "         -1.0925e-02,  2.8269e-01, -2.0558e-02,  6.8518e-02,  1.2285e-01,\n",
       "         -4.4560e-01, -1.4404e-01, -4.1132e-01, -1.8189e-01,  8.1388e-01,\n",
       "         -3.5968e-01,  6.2491e-01, -5.1756e-01,  9.5487e-01,  1.3360e-01,\n",
       "         -1.0099e+00, -1.9467e-01, -7.3329e-02,  3.8965e-01, -8.4629e-02,\n",
       "         -9.5954e-02, -2.0266e-02,  1.6656e-01, -1.9971e-01, -1.0376e+00,\n",
       "         -5.4998e-01,  1.5367e-01,  2.2868e-01,  9.4819e-02, -7.1853e-02,\n",
       "         -1.3599e-02,  2.4265e-01, -3.3211e-01, -4.6358e-01, -3.1780e-01,\n",
       "         -7.5240e-01,  5.4693e-01, -3.7614e-01, -1.5774e-01, -1.1680e-01,\n",
       "         -2.6143e-01, -9.3587e-02, -3.3194e-01,  1.5047e-01,  3.5784e-01,\n",
       "         -4.5160e-01, -2.9142e-01, -1.5797e-02,  8.6732e-02, -3.5776e-01,\n",
       "          2.7412e-01, -3.6521e-01,  7.0315e-02,  3.1350e-01,  2.7878e-01,\n",
       "         -5.6868e-01,  3.8634e-01,  7.2065e-02, -3.1424e-01,  4.3657e-01,\n",
       "          1.7996e-01, -3.9990e-01, -3.0810e-02, -1.6902e-02, -4.3596e-01,\n",
       "         -4.8570e-01,  6.0607e-01, -3.7396e-02,  2.4773e-01, -1.2867e-01,\n",
       "          2.3156e-01,  8.7722e-02, -5.4460e-03, -4.0062e-02, -3.9253e-01,\n",
       "         -2.7147e-01,  7.5577e-02, -3.1783e-01,  6.4650e-01,  3.2798e-01,\n",
       "         -5.8408e-01, -5.1598e-02,  1.6560e-02, -2.3119e-01,  3.0187e-01,\n",
       "         -2.0832e-01,  2.8489e-01, -6.0760e-01, -4.7763e-01, -1.5358e-01,\n",
       "         -5.2343e-01,  3.1977e-01,  7.7635e-02,  4.2430e-01,  6.9410e-01,\n",
       "         -1.1049e-02,  7.9784e-02,  2.0167e-01,  4.9225e-01,  4.1735e-01,\n",
       "         -1.1025e+00, -8.9402e-01,  6.0878e-02,  4.3656e-01,  7.6829e-03,\n",
       "         -3.3131e-01,  2.8576e-01,  3.9886e-01,  4.6399e-01, -6.0940e-01,\n",
       "         -9.6466e-02,  3.6519e-01,  3.9918e-01,  1.4835e-01, -2.2962e-01,\n",
       "         -5.5735e-01, -2.2230e-01,  2.1003e-01, -2.6385e-01, -2.5096e-01,\n",
       "         -5.5122e-02, -8.1496e-02, -5.9134e-01,  2.7455e-01, -7.5993e-02,\n",
       "          5.8899e-01, -1.0352e-01,  5.5891e-01,  2.0404e-01,  3.0426e-02,\n",
       "          1.7425e-01, -2.2722e-01,  2.2449e-01, -6.0851e-01, -4.5465e-01,\n",
       "          1.9090e-02, -5.4338e-01,  2.5715e-01,  2.9197e-01,  2.5436e-01,\n",
       "          2.9213e-01, -8.9746e-02, -1.8715e-01,  6.6560e-02,  3.7735e-01,\n",
       "         -3.1833e-01, -3.4326e-01,  1.3442e-01,  2.6362e-01,  2.9593e-01,\n",
       "          1.8280e-01,  1.6752e-01, -4.4567e-01, -5.6443e-01,  3.3960e-01,\n",
       "          2.9971e-02, -7.8127e-01,  1.7924e-01, -6.9476e-01,  4.9353e-01,\n",
       "         -6.2577e-01, -1.3821e-01, -1.5993e-01,  3.9445e-01,  2.2056e-01,\n",
       "         -6.6610e-01,  8.8752e-01, -2.3668e-01,  2.1903e-01,  2.8102e-01,\n",
       "         -4.4455e-01,  4.8027e-01,  1.1141e-01,  6.6034e-02,  2.2976e-01,\n",
       "          1.2335e-01, -1.0256e-01, -5.2475e-01, -2.8127e-01, -2.8298e-01,\n",
       "          1.2397e-01, -4.4407e-01,  3.6756e-02,  4.5677e-01,  4.9369e-01,\n",
       "          2.7776e-02,  6.6436e-01,  2.0728e-01, -1.4107e-04,  3.1079e-01,\n",
       "         -5.3122e-01, -4.0927e-01, -3.3914e-01,  1.6568e-01,  7.1118e-01,\n",
       "          4.0531e-01, -1.5646e-01, -3.3515e-01, -8.9684e-03,  1.6828e-01,\n",
       "          7.2571e-01, -6.2333e-01,  4.0431e-01, -2.2809e-03,  4.0912e-01,\n",
       "         -2.9162e-02,  3.4555e-01, -4.5095e-02,  1.0639e-01,  4.0574e-01,\n",
       "         -1.3151e-01, -2.8053e-01,  2.4291e-01, -1.7360e-01,  9.4796e-01,\n",
       "         -3.1903e-01,  3.6569e-01, -1.0283e-01, -1.1339e-02,  1.5605e-01,\n",
       "         -2.8428e-01,  2.6475e-01,  8.9097e-02, -3.8364e-01,  3.2275e-01,\n",
       "         -3.4293e-01,  2.5930e-01, -5.3561e-02, -2.8068e-01, -1.7409e-01,\n",
       "          6.7687e-02,  4.0066e-01,  1.7135e-01,  1.5890e-01,  2.5220e-01,\n",
       "         -1.4758e-01, -1.8194e-01, -4.7267e-02, -2.2395e-01, -2.4611e-01,\n",
       "         -3.3145e-01,  2.0403e-01,  1.0181e-01,  6.5904e-02, -4.6542e-01,\n",
       "         -1.8174e-01,  4.0076e-01,  1.1650e-01,  6.3960e-02, -9.0522e-02,\n",
       "          5.8715e-01,  2.4373e-01,  1.7358e-01,  3.2022e-01,  3.2981e-01,\n",
       "         -1.8825e-01,  4.6400e-01, -5.4325e-01,  3.4433e-01, -1.4234e-01,\n",
       "          2.8560e-01, -5.2025e-01,  5.1435e-01,  4.3121e-01, -7.3138e-02,\n",
       "         -2.7634e-01, -1.8682e-01,  4.4744e-01, -3.0221e-01,  2.3166e-01,\n",
       "         -4.0294e-01,  6.6682e-03, -6.2657e-01,  8.2502e-02, -3.0475e-01,\n",
       "         -1.2048e-01, -3.2838e-02,  3.7783e-01, -1.2354e-01, -5.1974e-02,\n",
       "          1.8062e-01, -2.3854e-01,  5.9058e-01, -6.5438e-02, -1.3567e-01,\n",
       "         -7.4814e-01,  4.8519e-01, -3.5221e-03,  6.3990e-02,  3.1346e-01,\n",
       "          5.0566e-01,  5.3781e-01, -1.8380e-01,  4.3946e-01, -6.9134e-02,\n",
       "         -2.0803e-01, -9.8922e-02, -1.4089e-01, -3.5171e-01, -3.0666e-01,\n",
       "          6.7780e-02, -7.1018e-01,  9.7242e-01,  6.2560e-02, -1.9926e-01,\n",
       "          1.8768e-01, -1.6892e-01, -5.8064e-01,  5.7746e-01,  9.1589e-02,\n",
       "         -1.5447e-01, -5.1210e-01,  4.2299e-01]], grad_fn=<SliceBackward0>)"
      ]
     },
     "execution_count": 4,
     "metadata": {},
     "output_type": "execute_result"
    }
   ],
   "source": [
    "get_passage_embedding_from_source(test_passage)"
   ]
  },
  {
   "cell_type": "code",
   "execution_count": 16,
   "metadata": {},
   "outputs": [
    {
     "name": "stderr",
     "output_type": "stream",
     "text": [
      "The tokenizer class you load from this checkpoint is not the same type as the class this function is called from. It may result in unexpected tokenization. \n",
      "The tokenizer class you load from this checkpoint is 'DPRQuestionEncoderTokenizer'. \n",
      "The class this function is called from is 'DPRContextEncoderTokenizer'.\n"
     ]
    }
   ],
   "source": [
    "test_y = test_passage_encoding()"
   ]
  },
  {
   "cell_type": "code",
   "execution_count": 33,
   "metadata": {},
   "outputs": [
    {
     "data": {
      "text/plain": [
       "torch.Tensor"
      ]
     },
     "execution_count": 33,
     "metadata": {},
     "output_type": "execute_result"
    }
   ],
   "source": [
    "type(test_y)"
   ]
  },
  {
   "cell_type": "code",
   "execution_count": 30,
   "metadata": {},
   "outputs": [
    {
     "data": {
      "text/plain": [
       "tensor([[-0.3305, -0.5552,  0.5714, -0.5512, -0.5668, -0.1285,  0.8487, -0.2048,\n",
       "          0.7291, -0.5411, -0.7498, -0.6651, -0.4083,  0.1175,  0.0721,  0.9723,\n",
       "          0.5629, -0.7849,  0.3385,  1.1212,  1.5044,  1.4968,  1.2595, -1.3583,\n",
       "         -0.4184, -1.8523, -0.1297, -0.6417,  0.6851,  1.2277, -0.5808,  0.0867,\n",
       "         -0.1943, -0.3925, -0.0498,  0.2869,  0.5289,  0.1897, -0.8804, -0.0174,\n",
       "         -0.6025,  0.8758,  0.5837, -0.5072,  0.2960, -0.4323, -0.1153, -0.7718,\n",
       "          0.3938,  0.8190, -1.8458, -2.0164,  0.2391,  0.1442, -0.2318,  0.5177,\n",
       "         -0.3433, -0.8197, -0.8672,  1.3128,  0.5167,  0.4904, -0.7432,  0.8290,\n",
       "          1.3873, -0.8285,  0.3470, -0.0715, -0.6253, -1.1326, -0.0498,  0.4060,\n",
       "         -1.0165, -0.0336, -0.2082, -0.8550, -0.6420,  0.8271, -0.8328,  0.5363,\n",
       "         -0.3401, -1.0566,  0.0377,  0.0340, -0.3640,  0.0858, -0.4931,  0.4870,\n",
       "          0.6979,  1.2391, -0.1718, -0.0192, -0.1439,  0.2411, -0.4914,  0.2170,\n",
       "          0.3045,  0.3282,  0.4937,  0.1469,  0.9015, -0.0377,  1.4035,  0.4245,\n",
       "         -0.1816,  0.0051,  0.1303, -0.8142,  0.8456, -0.6621, -0.4600,  0.2101,\n",
       "          0.2947,  0.5700,  0.0869,  0.6363,  0.4489,  0.6718,  1.3026,  0.8155,\n",
       "         -0.4767, -0.4327,  0.2548, -0.7802,  1.1940,  0.1403,  0.1417, -0.4576]],\n",
       "       grad_fn=<AddmmBackward0>)"
      ]
     },
     "execution_count": 30,
     "metadata": {},
     "output_type": "execute_result"
    }
   ],
   "source": [
    "test_y"
   ]
  },
  {
   "cell_type": "code",
   "execution_count": 23,
   "metadata": {},
   "outputs": [
    {
     "data": {
      "text/plain": [
       "128"
      ]
     },
     "execution_count": 23,
     "metadata": {},
     "output_type": "execute_result"
    }
   ],
   "source": [
    "len(test_y.detach().numpy()[0])"
   ]
  },
  {
   "cell_type": "code",
   "execution_count": null,
   "metadata": {},
   "outputs": [],
   "source": []
  },
  {
   "cell_type": "code",
   "execution_count": null,
   "metadata": {},
   "outputs": [],
   "source": []
  },
  {
   "cell_type": "code",
   "execution_count": null,
   "metadata": {},
   "outputs": [],
   "source": [
    "from pathlib import Path\n",
    "\n",
    "input_dir = \"/askem/data/debug_data\"\n",
    "files = Path(input_dir).glob(\"**/*.txt\")\n"
   ]
  },
  {
   "cell_type": "code",
   "execution_count": 6,
   "metadata": {},
   "outputs": [],
   "source": [
    "import weaviate\n",
    "\n",
    "client = weaviate.Client(\n",
    "    \"http://localhost:8080\",\n",
    "    auth_client_secret=weaviate.auth.AuthApiKey(\"XVMvxrzHqPu85GD2qClHn0by2cSon0kt\"),\n",
    ")\n"
   ]
  },
  {
   "cell_type": "code",
   "execution_count": 7,
   "metadata": {},
   "outputs": [
    {
     "ename": "AttributeError",
     "evalue": "'Client' object has no attribute 'vectorizer'",
     "output_type": "error",
     "traceback": [
      "\u001b[0;31m---------------------------------------------------------------------------\u001b[0m",
      "\u001b[0;31mAttributeError\u001b[0m                            Traceback (most recent call last)",
      "\u001b[1;32m/askem/working.ipynb Cell 6\u001b[0m in \u001b[0;36m<cell line: 1>\u001b[0;34m()\u001b[0m\n\u001b[0;32m----> <a href='vscode-notebook-cell://dev-container%2B7b22686f737450617468223a22633a5c5c55736572735c5c636c6f33365c5c7265706f5c5c61736b656d222c22636f6e66696746696c65223a7b22246d6964223a312c22667350617468223a22633a5c5c55736572735c5c636c6f33365c5c7265706f5c5c61736b656d5c5c2e646576636f6e7461696e65725c5c646576636f6e7461696e65722e6a736f6e222c225f736570223a312c2265787465726e616c223a2266696c653a2f2f2f632533412f55736572732f636c6f33362f7265706f2f61736b656d2f2e646576636f6e7461696e65722f646576636f6e7461696e65722e6a736f6e222c2270617468223a222f633a2f55736572732f636c6f33362f7265706f2f61736b656d2f2e646576636f6e7461696e65722f646576636f6e7461696e65722e6a736f6e222c22736368656d65223a2266696c65227d7d/askem/working.ipynb#Y156sdnNjb2RlLXJlbW90ZQ%3D%3D?line=0'>1</a>\u001b[0m client\u001b[39m.\u001b[39;49mvectorizer\u001b[39m.\u001b[39mcreate(\u001b[39m\"\u001b[39m\u001b[39mWhere an aircraft passes through a cloud, it can disperse the cloud in its path.\u001b[39m\u001b[39m\"\u001b[39m)\n",
      "\u001b[0;31mAttributeError\u001b[0m: 'Client' object has no attribute 'vectorizer'"
     ]
    }
   ],
   "source": [
    "client.vectorizer.create(\"\")"
   ]
  },
  {
   "cell_type": "code",
   "execution_count": null,
   "metadata": {},
   "outputs": [],
   "source": [
    "client.get_meta()\n"
   ]
  },
  {
   "attachments": {},
   "cell_type": "markdown",
   "metadata": {},
   "source": [
    "### Preprocessing"
   ]
  },
  {
   "cell_type": "code",
   "execution_count": null,
   "metadata": {},
   "outputs": [],
   "source": [
    "from haystack import Pipeline\n",
    "from haystack.nodes import PreProcessor, TextConverter\n",
    "\n",
    "text_converter = TextConverter()\n",
    "preprocessor = PreProcessor(\n",
    "    clean_whitespace=True,\n",
    "    clean_header_footer=True,\n",
    "    clean_empty_lines=True,\n",
    "    split_by=\"word\",\n",
    "    split_length=200,\n",
    "    split_respect_sentence_boundary=False,\n",
    "    split_overlap=5,\n",
    ")\n",
    "\n",
    "pipeline = Pipeline()\n",
    "pipeline.add_node(text_converter, name=\"text_converter\", inputs=[\"File\"])\n",
    "pipeline.add_node(preprocessor, name=\"preprocessor\", inputs=[\"text_converter\"])\n"
   ]
  },
  {
   "attachments": {},
   "cell_type": "markdown",
   "metadata": {},
   "source": [
    "#### Run preprocessing"
   ]
  },
  {
   "cell_type": "code",
   "execution_count": null,
   "metadata": {},
   "outputs": [],
   "source": [
    "input_dir = \"/askem/data/debug_data\"\n",
    "files = Path(input_dir).glob(\"**/*.txt\")\n",
    "docs = pipeline.run(file_paths=[str(file) for file in files])"
   ]
  },
  {
   "attachments": {},
   "cell_type": "markdown",
   "metadata": {},
   "source": [
    "### Upload data to weaviate"
   ]
  },
  {
   "cell_type": "code",
   "execution_count": 24,
   "metadata": {},
   "outputs": [],
   "source": [
    "client.schema.delete_all()"
   ]
  },
  {
   "cell_type": "code",
   "execution_count": 25,
   "metadata": {},
   "outputs": [],
   "source": [
    "import json\n",
    "\n",
    "# Create passage schema\n",
    "passage_schema = {\n",
    "    \"class\": \"Passage\",\n",
    "    \"description\": \"Paragraph chunk of a document\",\n",
    "    \"vectorizer\": \"text2vec-transformers\",\n",
    "    \"moduleConfig\": {\n",
    "        \"text2vec-transformers\": {\"vectorizeClassName\": False}\n",
    "    },\n",
    "    \"vectorIndexConfig\": {\n",
    "        \"distance\": \"dot\"\n",
    "    },  # DPR is designed for dot-product similarity\n",
    "    \"properties\": [\n",
    "        {\"name\": \"content\", \"dataType\": [\"text\"]},\n",
    "        {\"name\": \"paper_id\", \"dataType\": [\"text\"], \"moduleConfig\": {\"text2vec-transformers\": {\"skip\": True}}},\n",
    "    ],\n",
    "}\n",
    "\n",
    "# Create class in Weaviate\n",
    "client.schema.create_class(passage_schema)\n",
    "\n",
    "# Dump full schema to file\n",
    "with open(\"askem/schema/passage.json\", \"w\") as f:\n",
    "    json.dump(client.schema.get(\"passage\"), f, indent=2)"
   ]
  },
  {
   "attachments": {},
   "cell_type": "markdown",
   "metadata": {},
   "source": [
    "## Load data into Weaviate"
   ]
  },
  {
   "cell_type": "code",
   "execution_count": 26,
   "metadata": {},
   "outputs": [],
   "source": [
    "data_obj = {\n",
    "    \"content\": \"Where an aircraft passes through a cloud, it can disperse the cloud in its path.\",\n",
    "    \"paper_id\": \"Title of the document\",\n",
    "}\n",
    "\n",
    "with client.batch as batch:\n",
    "    batch.batch_size = 1\n",
    "    batch.dynamic = True\n",
    "    batch.add_data_object(data_object=data_obj, class_name=\"passage\")"
   ]
  },
  {
   "cell_type": "code",
   "execution_count": 27,
   "metadata": {},
   "outputs": [
    {
     "data": {
      "text/plain": [
       "{'data': {'Aggregate': {'Passage': [{'meta': {'count': 1}}]}}}"
      ]
     },
     "execution_count": 27,
     "metadata": {},
     "output_type": "execute_result"
    }
   ],
   "source": [
    "client.query.aggregate(\"passage\").with_meta_count().do()"
   ]
  },
  {
   "cell_type": "code",
   "execution_count": 28,
   "metadata": {},
   "outputs": [],
   "source": [
    "y = (\n",
    "    client.query.get(\"passage\", [\"content\"])\n",
    "    .with_near_text({\"concepts\": [\"animal\"]})\n",
    "    .with_additional([\"vector\", \"distance\", \"id\"])\n",
    "    .do()\n",
    ")"
   ]
  },
  {
   "cell_type": "code",
   "execution_count": 32,
   "metadata": {},
   "outputs": [
    {
     "data": {
      "text/plain": [
       "{'data': {'Get': {'Passage': [{'_additional': {'distance': -0.87897265,\n",
       "      'id': 'bd2e916d-1e72-4282-89a3-3c28f8d35778',\n",
       "      'vector': [-0.330512,\n",
       "       -0.5551501,\n",
       "       0.5713861,\n",
       "       -0.55120754,\n",
       "       -0.56681365,\n",
       "       -0.1284562,\n",
       "       0.84872055,\n",
       "       -0.20482332,\n",
       "       0.72912794,\n",
       "       -0.5411461,\n",
       "       -0.74979305,\n",
       "       -0.6650699,\n",
       "       -0.40830395,\n",
       "       0.11752158,\n",
       "       0.07209335,\n",
       "       0.9723168,\n",
       "       0.5628617,\n",
       "       -0.7848689,\n",
       "       0.33852035,\n",
       "       1.121164,\n",
       "       1.5043601,\n",
       "       1.4968308,\n",
       "       1.2595344,\n",
       "       -1.3583002,\n",
       "       -0.41837773,\n",
       "       -1.8523325,\n",
       "       -0.12974942,\n",
       "       -0.6417205,\n",
       "       0.6850843,\n",
       "       1.2277026,\n",
       "       -0.5807784,\n",
       "       0.08673872,\n",
       "       -0.19425073,\n",
       "       -0.39245838,\n",
       "       -0.049770813,\n",
       "       0.28685445,\n",
       "       0.52892125,\n",
       "       0.18966648,\n",
       "       -0.8804232,\n",
       "       -0.017353758,\n",
       "       -0.6024761,\n",
       "       0.8758074,\n",
       "       0.583739,\n",
       "       -0.50723875,\n",
       "       0.2959907,\n",
       "       -0.43232155,\n",
       "       -0.11532179,\n",
       "       -0.7717927,\n",
       "       0.3938331,\n",
       "       0.8190408,\n",
       "       -1.8458298,\n",
       "       -2.0163636,\n",
       "       0.23912483,\n",
       "       0.14419168,\n",
       "       -0.23182032,\n",
       "       0.517716,\n",
       "       -0.34327868,\n",
       "       -0.81965077,\n",
       "       -0.8671793,\n",
       "       1.3128422,\n",
       "       0.5167078,\n",
       "       0.4903874,\n",
       "       -0.74322,\n",
       "       0.8290077,\n",
       "       1.3873112,\n",
       "       -0.8285413,\n",
       "       0.34699,\n",
       "       -0.07148689,\n",
       "       -0.6252933,\n",
       "       -1.132572,\n",
       "       -0.049804218,\n",
       "       0.40603107,\n",
       "       -1.0164919,\n",
       "       -0.033631325,\n",
       "       -0.2082411,\n",
       "       -0.85502726,\n",
       "       -0.6419836,\n",
       "       0.82712674,\n",
       "       -0.8327884,\n",
       "       0.5362893,\n",
       "       -0.3401258,\n",
       "       -1.0565778,\n",
       "       0.037683155,\n",
       "       0.034009874,\n",
       "       -0.36402312,\n",
       "       0.0857902,\n",
       "       -0.49307516,\n",
       "       0.48701346,\n",
       "       0.6978523,\n",
       "       1.2391354,\n",
       "       -0.17176618,\n",
       "       -0.019168131,\n",
       "       -0.14388089,\n",
       "       0.24112506,\n",
       "       -0.49139658,\n",
       "       0.21697389,\n",
       "       0.30446813,\n",
       "       0.32815093,\n",
       "       0.49373725,\n",
       "       0.14686653,\n",
       "       0.9014628,\n",
       "       -0.03771899,\n",
       "       1.4034765,\n",
       "       0.42447916,\n",
       "       -0.18163255,\n",
       "       0.00510891,\n",
       "       0.13030106,\n",
       "       -0.8141857,\n",
       "       0.8455975,\n",
       "       -0.66205233,\n",
       "       -0.4599589,\n",
       "       0.21011,\n",
       "       0.29466128,\n",
       "       0.5699593,\n",
       "       0.08687727,\n",
       "       0.63634217,\n",
       "       0.44893914,\n",
       "       0.67180043,\n",
       "       1.302609,\n",
       "       0.81548035,\n",
       "       -0.47670308,\n",
       "       -0.4327223,\n",
       "       0.2548463,\n",
       "       -0.7802312,\n",
       "       1.194003,\n",
       "       0.14032708,\n",
       "       0.14166059,\n",
       "       -0.45759642]},\n",
       "     'content': 'Where an aircraft passes through a cloud, it can disperse the cloud in its path.'}]}}}"
      ]
     },
     "execution_count": 32,
     "metadata": {},
     "output_type": "execute_result"
    }
   ],
   "source": [
    "y"
   ]
  },
  {
   "cell_type": "code",
   "execution_count": 15,
   "metadata": {},
   "outputs": [
    {
     "data": {
      "text/plain": [
       "128"
      ]
     },
     "execution_count": 15,
     "metadata": {},
     "output_type": "execute_result"
    }
   ],
   "source": [
    "len(y[\"data\"][\"Get\"][\"Passage\"][0][\"_additional\"][\"vector\"])"
   ]
  },
  {
   "cell_type": "code",
   "execution_count": null,
   "metadata": {},
   "outputs": [],
   "source": []
  },
  {
   "cell_type": "code",
   "execution_count": null,
   "metadata": {},
   "outputs": [],
   "source": []
  },
  {
   "cell_type": "code",
   "execution_count": null,
   "metadata": {},
   "outputs": [],
   "source": []
  },
  {
   "cell_type": "code",
   "execution_count": null,
   "metadata": {},
   "outputs": [],
   "source": []
  },
  {
   "cell_type": "code",
   "execution_count": null,
   "metadata": {},
   "outputs": [],
   "source": []
  },
  {
   "cell_type": "code",
   "execution_count": null,
   "metadata": {},
   "outputs": [],
   "source": [
    "text = \"I am not sure about this.\"\n",
    "\n",
    "with client.batch as batch:\n",
    "    batch.batch_size = 50\n",
    "    batch.dynamic = True\n",
    "\n",
    "    batch.add_data_object({\"passage\": text}, class_name=\"passage\")\n"
   ]
  },
  {
   "cell_type": "code",
   "execution_count": null,
   "metadata": {},
   "outputs": [],
   "source": [
    "client.query.get(\"passage\", [\"passage\", \"vector\"]).do()\n"
   ]
  },
  {
   "cell_type": "code",
   "execution_count": null,
   "metadata": {},
   "outputs": [],
   "source": [
    "client.schema.delete_all()"
   ]
  },
  {
   "cell_type": "code",
   "execution_count": null,
   "metadata": {},
   "outputs": [],
   "source": [
    "client.schema.get(\"passage\")\n"
   ]
  },
  {
   "cell_type": "code",
   "execution_count": null,
   "metadata": {},
   "outputs": [],
   "source": []
  },
  {
   "cell_type": "code",
   "execution_count": null,
   "metadata": {},
   "outputs": [],
   "source": []
  },
  {
   "cell_type": "code",
   "execution_count": null,
   "metadata": {},
   "outputs": [],
   "source": []
  },
  {
   "cell_type": "code",
   "execution_count": null,
   "metadata": {},
   "outputs": [],
   "source": [
    "client.query.aggregate(\"Passage\").with_meta_count().do()\n"
   ]
  },
  {
   "cell_type": "code",
   "execution_count": null,
   "metadata": {},
   "outputs": [],
   "source": [
    "client.schema.get()[\"classes\"]\n"
   ]
  },
  {
   "cell_type": "code",
   "execution_count": null,
   "metadata": {},
   "outputs": [],
   "source": [
    "client.get_meta()[\"modules\"][\"text2vec-transformers\"].keys()"
   ]
  },
  {
   "cell_type": "code",
   "execution_count": null,
   "metadata": {},
   "outputs": [],
   "source": []
  }
 ],
 "metadata": {
  "kernelspec": {
   "display_name": "base",
   "language": "python",
   "name": "python3"
  },
  "language_info": {
   "codemirror_mode": {
    "name": "ipython",
    "version": 3
   },
   "file_extension": ".py",
   "mimetype": "text/x-python",
   "name": "python",
   "nbconvert_exporter": "python",
   "pygments_lexer": "ipython3",
   "version": "3.8.13"
  },
  "orig_nbformat": 4,
  "vscode": {
   "interpreter": {
    "hash": "d4d1e4263499bec80672ea0156c357c1ee493ec2b1c70f0acce89fc37c4a6abe"
   }
  }
 },
 "nbformat": 4,
 "nbformat_minor": 2
}
