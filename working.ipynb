{
 "cells": [
  {
   "cell_type": "code",
   "execution_count": null,
   "metadata": {},
   "outputs": [],
   "source": [
    "import os\n",
    "from dotenv import load_dotenv\n",
    "import weaviate\n",
    "\n",
    "load_dotenv()\n",
    "\n",
    "weaviate_apikey = os.getenv(\"WEAVIATE_APIKEY\")\n",
    "client = weaviate.Client(\n",
    "    \"http://localhost:8080\",\n",
    "    auth_client_secret=weaviate.auth.AuthApiKey(weaviate_apikey),\n",
    ")\n",
    "client.query.aggregate(\"passage\").with_meta_count().do()\n"
   ]
  },
  {
   "cell_type": "code",
   "execution_count": null,
   "metadata": {},
   "outputs": [],
   "source": [
    "question = {\"concepts\": [\"What is Antibacterial Activity?\"]}\n",
    "\n",
    "result = (\n",
    "    client.query.get(\"Passage\", [\"text_content\"])\n",
    "    .with_near_text(question)\n",
    "    .with_limit(10)\n",
    "    .with_additional([\"vector\", \"distance\", \"id\"])\n",
    "    .do()\n",
    ")\n"
   ]
  },
  {
   "cell_type": "code",
   "execution_count": null,
   "metadata": {},
   "outputs": [],
   "source": [
    "for x in result[\"data\"][\"Get\"][\"Passage\"]:\n",
    "    print(x[\"text_content\"], \"\\n\", \"-\" * 180)"
   ]
  },
  {
   "cell_type": "code",
   "execution_count": null,
   "metadata": {},
   "outputs": [],
   "source": [
    "result[\"data\"][\"Get\"][\"Passage\"][0][\"_additional\"][\"vector\"]\n"
   ]
  }
 ],
 "metadata": {
  "kernelspec": {
   "display_name": "base",
   "language": "python",
   "name": "python3"
  },
  "language_info": {
   "codemirror_mode": {
    "name": "ipython",
    "version": 3
   },
   "file_extension": ".py",
   "mimetype": "text/x-python",
   "name": "python",
   "nbconvert_exporter": "python",
   "pygments_lexer": "ipython3",
   "version": "3.8.13"
  },
  "orig_nbformat": 4,
  "vscode": {
   "interpreter": {
    "hash": "d4d1e4263499bec80672ea0156c357c1ee493ec2b1c70f0acce89fc37c4a6abe"
   }
  }
 },
 "nbformat": 4,
 "nbformat_minor": 2
}
