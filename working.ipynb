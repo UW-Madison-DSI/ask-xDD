{
 "cells": [
  {
   "attachments": {},
   "cell_type": "markdown",
   "metadata": {},
   "source": [
    "# Working on these\n",
    "\n",
    "- [ ] Benchmark from OpenAI x COVID-19-deepset with BERTScore\n",
    "- [ ] Benchmark from petal.org\n",
    "- [ ] Evaluate extractive and abstracting summary\n",
    "- [ ] Mis-information safety mechanism\n",
    "- [ ] Traceability (paragraphs)\n",
    "- [ ] Traceability (words)"
   ]
  },
  {
   "attachments": {},
   "cell_type": "markdown",
   "metadata": {},
   "source": [
    "## Test set creation\n",
    "\n",
    "- From `covid_qa_deepset`\n",
    "- 8-2 split, rng = 2023, test n = 404"
   ]
  },
  {
   "cell_type": "code",
   "execution_count": null,
   "metadata": {},
   "outputs": [],
   "source": [
    "from askem.data import COVID_QA\n",
    "from askem.openai import get_answer, count_token, split_context\n",
    "\n",
    "test_data = COVID_QA.train_test_split(test_size=0.2, seed=2023)[\"test\"]\n",
    "test_data"
   ]
  },
  {
   "attachments": {},
   "cell_type": "markdown",
   "metadata": {},
   "source": [
    "## OpenAI"
   ]
  },
  {
   "cell_type": "code",
   "execution_count": null,
   "metadata": {},
   "outputs": [],
   "source": [
    "from peewee import *\n",
    "from tqdm.notebook import tqdm\n",
    "\n",
    "db = SqliteDatabase(\"my_database.db\")\n",
    "\n",
    "\n",
    "class GPTBench(Model):\n",
    "    id = IntegerField(primary_key=True)\n",
    "    context = TextField()\n",
    "    question = TextField()\n",
    "    true_answer = TextField()\n",
    "    gpt_answer = TextField()\n",
    "\n",
    "    class Meta:\n",
    "        database = db\n",
    "\n",
    "\n",
    "# Connect to the database and create the table\n",
    "db.connect()\n",
    "db.create_tables([GPTBench])"
   ]
  },
  {
   "cell_type": "code",
   "execution_count": null,
   "metadata": {},
   "outputs": [],
   "source": [
    "for id, context, question, true_answer in tqdm(\n",
    "    zip(\n",
    "        test_data[\"id\"],\n",
    "        test_data[\"context\"],\n",
    "        test_data[\"question\"],\n",
    "        test_data[\"answers\"],\n",
    "    )\n",
    "):\n",
    "    gpt_answer = get_answer(context, question)\n",
    "    GPTBench.insert(\n",
    "        id=id,\n",
    "        context=context,\n",
    "        question=question,\n",
    "        true_answer=true_answer,\n",
    "        gpt_answer=gpt_answer,\n",
    "    ).on_conflict_ignore().execute()"
   ]
  }
 ],
 "metadata": {
  "kernelspec": {
   "display_name": "base",
   "language": "python",
   "name": "python3"
  },
  "language_info": {
   "codemirror_mode": {
    "name": "ipython",
    "version": 3
   },
   "file_extension": ".py",
   "mimetype": "text/x-python",
   "name": "python",
   "nbconvert_exporter": "python",
   "pygments_lexer": "ipython3",
   "version": "3.8.13"
  },
  "orig_nbformat": 4,
  "vscode": {
   "interpreter": {
    "hash": "d4d1e4263499bec80672ea0156c357c1ee493ec2b1c70f0acce89fc37c4a6abe"
   }
  }
 },
 "nbformat": 4,
 "nbformat_minor": 2
}
