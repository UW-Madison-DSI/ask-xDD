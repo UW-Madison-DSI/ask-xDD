{
 "cells": [
  {
   "cell_type": "code",
   "execution_count": null,
   "metadata": {},
   "outputs": [],
   "source": [
    "import pickle\n",
    "\n",
    "with open(\"tmp/id2topics_240205.pkl\", \"rb\") as f:\n",
    "    id2topics = pickle.load(f)"
   ]
  },
  {
   "cell_type": "code",
   "execution_count": null,
   "metadata": {},
   "outputs": [],
   "source": [
    "# selected = {k: v for k, v in id2topics.items() if \"geoarchive\" in v}\n",
    "selected = {k: v for k, v in id2topics.items() if \"criticalmaas\" in v}\n",
    "len(cm)"
   ]
  },
  {
   "cell_type": "code",
   "execution_count": null,
   "metadata": {},
   "outputs": [],
   "source": [
    "with open(\"tmp/id2topics.pkl\", \"wb\") as f:\n",
    "    pickle.dump(selected, f)"
   ]
  },
  {
   "cell_type": "code",
   "execution_count": null,
   "metadata": {},
   "outputs": [],
   "source": [
    "from askem.elastic import get_text"
   ]
  },
  {
   "cell_type": "code",
   "execution_count": null,
   "metadata": {},
   "outputs": [],
   "source": [
    "with open(\"tmp/ingested.pkl\", \"rb\") as f:\n",
    "    ingested = pickle.load(f)"
   ]
  },
  {
   "cell_type": "code",
   "execution_count": null,
   "metadata": {},
   "outputs": [],
   "source": [
    "ingesting = {k: v for k, v in cm.items() if k not in ingested}"
   ]
  },
  {
   "cell_type": "code",
   "execution_count": null,
   "metadata": {},
   "outputs": [],
   "source": [
    "ingesting"
   ]
  },
  {
   "cell_type": "code",
   "execution_count": null,
   "metadata": {},
   "outputs": [],
   "source": [
    "ingesting = {k: get_text(k) for k in cm.keys() if k not in ingested}"
   ]
  },
  {
   "cell_type": "code",
   "execution_count": null,
   "metadata": {},
   "outputs": [],
   "source": [
    "y = get_text(\"620f2eb6ad0e9c819b108ea9\")\n",
    "y"
   ]
  },
  {
   "cell_type": "markdown",
   "metadata": {},
   "source": [
    "Compare ingested status"
   ]
  },
  {
   "cell_type": "code",
   "execution_count": null,
   "metadata": {},
   "outputs": [],
   "source": [
    "from askem.utils import get_id_topics_from_weaviate\n",
    "import weaviate\n",
    "from dotenv import load_dotenv\n",
    "import os\n",
    "import logging\n",
    "\n",
    "load_dotenv()\n",
    "\n",
    "\n",
    "def get_client(url: str = None, apikey: str = None) -> weaviate.Client:\n",
    "    \"\"\"Get a weaviate client.\"\"\"\n",
    "\n",
    "    if url is None:\n",
    "        url = os.getenv(\"WEAVIATE_URL\")\n",
    "\n",
    "    if apikey is None:\n",
    "        apikey = os.getenv(\"WEAVIATE_APIKEY\")\n",
    "\n",
    "    logging.info(f\"Connecting to Weaviate at {url}\")\n",
    "    return weaviate.Client(url, weaviate.auth.AuthApiKey(apikey))\n",
    "\n",
    "\n",
    "client = get_client()\n",
    "in_weaviate = get_id_topics_from_weaviate(client)"
   ]
  },
  {
   "cell_type": "code",
   "execution_count": null,
   "metadata": {},
   "outputs": [],
   "source": [
    "import pickle\n",
    "\n",
    "with open(\"tmp/id2topics_240205.pkl\", \"rb\") as f:\n",
    "    in_elastic = pickle.load(f)\n",
    "\n",
    "with open(\"tmp/id2topics_weaviate.pkl\", \"rb\") as f:\n",
    "    in_weaviate = pickle.load(f)"
   ]
  },
  {
   "cell_type": "code",
   "execution_count": null,
   "metadata": {},
   "outputs": [],
   "source": [
    "# Venn sets\n",
    "all_ids = set(in_elastic.keys()) | set(in_weaviate.keys())\n",
    "\n",
    "not_in_weaviate = all_ids - set(in_weaviate.keys())\n",
    "intersection_set = set(in_elastic.keys()) & set(in_weaviate.keys())\n",
    "not_in_elastic = all_ids - set(in_elastic.keys())\n",
    "\n",
    "print(\n",
    "    f\"intersection: {len(intersection_set)}, not_in_weaviate: {len(not_in_weaviate)}, not_in_elastic: {len(not_in_elastic)}\"\n",
    ")"
   ]
  },
  {
   "cell_type": "markdown",
   "metadata": {},
   "source": [
    "Check if all topics align"
   ]
  },
  {
   "cell_type": "code",
   "execution_count": null,
   "metadata": {},
   "outputs": [],
   "source": [
    "from random import choice\n",
    "from askem.elastic import get_text"
   ]
  },
  {
   "cell_type": "code",
   "execution_count": null,
   "metadata": {},
   "outputs": [],
   "source": [
    "for x in intersection_set:\n",
    "    assert in_elastic[x] == in_weaviate[x]"
   ]
  },
  {
   "cell_type": "code",
   "execution_count": null,
   "metadata": {},
   "outputs": [],
   "source": [
    "x = choice(list(not_in_weaviate))\n",
    "get_text(x)"
   ]
  },
  {
   "cell_type": "markdown",
   "metadata": {},
   "source": [
    "Parse error.log to get empty ids"
   ]
  },
  {
   "cell_type": "code",
   "execution_count": null,
   "metadata": {},
   "outputs": [],
   "source": [
    "import pickle\n",
    "from askem.ingest_v2 import parse_error_log\n",
    "\n",
    "# Load empty ids from file\n",
    "with open(\"tmp/empty_ids.pkl\", \"rb\") as f:\n",
    "    empty_ids = pickle.load(f)\n",
    "\n",
    "print(len(empty_ids))"
   ]
  },
  {
   "cell_type": "code",
   "execution_count": null,
   "metadata": {},
   "outputs": [],
   "source": [
    "# Add new empty ids from error log\n",
    "parsed = parse_error_log()\n",
    "\n",
    "for k, v in parsed.items():\n",
    "    print(f\"{k}: {len(v)}\")\n",
    "\n",
    "empty_ids.extend(parsed[\"empty\"])\n",
    "empty_ids = list(set(empty_ids))\n",
    "print(len(empty_ids))"
   ]
  },
  {
   "cell_type": "code",
   "execution_count": null,
   "metadata": {},
   "outputs": [],
   "source": [
    "# Write to file\n",
    "with open(\"tmp/empty_ids.pkl\", \"wb\") as f:\n",
    "    pickle.dump(empty_ids, f)"
   ]
  }
 ],
 "metadata": {
  "accelerator": "GPU",
  "colab": {
   "gpuType": "T4",
   "provenance": []
  },
  "gpuClass": "standard",
  "kernelspec": {
   "display_name": "base",
   "language": "python",
   "name": "python3"
  },
  "language_info": {
   "codemirror_mode": {
    "name": "ipython",
    "version": 3
   },
   "file_extension": ".py",
   "mimetype": "text/x-python",
   "name": "python",
   "nbconvert_exporter": "python",
   "pygments_lexer": "ipython3",
   "version": "3.10.0"
  },
  "vscode": {
   "interpreter": {
    "hash": "d4d1e4263499bec80672ea0156c357c1ee493ec2b1c70f0acce89fc37c4a6abe"
   }
  }
 },
 "nbformat": 4,
 "nbformat_minor": 0
}
