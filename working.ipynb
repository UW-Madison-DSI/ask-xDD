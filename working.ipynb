{
 "cells": [
  {
   "cell_type": "code",
   "execution_count": 4,
   "metadata": {},
   "outputs": [],
   "source": [
    "from transformers import DPRContextEncoder, DPRContextEncoderTokenizer\n",
    "\n",
    "\n",
    "def test_passage_encoding():\n",
    "    model_name = \"vblagoje/dpr-ctx_encoder-single-lfqa-wiki\"\n",
    "    test_text = \"Where an aircraft passes through a cloud, it can disperse the cloud in its path.\"\n",
    "\n",
    "    tokenizer = DPRContextEncoderTokenizer.from_pretrained(model_name)\n",
    "    model = DPRContextEncoder.from_pretrained(model_name)\n",
    "\n",
    "    input_ids = tokenizer(test_text, return_tensors=\"pt\")[\"input_ids\"]\n",
    "    embeddings = model(input_ids).pooler_output\n",
    "\n",
    "    return embeddings"
   ]
  },
  {
   "cell_type": "code",
   "execution_count": 16,
   "metadata": {},
   "outputs": [
    {
     "name": "stderr",
     "output_type": "stream",
     "text": [
      "The tokenizer class you load from this checkpoint is not the same type as the class this function is called from. It may result in unexpected tokenization. \n",
      "The tokenizer class you load from this checkpoint is 'DPRQuestionEncoderTokenizer'. \n",
      "The class this function is called from is 'DPRContextEncoderTokenizer'.\n"
     ]
    }
   ],
   "source": [
    "test_y = test_passage_encoding()"
   ]
  },
  {
   "cell_type": "code",
   "execution_count": 33,
   "metadata": {},
   "outputs": [
    {
     "data": {
      "text/plain": [
       "torch.Tensor"
      ]
     },
     "execution_count": 33,
     "metadata": {},
     "output_type": "execute_result"
    }
   ],
   "source": [
    "type(test_y)"
   ]
  },
  {
   "cell_type": "code",
   "execution_count": 30,
   "metadata": {},
   "outputs": [
    {
     "data": {
      "text/plain": [
       "tensor([[-0.3305, -0.5552,  0.5714, -0.5512, -0.5668, -0.1285,  0.8487, -0.2048,\n",
       "          0.7291, -0.5411, -0.7498, -0.6651, -0.4083,  0.1175,  0.0721,  0.9723,\n",
       "          0.5629, -0.7849,  0.3385,  1.1212,  1.5044,  1.4968,  1.2595, -1.3583,\n",
       "         -0.4184, -1.8523, -0.1297, -0.6417,  0.6851,  1.2277, -0.5808,  0.0867,\n",
       "         -0.1943, -0.3925, -0.0498,  0.2869,  0.5289,  0.1897, -0.8804, -0.0174,\n",
       "         -0.6025,  0.8758,  0.5837, -0.5072,  0.2960, -0.4323, -0.1153, -0.7718,\n",
       "          0.3938,  0.8190, -1.8458, -2.0164,  0.2391,  0.1442, -0.2318,  0.5177,\n",
       "         -0.3433, -0.8197, -0.8672,  1.3128,  0.5167,  0.4904, -0.7432,  0.8290,\n",
       "          1.3873, -0.8285,  0.3470, -0.0715, -0.6253, -1.1326, -0.0498,  0.4060,\n",
       "         -1.0165, -0.0336, -0.2082, -0.8550, -0.6420,  0.8271, -0.8328,  0.5363,\n",
       "         -0.3401, -1.0566,  0.0377,  0.0340, -0.3640,  0.0858, -0.4931,  0.4870,\n",
       "          0.6979,  1.2391, -0.1718, -0.0192, -0.1439,  0.2411, -0.4914,  0.2170,\n",
       "          0.3045,  0.3282,  0.4937,  0.1469,  0.9015, -0.0377,  1.4035,  0.4245,\n",
       "         -0.1816,  0.0051,  0.1303, -0.8142,  0.8456, -0.6621, -0.4600,  0.2101,\n",
       "          0.2947,  0.5700,  0.0869,  0.6363,  0.4489,  0.6718,  1.3026,  0.8155,\n",
       "         -0.4767, -0.4327,  0.2548, -0.7802,  1.1940,  0.1403,  0.1417, -0.4576]],\n",
       "       grad_fn=<AddmmBackward0>)"
      ]
     },
     "execution_count": 30,
     "metadata": {},
     "output_type": "execute_result"
    }
   ],
   "source": [
    "test_y"
   ]
  },
  {
   "cell_type": "code",
   "execution_count": 23,
   "metadata": {},
   "outputs": [
    {
     "data": {
      "text/plain": [
       "128"
      ]
     },
     "execution_count": 23,
     "metadata": {},
     "output_type": "execute_result"
    }
   ],
   "source": [
    "len(test_y.detach().numpy()[0])"
   ]
  },
  {
   "cell_type": "code",
   "execution_count": null,
   "metadata": {},
   "outputs": [],
   "source": []
  },
  {
   "cell_type": "code",
   "execution_count": null,
   "metadata": {},
   "outputs": [],
   "source": []
  },
  {
   "cell_type": "code",
   "execution_count": null,
   "metadata": {},
   "outputs": [],
   "source": [
    "from pathlib import Path\n",
    "\n",
    "input_dir = \"/askem/data/debug_data\"\n",
    "files = Path(input_dir).glob(\"**/*.txt\")\n"
   ]
  },
  {
   "cell_type": "code",
   "execution_count": 6,
   "metadata": {},
   "outputs": [],
   "source": [
    "import weaviate\n",
    "\n",
    "client = weaviate.Client(\n",
    "    \"http://localhost:8080\",\n",
    "    auth_client_secret=weaviate.auth.AuthApiKey(\"XVMvxrzHqPu85GD2qClHn0by2cSon0kt\"),\n",
    ")\n"
   ]
  },
  {
   "cell_type": "code",
   "execution_count": 7,
   "metadata": {},
   "outputs": [
    {
     "ename": "AttributeError",
     "evalue": "'Client' object has no attribute 'vectorizer'",
     "output_type": "error",
     "traceback": [
      "\u001b[0;31m---------------------------------------------------------------------------\u001b[0m",
      "\u001b[0;31mAttributeError\u001b[0m                            Traceback (most recent call last)",
      "\u001b[1;32m/askem/working.ipynb Cell 6\u001b[0m in \u001b[0;36m<cell line: 1>\u001b[0;34m()\u001b[0m\n\u001b[0;32m----> <a href='vscode-notebook-cell://dev-container%2B7b22686f737450617468223a22633a5c5c55736572735c5c636c6f33365c5c7265706f5c5c61736b656d222c22636f6e66696746696c65223a7b22246d6964223a312c22667350617468223a22633a5c5c55736572735c5c636c6f33365c5c7265706f5c5c61736b656d5c5c2e646576636f6e7461696e65725c5c646576636f6e7461696e65722e6a736f6e222c225f736570223a312c2265787465726e616c223a2266696c653a2f2f2f632533412f55736572732f636c6f33362f7265706f2f61736b656d2f2e646576636f6e7461696e65722f646576636f6e7461696e65722e6a736f6e222c2270617468223a222f633a2f55736572732f636c6f33362f7265706f2f61736b656d2f2e646576636f6e7461696e65722f646576636f6e7461696e65722e6a736f6e222c22736368656d65223a2266696c65227d7d/askem/working.ipynb#Y156sdnNjb2RlLXJlbW90ZQ%3D%3D?line=0'>1</a>\u001b[0m client\u001b[39m.\u001b[39;49mvectorizer\u001b[39m.\u001b[39mcreate(\u001b[39m\"\u001b[39m\u001b[39mWhere an aircraft passes through a cloud, it can disperse the cloud in its path.\u001b[39m\u001b[39m\"\u001b[39m)\n",
      "\u001b[0;31mAttributeError\u001b[0m: 'Client' object has no attribute 'vectorizer'"
     ]
    }
   ],
   "source": [
    "client.vectorizer.create(\"\")"
   ]
  },
  {
   "cell_type": "code",
   "execution_count": null,
   "metadata": {},
   "outputs": [],
   "source": [
    "client.get_meta()\n"
   ]
  },
  {
   "attachments": {},
   "cell_type": "markdown",
   "metadata": {},
   "source": [
    "### Preprocessing"
   ]
  },
  {
   "cell_type": "code",
   "execution_count": null,
   "metadata": {},
   "outputs": [],
   "source": [
    "from haystack import Pipeline\n",
    "from haystack.nodes import PreProcessor, TextConverter\n",
    "\n",
    "text_converter = TextConverter()\n",
    "preprocessor = PreProcessor(\n",
    "    clean_whitespace=True,\n",
    "    clean_header_footer=True,\n",
    "    clean_empty_lines=True,\n",
    "    split_by=\"word\",\n",
    "    split_length=200,\n",
    "    split_respect_sentence_boundary=False,\n",
    "    split_overlap=5,\n",
    ")\n",
    "\n",
    "pipeline = Pipeline()\n",
    "pipeline.add_node(text_converter, name=\"text_converter\", inputs=[\"File\"])\n",
    "pipeline.add_node(preprocessor, name=\"preprocessor\", inputs=[\"text_converter\"])\n"
   ]
  },
  {
   "attachments": {},
   "cell_type": "markdown",
   "metadata": {},
   "source": [
    "#### Run preprocessing"
   ]
  },
  {
   "cell_type": "code",
   "execution_count": null,
   "metadata": {},
   "outputs": [],
   "source": [
    "input_dir = \"/askem/data/debug_data\"\n",
    "files = Path(input_dir).glob(\"**/*.txt\")\n",
    "docs = pipeline.run(file_paths=[str(file) for file in files])"
   ]
  },
  {
   "attachments": {},
   "cell_type": "markdown",
   "metadata": {},
   "source": [
    "### Upload data to weaviate"
   ]
  },
  {
   "cell_type": "code",
   "execution_count": 24,
   "metadata": {},
   "outputs": [],
   "source": [
    "client.schema.delete_all()"
   ]
  },
  {
   "cell_type": "code",
   "execution_count": 25,
   "metadata": {},
   "outputs": [],
   "source": [
    "import json\n",
    "\n",
    "# Create passage schema\n",
    "passage_schema = {\n",
    "    \"class\": \"Passage\",\n",
    "    \"description\": \"Paragraph chunk of a document\",\n",
    "    \"vectorizer\": \"text2vec-transformers\",\n",
    "    \"moduleConfig\": {\n",
    "        \"text2vec-transformers\": {\"vectorizeClassName\": False}\n",
    "    },\n",
    "    \"vectorIndexConfig\": {\n",
    "        \"distance\": \"dot\"\n",
    "    },  # DPR is designed for dot-product similarity\n",
    "    \"properties\": [\n",
    "        {\"name\": \"content\", \"dataType\": [\"text\"]},\n",
    "        {\"name\": \"paper_id\", \"dataType\": [\"text\"], \"moduleConfig\": {\"text2vec-transformers\": {\"skip\": True}}},\n",
    "    ],\n",
    "}\n",
    "\n",
    "# Create class in Weaviate\n",
    "client.schema.create_class(passage_schema)\n",
    "\n",
    "# Dump full schema to file\n",
    "with open(\"askem/schema/passage.json\", \"w\") as f:\n",
    "    json.dump(client.schema.get(\"passage\"), f, indent=2)"
   ]
  },
  {
   "attachments": {},
   "cell_type": "markdown",
   "metadata": {},
   "source": [
    "## Load data into Weaviate"
   ]
  },
  {
   "cell_type": "code",
   "execution_count": 26,
   "metadata": {},
   "outputs": [],
   "source": [
    "data_obj = {\n",
    "    \"content\": \"Where an aircraft passes through a cloud, it can disperse the cloud in its path.\",\n",
    "    \"paper_id\": \"Title of the document\",\n",
    "}\n",
    "\n",
    "with client.batch as batch:\n",
    "    batch.batch_size = 1\n",
    "    batch.dynamic = True\n",
    "    batch.add_data_object(data_object=data_obj, class_name=\"passage\")"
   ]
  },
  {
   "cell_type": "code",
   "execution_count": 27,
   "metadata": {},
   "outputs": [
    {
     "data": {
      "text/plain": [
       "{'data': {'Aggregate': {'Passage': [{'meta': {'count': 1}}]}}}"
      ]
     },
     "execution_count": 27,
     "metadata": {},
     "output_type": "execute_result"
    }
   ],
   "source": [
    "client.query.aggregate(\"passage\").with_meta_count().do()"
   ]
  },
  {
   "cell_type": "code",
   "execution_count": 28,
   "metadata": {},
   "outputs": [],
   "source": [
    "y = (\n",
    "    client.query.get(\"passage\", [\"content\"])\n",
    "    .with_near_text({\"concepts\": [\"animal\"]})\n",
    "    .with_additional([\"vector\", \"distance\", \"id\"])\n",
    "    .do()\n",
    ")"
   ]
  },
  {
   "cell_type": "code",
   "execution_count": 32,
   "metadata": {},
   "outputs": [
    {
     "data": {
      "text/plain": [
       "{'data': {'Get': {'Passage': [{'_additional': {'distance': -0.87897265,\n",
       "      'id': 'bd2e916d-1e72-4282-89a3-3c28f8d35778',\n",
       "      'vector': [-0.330512,\n",
       "       -0.5551501,\n",
       "       0.5713861,\n",
       "       -0.55120754,\n",
       "       -0.56681365,\n",
       "       -0.1284562,\n",
       "       0.84872055,\n",
       "       -0.20482332,\n",
       "       0.72912794,\n",
       "       -0.5411461,\n",
       "       -0.74979305,\n",
       "       -0.6650699,\n",
       "       -0.40830395,\n",
       "       0.11752158,\n",
       "       0.07209335,\n",
       "       0.9723168,\n",
       "       0.5628617,\n",
       "       -0.7848689,\n",
       "       0.33852035,\n",
       "       1.121164,\n",
       "       1.5043601,\n",
       "       1.4968308,\n",
       "       1.2595344,\n",
       "       -1.3583002,\n",
       "       -0.41837773,\n",
       "       -1.8523325,\n",
       "       -0.12974942,\n",
       "       -0.6417205,\n",
       "       0.6850843,\n",
       "       1.2277026,\n",
       "       -0.5807784,\n",
       "       0.08673872,\n",
       "       -0.19425073,\n",
       "       -0.39245838,\n",
       "       -0.049770813,\n",
       "       0.28685445,\n",
       "       0.52892125,\n",
       "       0.18966648,\n",
       "       -0.8804232,\n",
       "       -0.017353758,\n",
       "       -0.6024761,\n",
       "       0.8758074,\n",
       "       0.583739,\n",
       "       -0.50723875,\n",
       "       0.2959907,\n",
       "       -0.43232155,\n",
       "       -0.11532179,\n",
       "       -0.7717927,\n",
       "       0.3938331,\n",
       "       0.8190408,\n",
       "       -1.8458298,\n",
       "       -2.0163636,\n",
       "       0.23912483,\n",
       "       0.14419168,\n",
       "       -0.23182032,\n",
       "       0.517716,\n",
       "       -0.34327868,\n",
       "       -0.81965077,\n",
       "       -0.8671793,\n",
       "       1.3128422,\n",
       "       0.5167078,\n",
       "       0.4903874,\n",
       "       -0.74322,\n",
       "       0.8290077,\n",
       "       1.3873112,\n",
       "       -0.8285413,\n",
       "       0.34699,\n",
       "       -0.07148689,\n",
       "       -0.6252933,\n",
       "       -1.132572,\n",
       "       -0.049804218,\n",
       "       0.40603107,\n",
       "       -1.0164919,\n",
       "       -0.033631325,\n",
       "       -0.2082411,\n",
       "       -0.85502726,\n",
       "       -0.6419836,\n",
       "       0.82712674,\n",
       "       -0.8327884,\n",
       "       0.5362893,\n",
       "       -0.3401258,\n",
       "       -1.0565778,\n",
       "       0.037683155,\n",
       "       0.034009874,\n",
       "       -0.36402312,\n",
       "       0.0857902,\n",
       "       -0.49307516,\n",
       "       0.48701346,\n",
       "       0.6978523,\n",
       "       1.2391354,\n",
       "       -0.17176618,\n",
       "       -0.019168131,\n",
       "       -0.14388089,\n",
       "       0.24112506,\n",
       "       -0.49139658,\n",
       "       0.21697389,\n",
       "       0.30446813,\n",
       "       0.32815093,\n",
       "       0.49373725,\n",
       "       0.14686653,\n",
       "       0.9014628,\n",
       "       -0.03771899,\n",
       "       1.4034765,\n",
       "       0.42447916,\n",
       "       -0.18163255,\n",
       "       0.00510891,\n",
       "       0.13030106,\n",
       "       -0.8141857,\n",
       "       0.8455975,\n",
       "       -0.66205233,\n",
       "       -0.4599589,\n",
       "       0.21011,\n",
       "       0.29466128,\n",
       "       0.5699593,\n",
       "       0.08687727,\n",
       "       0.63634217,\n",
       "       0.44893914,\n",
       "       0.67180043,\n",
       "       1.302609,\n",
       "       0.81548035,\n",
       "       -0.47670308,\n",
       "       -0.4327223,\n",
       "       0.2548463,\n",
       "       -0.7802312,\n",
       "       1.194003,\n",
       "       0.14032708,\n",
       "       0.14166059,\n",
       "       -0.45759642]},\n",
       "     'content': 'Where an aircraft passes through a cloud, it can disperse the cloud in its path.'}]}}}"
      ]
     },
     "execution_count": 32,
     "metadata": {},
     "output_type": "execute_result"
    }
   ],
   "source": [
    "y"
   ]
  },
  {
   "cell_type": "code",
   "execution_count": 15,
   "metadata": {},
   "outputs": [
    {
     "data": {
      "text/plain": [
       "128"
      ]
     },
     "execution_count": 15,
     "metadata": {},
     "output_type": "execute_result"
    }
   ],
   "source": [
    "len(y[\"data\"][\"Get\"][\"Passage\"][0][\"_additional\"][\"vector\"])"
   ]
  },
  {
   "cell_type": "code",
   "execution_count": null,
   "metadata": {},
   "outputs": [],
   "source": []
  },
  {
   "cell_type": "code",
   "execution_count": null,
   "metadata": {},
   "outputs": [],
   "source": []
  },
  {
   "cell_type": "code",
   "execution_count": null,
   "metadata": {},
   "outputs": [],
   "source": []
  },
  {
   "cell_type": "code",
   "execution_count": null,
   "metadata": {},
   "outputs": [],
   "source": []
  },
  {
   "cell_type": "code",
   "execution_count": null,
   "metadata": {},
   "outputs": [],
   "source": []
  },
  {
   "cell_type": "code",
   "execution_count": null,
   "metadata": {},
   "outputs": [],
   "source": [
    "text = \"I am not sure about this.\"\n",
    "\n",
    "with client.batch as batch:\n",
    "    batch.batch_size = 50\n",
    "    batch.dynamic = True\n",
    "\n",
    "    batch.add_data_object({\"passage\": text}, class_name=\"passage\")\n"
   ]
  },
  {
   "cell_type": "code",
   "execution_count": null,
   "metadata": {},
   "outputs": [],
   "source": [
    "client.query.get(\"passage\", [\"passage\", \"vector\"]).do()\n"
   ]
  },
  {
   "cell_type": "code",
   "execution_count": null,
   "metadata": {},
   "outputs": [],
   "source": [
    "client.schema.delete_all()"
   ]
  },
  {
   "cell_type": "code",
   "execution_count": null,
   "metadata": {},
   "outputs": [],
   "source": [
    "client.schema.get(\"passage\")\n"
   ]
  },
  {
   "cell_type": "code",
   "execution_count": null,
   "metadata": {},
   "outputs": [],
   "source": []
  },
  {
   "cell_type": "code",
   "execution_count": null,
   "metadata": {},
   "outputs": [],
   "source": []
  },
  {
   "cell_type": "code",
   "execution_count": null,
   "metadata": {},
   "outputs": [],
   "source": []
  },
  {
   "cell_type": "code",
   "execution_count": null,
   "metadata": {},
   "outputs": [],
   "source": [
    "client.query.aggregate(\"Passage\").with_meta_count().do()\n"
   ]
  },
  {
   "cell_type": "code",
   "execution_count": null,
   "metadata": {},
   "outputs": [],
   "source": [
    "client.schema.get()[\"classes\"]\n"
   ]
  },
  {
   "cell_type": "code",
   "execution_count": null,
   "metadata": {},
   "outputs": [],
   "source": [
    "client.get_meta()[\"modules\"][\"text2vec-transformers\"].keys()"
   ]
  },
  {
   "cell_type": "code",
   "execution_count": null,
   "metadata": {},
   "outputs": [],
   "source": []
  }
 ],
 "metadata": {
  "kernelspec": {
   "display_name": "base",
   "language": "python",
   "name": "python3"
  },
  "language_info": {
   "codemirror_mode": {
    "name": "ipython",
    "version": 3
   },
   "file_extension": ".py",
   "mimetype": "text/x-python",
   "name": "python",
   "nbconvert_exporter": "python",
   "pygments_lexer": "ipython3",
   "version": "3.8.13"
  },
  "orig_nbformat": 4,
  "vscode": {
   "interpreter": {
    "hash": "d4d1e4263499bec80672ea0156c357c1ee493ec2b1c70f0acce89fc37c4a6abe"
   }
  }
 },
 "nbformat": 4,
 "nbformat_minor": 2
}
